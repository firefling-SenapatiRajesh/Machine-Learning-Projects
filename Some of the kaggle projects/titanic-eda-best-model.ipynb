{
 "cells": [
  {
   "cell_type": "code",
   "execution_count": 1,
   "id": "4b6fad3a",
   "metadata": {
    "_cell_guid": "b1076dfc-b9ad-4769-8c92-a6c4dae69d19",
    "_uuid": "8f2839f25d086af736a60e9eeb907d3b93b6e0e5",
    "execution": {
     "iopub.execute_input": "2023-01-11T08:09:39.337149Z",
     "iopub.status.busy": "2023-01-11T08:09:39.336088Z",
     "iopub.status.idle": "2023-01-11T08:09:39.351679Z",
     "shell.execute_reply": "2023-01-11T08:09:39.350759Z"
    },
    "papermill": {
     "duration": 0.033338,
     "end_time": "2023-01-11T08:09:39.353888",
     "exception": false,
     "start_time": "2023-01-11T08:09:39.320550",
     "status": "completed"
    },
    "tags": []
   },
   "outputs": [
    {
     "name": "stdout",
     "output_type": "stream",
     "text": [
      "/kaggle/input/spaceship-titanic/sample_submission.csv\n",
      "/kaggle/input/spaceship-titanic/train.csv\n",
      "/kaggle/input/spaceship-titanic/test.csv\n"
     ]
    }
   ],
   "source": [
    "# This Python 3 environment comes with many helpful analytics libraries installed\n",
    "# It is defined by the kaggle/python Docker image: https://github.com/kaggle/docker-python\n",
    "# For example, here's several helpful packages to load\n",
    "\n",
    "import numpy as np # linear algebra\n",
    "import pandas as pd # data processing, CSV file I/O (e.g. pd.read_csv)\n",
    "\n",
    "# Input data files are available in the read-only \"../input/\" directory\n",
    "# For example, running this (by clicking run or pressing Shift+Enter) will list all files under the input directory\n",
    "\n",
    "import os\n",
    "for dirname, _, filenames in os.walk('/kaggle/input'):\n",
    "    for filename in filenames:\n",
    "        print(os.path.join(dirname, filename))\n",
    "\n",
    "# You can write up to 20GB to the current directory (/kaggle/working/) that gets preserved as output when you create a version using \"Save & Run All\" \n",
    "# You can also write temporary files to /kaggle/temp/, but they won't be saved outside of the current session"
   ]
  },
  {
   "cell_type": "code",
   "execution_count": 2,
   "id": "805dbfef",
   "metadata": {
    "_kg_hide-output": true,
    "execution": {
     "iopub.execute_input": "2023-01-11T08:09:39.380229Z",
     "iopub.status.busy": "2023-01-11T08:09:39.379644Z",
     "iopub.status.idle": "2023-01-11T08:10:01.267748Z",
     "shell.execute_reply": "2023-01-11T08:10:01.266569Z"
    },
    "papermill": {
     "duration": 21.904,
     "end_time": "2023-01-11T08:10:01.270326",
     "exception": false,
     "start_time": "2023-01-11T08:09:39.366326",
     "status": "completed"
    },
    "tags": []
   },
   "outputs": [
    {
     "name": "stdout",
     "output_type": "stream",
     "text": [
      "Collecting lazypredict\r\n",
      "  Downloading lazypredict-0.2.12-py2.py3-none-any.whl (12 kB)\r\n",
      "Requirement already satisfied: pandas in /opt/conda/lib/python3.7/site-packages (from lazypredict) (1.3.5)\r\n",
      "Requirement already satisfied: xgboost in /opt/conda/lib/python3.7/site-packages (from lazypredict) (1.6.2)\r\n",
      "Requirement already satisfied: click in /opt/conda/lib/python3.7/site-packages (from lazypredict) (8.1.3)\r\n",
      "Requirement already satisfied: scikit-learn in /opt/conda/lib/python3.7/site-packages (from lazypredict) (1.0.2)\r\n",
      "Requirement already satisfied: joblib in /opt/conda/lib/python3.7/site-packages (from lazypredict) (1.0.1)\r\n",
      "Requirement already satisfied: lightgbm in /opt/conda/lib/python3.7/site-packages (from lazypredict) (3.3.2)\r\n",
      "Requirement already satisfied: tqdm in /opt/conda/lib/python3.7/site-packages (from lazypredict) (4.64.0)\r\n",
      "Requirement already satisfied: importlib-metadata in /opt/conda/lib/python3.7/site-packages (from click->lazypredict) (4.13.0)\r\n",
      "Requirement already satisfied: scipy in /opt/conda/lib/python3.7/site-packages (from lightgbm->lazypredict) (1.7.3)\r\n",
      "Requirement already satisfied: numpy in /opt/conda/lib/python3.7/site-packages (from lightgbm->lazypredict) (1.21.6)\r\n",
      "Requirement already satisfied: wheel in /opt/conda/lib/python3.7/site-packages (from lightgbm->lazypredict) (0.37.1)\r\n",
      "Requirement already satisfied: threadpoolctl>=2.0.0 in /opt/conda/lib/python3.7/site-packages (from scikit-learn->lazypredict) (3.1.0)\r\n",
      "Requirement already satisfied: python-dateutil>=2.7.3 in /opt/conda/lib/python3.7/site-packages (from pandas->lazypredict) (2.8.2)\r\n",
      "Requirement already satisfied: pytz>=2017.3 in /opt/conda/lib/python3.7/site-packages (from pandas->lazypredict) (2022.1)\r\n",
      "Requirement already satisfied: six>=1.5 in /opt/conda/lib/python3.7/site-packages (from python-dateutil>=2.7.3->pandas->lazypredict) (1.15.0)\r\n",
      "Requirement already satisfied: typing-extensions>=3.6.4 in /opt/conda/lib/python3.7/site-packages (from importlib-metadata->click->lazypredict) (4.1.1)\r\n",
      "Requirement already satisfied: zipp>=0.5 in /opt/conda/lib/python3.7/site-packages (from importlib-metadata->click->lazypredict) (3.8.0)\r\n",
      "Installing collected packages: lazypredict\r\n",
      "Successfully installed lazypredict-0.2.12\r\n",
      "\u001b[33mWARNING: Running pip as the 'root' user can result in broken permissions and conflicting behaviour with the system package manager. It is recommended to use a virtual environment instead: https://pip.pypa.io/warnings/venv\u001b[0m\u001b[33m\r\n",
      "\u001b[0mRequirement already satisfied: pandas in /opt/conda/lib/python3.7/site-packages (1.3.5)\r\n",
      "Requirement already satisfied: python-dateutil>=2.7.3 in /opt/conda/lib/python3.7/site-packages (from pandas) (2.8.2)\r\n",
      "Requirement already satisfied: pytz>=2017.3 in /opt/conda/lib/python3.7/site-packages (from pandas) (2022.1)\r\n",
      "Requirement already satisfied: numpy>=1.17.3 in /opt/conda/lib/python3.7/site-packages (from pandas) (1.21.6)\r\n",
      "Requirement already satisfied: six>=1.5 in /opt/conda/lib/python3.7/site-packages (from python-dateutil>=2.7.3->pandas) (1.15.0)\r\n",
      "\u001b[33mWARNING: Running pip as the 'root' user can result in broken permissions and conflicting behaviour with the system package manager. It is recommended to use a virtual environment instead: https://pip.pypa.io/warnings/venv\u001b[0m\u001b[33m\r\n",
      "\u001b[0m"
     ]
    }
   ],
   "source": [
    "from IPython.display import clear_output\n",
    "!pip3 install -U lazypredict\n",
    "!pip3 install -U pandas #Upgrading pandas"
   ]
  },
  {
   "cell_type": "code",
   "execution_count": 3,
   "id": "ec5adeec",
   "metadata": {
    "execution": {
     "iopub.execute_input": "2023-01-11T08:10:01.299301Z",
     "iopub.status.busy": "2023-01-11T08:10:01.298346Z",
     "iopub.status.idle": "2023-01-11T08:10:04.717769Z",
     "shell.execute_reply": "2023-01-11T08:10:04.716815Z"
    },
    "papermill": {
     "duration": 3.437301,
     "end_time": "2023-01-11T08:10:04.720931",
     "exception": false,
     "start_time": "2023-01-11T08:10:01.283630",
     "status": "completed"
    },
    "tags": []
   },
   "outputs": [
    {
     "data": {
      "text/html": [
       "<style type='text/css'>\n",
       ".datatable table.frame { margin-bottom: 0; }\n",
       ".datatable table.frame thead { border-bottom: none; }\n",
       ".datatable table.frame tr.coltypes td {  color: #FFFFFF;  line-height: 6px;  padding: 0 0.5em;}\n",
       ".datatable .bool    { background: #DDDD99; }\n",
       ".datatable .object  { background: #565656; }\n",
       ".datatable .int     { background: #5D9E5D; }\n",
       ".datatable .float   { background: #4040CC; }\n",
       ".datatable .str     { background: #CC4040; }\n",
       ".datatable .time    { background: #40CC40; }\n",
       ".datatable .row_index {  background: var(--jp-border-color3);  border-right: 1px solid var(--jp-border-color0);  color: var(--jp-ui-font-color3);  font-size: 9px;}\n",
       ".datatable .frame tbody td { text-align: left; }\n",
       ".datatable .frame tr.coltypes .row_index {  background: var(--jp-border-color0);}\n",
       ".datatable th:nth-child(2) { padding-left: 12px; }\n",
       ".datatable .hellipsis {  color: var(--jp-cell-editor-border-color);}\n",
       ".datatable .vellipsis {  background: var(--jp-layout-color0);  color: var(--jp-cell-editor-border-color);}\n",
       ".datatable .na {  color: var(--jp-cell-editor-border-color);  font-size: 80%;}\n",
       ".datatable .sp {  opacity: 0.25;}\n",
       ".datatable .footer { font-size: 9px; }\n",
       ".datatable .frame_dimensions {  background: var(--jp-border-color3);  border-top: 1px solid var(--jp-border-color0);  color: var(--jp-ui-font-color3);  display: inline-block;  opacity: 0.6;  padding: 1px 10px 1px 5px;}\n",
       "</style>\n"
      ],
      "text/plain": [
       "<IPython.core.display.HTML object>"
      ]
     },
     "metadata": {},
     "output_type": "display_data"
    }
   ],
   "source": [
    "import seaborn as sns\n",
    "import matplotlib.pyplot as plt\n",
    "%matplotlib inline\n",
    "import plotly.express as px\n",
    "import plotly.graph_objects as go\n",
    "from sklearn.metrics import accuracy_score\n",
    "from sklearn.preprocessing import LabelEncoder\n",
    "from sklearn.model_selection import StratifiedKFold, train_test_split\n",
    "\n",
    "\n",
    "from lightgbm import LGBMClassifier\n",
    "import lazypredict\n",
    "from lazypredict.Supervised import LazyClassifier\n",
    "\n",
    "import time\n",
    "import warnings\n",
    "warnings.filterwarnings('ignore')"
   ]
  },
  {
   "cell_type": "code",
   "execution_count": 4,
   "id": "e9903c81",
   "metadata": {
    "execution": {
     "iopub.execute_input": "2023-01-11T08:10:04.767223Z",
     "iopub.status.busy": "2023-01-11T08:10:04.766717Z",
     "iopub.status.idle": "2023-01-11T08:10:04.859197Z",
     "shell.execute_reply": "2023-01-11T08:10:04.858215Z"
    },
    "papermill": {
     "duration": 0.119084,
     "end_time": "2023-01-11T08:10:04.862204",
     "exception": false,
     "start_time": "2023-01-11T08:10:04.743120",
     "status": "completed"
    },
    "tags": []
   },
   "outputs": [],
   "source": [
    "train=pd.read_csv('/kaggle/input/spaceship-titanic/train.csv')\n",
    "test=pd.read_csv('/kaggle/input/spaceship-titanic/test.csv')\n",
    "sample=pd.read_csv('/kaggle/input/spaceship-titanic/sample_submission.csv')"
   ]
  },
  {
   "cell_type": "markdown",
   "id": "471a7c07",
   "metadata": {
    "papermill": {
     "duration": 0.02554,
     "end_time": "2023-01-11T08:10:04.910461",
     "exception": false,
     "start_time": "2023-01-11T08:10:04.884921",
     "status": "completed"
    },
    "tags": []
   },
   "source": [
    "# 1. How big is the data?"
   ]
  },
  {
   "cell_type": "code",
   "execution_count": 5,
   "id": "68e4ec63",
   "metadata": {
    "execution": {
     "iopub.execute_input": "2023-01-11T08:10:04.960165Z",
     "iopub.status.busy": "2023-01-11T08:10:04.959222Z",
     "iopub.status.idle": "2023-01-11T08:10:04.984729Z",
     "shell.execute_reply": "2023-01-11T08:10:04.983605Z"
    },
    "papermill": {
     "duration": 0.053388,
     "end_time": "2023-01-11T08:10:04.987643",
     "exception": false,
     "start_time": "2023-01-11T08:10:04.934255",
     "status": "completed"
    },
    "tags": []
   },
   "outputs": [
    {
     "name": "stdout",
     "output_type": "stream",
     "text": [
      "\u001b[94mNumber of rows in train data: 8693\n",
      "\u001b[94mNumber of columns in train data: 14\n",
      "\u001b[94mNumber of values in train data: 119378\n",
      "\u001b[94mNumber missing values in train data: 2324\n"
     ]
    }
   ],
   "source": [
    "print(f'\\033[94mNumber of rows in train data: {train.shape[0]}')\n",
    "print(f'\\033[94mNumber of columns in train data: {train.shape[1]}')\n",
    "print(f'\\033[94mNumber of values in train data: {train.count().sum()}')\n",
    "print(f'\\033[94mNumber missing values in train data: {sum(train.isna().sum())}')"
   ]
  },
  {
   "cell_type": "markdown",
   "id": "d0192b82",
   "metadata": {
    "papermill": {
     "duration": 0.022343,
     "end_time": "2023-01-11T08:10:05.033236",
     "exception": false,
     "start_time": "2023-01-11T08:10:05.010893",
     "status": "completed"
    },
    "tags": []
   },
   "source": [
    "# 2. How does the data look like?"
   ]
  },
  {
   "cell_type": "code",
   "execution_count": 6,
   "id": "45cb692a",
   "metadata": {
    "execution": {
     "iopub.execute_input": "2023-01-11T08:10:05.079651Z",
     "iopub.status.busy": "2023-01-11T08:10:05.079191Z",
     "iopub.status.idle": "2023-01-11T08:10:05.117429Z",
     "shell.execute_reply": "2023-01-11T08:10:05.116537Z"
    },
    "papermill": {
     "duration": 0.067418,
     "end_time": "2023-01-11T08:10:05.123053",
     "exception": false,
     "start_time": "2023-01-11T08:10:05.055635",
     "status": "completed"
    },
    "tags": []
   },
   "outputs": [
    {
     "data": {
      "text/html": [
       "<div>\n",
       "<style scoped>\n",
       "    .dataframe tbody tr th:only-of-type {\n",
       "        vertical-align: middle;\n",
       "    }\n",
       "\n",
       "    .dataframe tbody tr th {\n",
       "        vertical-align: top;\n",
       "    }\n",
       "\n",
       "    .dataframe thead th {\n",
       "        text-align: right;\n",
       "    }\n",
       "</style>\n",
       "<table border=\"1\" class=\"dataframe\">\n",
       "  <thead>\n",
       "    <tr style=\"text-align: right;\">\n",
       "      <th></th>\n",
       "      <th>PassengerId</th>\n",
       "      <th>HomePlanet</th>\n",
       "      <th>CryoSleep</th>\n",
       "      <th>Cabin</th>\n",
       "      <th>Destination</th>\n",
       "      <th>Age</th>\n",
       "      <th>VIP</th>\n",
       "      <th>RoomService</th>\n",
       "      <th>FoodCourt</th>\n",
       "      <th>ShoppingMall</th>\n",
       "      <th>Spa</th>\n",
       "      <th>VRDeck</th>\n",
       "      <th>Name</th>\n",
       "      <th>Transported</th>\n",
       "    </tr>\n",
       "  </thead>\n",
       "  <tbody>\n",
       "    <tr>\n",
       "      <th>6937</th>\n",
       "      <td>7359_01</td>\n",
       "      <td>Earth</td>\n",
       "      <td>False</td>\n",
       "      <td>E/492/S</td>\n",
       "      <td>PSO J318.5-22</td>\n",
       "      <td>21.00</td>\n",
       "      <td>False</td>\n",
       "      <td>0.00</td>\n",
       "      <td>434.00</td>\n",
       "      <td>0.00</td>\n",
       "      <td>75.00</td>\n",
       "      <td>135.00</td>\n",
       "      <td>Ellana Jenson</td>\n",
       "      <td>True</td>\n",
       "    </tr>\n",
       "    <tr>\n",
       "      <th>7708</th>\n",
       "      <td>8225_01</td>\n",
       "      <td>Mars</td>\n",
       "      <td>False</td>\n",
       "      <td>NaN</td>\n",
       "      <td>TRAPPIST-1e</td>\n",
       "      <td>15.00</td>\n",
       "      <td>False</td>\n",
       "      <td>85.00</td>\n",
       "      <td>0.00</td>\n",
       "      <td>1130.00</td>\n",
       "      <td>0.00</td>\n",
       "      <td>248.00</td>\n",
       "      <td>Heersh Nutty</td>\n",
       "      <td>False</td>\n",
       "    </tr>\n",
       "    <tr>\n",
       "      <th>648</th>\n",
       "      <td>0680_02</td>\n",
       "      <td>Earth</td>\n",
       "      <td>True</td>\n",
       "      <td>G/105/P</td>\n",
       "      <td>TRAPPIST-1e</td>\n",
       "      <td>7.00</td>\n",
       "      <td>False</td>\n",
       "      <td>0.00</td>\n",
       "      <td>0.00</td>\n",
       "      <td>0.00</td>\n",
       "      <td>0.00</td>\n",
       "      <td>0.00</td>\n",
       "      <td>Annard Garnes</td>\n",
       "      <td>False</td>\n",
       "    </tr>\n",
       "    <tr>\n",
       "      <th>6362</th>\n",
       "      <td>6729_02</td>\n",
       "      <td>Europa</td>\n",
       "      <td>True</td>\n",
       "      <td>A/82/S</td>\n",
       "      <td>55 Cancri e</td>\n",
       "      <td>48.00</td>\n",
       "      <td>False</td>\n",
       "      <td>0.00</td>\n",
       "      <td>0.00</td>\n",
       "      <td>0.00</td>\n",
       "      <td>0.00</td>\n",
       "      <td>0.00</td>\n",
       "      <td>Izarkar Dedometeel</td>\n",
       "      <td>True</td>\n",
       "    </tr>\n",
       "    <tr>\n",
       "      <th>7713</th>\n",
       "      <td>8229_01</td>\n",
       "      <td>Earth</td>\n",
       "      <td>True</td>\n",
       "      <td>G/1336/P</td>\n",
       "      <td>TRAPPIST-1e</td>\n",
       "      <td>15.00</td>\n",
       "      <td>False</td>\n",
       "      <td>0.00</td>\n",
       "      <td>0.00</td>\n",
       "      <td>0.00</td>\n",
       "      <td>0.00</td>\n",
       "      <td>0.00</td>\n",
       "      <td>Armene Patthews</td>\n",
       "      <td>True</td>\n",
       "    </tr>\n",
       "  </tbody>\n",
       "</table>\n",
       "</div>"
      ],
      "text/plain": [
       "     PassengerId HomePlanet CryoSleep     Cabin    Destination   Age    VIP  \\\n",
       "6937     7359_01      Earth     False   E/492/S  PSO J318.5-22 21.00  False   \n",
       "7708     8225_01       Mars     False       NaN    TRAPPIST-1e 15.00  False   \n",
       "648      0680_02      Earth      True   G/105/P    TRAPPIST-1e  7.00  False   \n",
       "6362     6729_02     Europa      True    A/82/S    55 Cancri e 48.00  False   \n",
       "7713     8229_01      Earth      True  G/1336/P    TRAPPIST-1e 15.00  False   \n",
       "\n",
       "      RoomService  FoodCourt  ShoppingMall   Spa  VRDeck                Name  \\\n",
       "6937         0.00     434.00          0.00 75.00  135.00       Ellana Jenson   \n",
       "7708        85.00       0.00       1130.00  0.00  248.00        Heersh Nutty   \n",
       "648          0.00       0.00          0.00  0.00    0.00       Annard Garnes   \n",
       "6362         0.00       0.00          0.00  0.00    0.00  Izarkar Dedometeel   \n",
       "7713         0.00       0.00          0.00  0.00    0.00     Armene Patthews   \n",
       "\n",
       "      Transported  \n",
       "6937         True  \n",
       "7708        False  \n",
       "648         False  \n",
       "6362         True  \n",
       "7713         True  "
      ]
     },
     "execution_count": 6,
     "metadata": {},
     "output_type": "execute_result"
    }
   ],
   "source": [
    "train.sample(5)"
   ]
  },
  {
   "cell_type": "markdown",
   "id": "4eac97ee",
   "metadata": {
    "papermill": {
     "duration": 0.027141,
     "end_time": "2023-01-11T08:10:05.182662",
     "exception": false,
     "start_time": "2023-01-11T08:10:05.155521",
     "status": "completed"
    },
    "tags": []
   },
   "source": [
    "* Transported is the target variable"
   ]
  },
  {
   "cell_type": "markdown",
   "id": "a4edbb99",
   "metadata": {
    "papermill": {
     "duration": 0.02886,
     "end_time": "2023-01-11T08:10:05.245072",
     "exception": false,
     "start_time": "2023-01-11T08:10:05.216212",
     "status": "completed"
    },
    "tags": []
   },
   "source": [
    "# 3. What is the data type of cols?"
   ]
  },
  {
   "cell_type": "code",
   "execution_count": 7,
   "id": "ce95be2f",
   "metadata": {
    "execution": {
     "iopub.execute_input": "2023-01-11T08:10:05.308717Z",
     "iopub.status.busy": "2023-01-11T08:10:05.307895Z",
     "iopub.status.idle": "2023-01-11T08:10:05.360456Z",
     "shell.execute_reply": "2023-01-11T08:10:05.354258Z"
    },
    "papermill": {
     "duration": 0.090305,
     "end_time": "2023-01-11T08:10:05.364020",
     "exception": false,
     "start_time": "2023-01-11T08:10:05.273715",
     "status": "completed"
    },
    "tags": []
   },
   "outputs": [
    {
     "name": "stdout",
     "output_type": "stream",
     "text": [
      "<class 'pandas.core.frame.DataFrame'>\n",
      "RangeIndex: 8693 entries, 0 to 8692\n",
      "Data columns (total 14 columns):\n",
      " #   Column        Non-Null Count  Dtype  \n",
      "---  ------        --------------  -----  \n",
      " 0   PassengerId   8693 non-null   object \n",
      " 1   HomePlanet    8492 non-null   object \n",
      " 2   CryoSleep     8476 non-null   object \n",
      " 3   Cabin         8494 non-null   object \n",
      " 4   Destination   8511 non-null   object \n",
      " 5   Age           8514 non-null   float64\n",
      " 6   VIP           8490 non-null   object \n",
      " 7   RoomService   8512 non-null   float64\n",
      " 8   FoodCourt     8510 non-null   float64\n",
      " 9   ShoppingMall  8485 non-null   float64\n",
      " 10  Spa           8510 non-null   float64\n",
      " 11  VRDeck        8505 non-null   float64\n",
      " 12  Name          8493 non-null   object \n",
      " 13  Transported   8693 non-null   bool   \n",
      "dtypes: bool(1), float64(6), object(7)\n",
      "memory usage: 891.5+ KB\n"
     ]
    }
   ],
   "source": [
    "train.info()"
   ]
  },
  {
   "cell_type": "markdown",
   "id": "4c382449",
   "metadata": {
    "papermill": {
     "duration": 0.05584,
     "end_time": "2023-01-11T08:10:05.467413",
     "exception": false,
     "start_time": "2023-01-11T08:10:05.411573",
     "status": "completed"
    },
    "tags": []
   },
   "source": [
    "# 4. Are there any missing values?"
   ]
  },
  {
   "cell_type": "markdown",
   "id": "79ab57a3",
   "metadata": {
    "papermill": {
     "duration": 0.045931,
     "end_time": "2023-01-11T08:10:05.563286",
     "exception": false,
     "start_time": "2023-01-11T08:10:05.517355",
     "status": "completed"
    },
    "tags": []
   },
   "source": [
    "### except PassengerID and transported, all columns have null values\n",
    "### But no worries, all are less than 2.5%, we will deal them later"
   ]
  },
  {
   "cell_type": "code",
   "execution_count": 8,
   "id": "f2954d95",
   "metadata": {
    "execution": {
     "iopub.execute_input": "2023-01-11T08:10:05.616315Z",
     "iopub.status.busy": "2023-01-11T08:10:05.615623Z",
     "iopub.status.idle": "2023-01-11T08:10:05.635743Z",
     "shell.execute_reply": "2023-01-11T08:10:05.634678Z"
    },
    "papermill": {
     "duration": 0.04618,
     "end_time": "2023-01-11T08:10:05.638593",
     "exception": false,
     "start_time": "2023-01-11T08:10:05.592413",
     "status": "completed"
    },
    "tags": []
   },
   "outputs": [
    {
     "data": {
      "text/plain": [
       "CryoSleep      2.50\n",
       "ShoppingMall   2.39\n",
       "VIP            2.34\n",
       "HomePlanet     2.31\n",
       "Name           2.30\n",
       "Cabin          2.29\n",
       "VRDeck         2.16\n",
       "FoodCourt      2.11\n",
       "Spa            2.11\n",
       "Destination    2.09\n",
       "RoomService    2.08\n",
       "Age            2.06\n",
       "PassengerId    0.00\n",
       "Transported    0.00\n",
       "dtype: float64"
      ]
     },
     "execution_count": 8,
     "metadata": {},
     "output_type": "execute_result"
    }
   ],
   "source": [
    "(train.isnull().sum()/train.shape[0]*100).sort_values(ascending=False)"
   ]
  },
  {
   "cell_type": "code",
   "execution_count": 9,
   "id": "8eae68e0",
   "metadata": {
    "execution": {
     "iopub.execute_input": "2023-01-11T08:10:05.684000Z",
     "iopub.status.busy": "2023-01-11T08:10:05.683652Z",
     "iopub.status.idle": "2023-01-11T08:10:06.397681Z",
     "shell.execute_reply": "2023-01-11T08:10:06.396753Z"
    },
    "papermill": {
     "duration": 0.739302,
     "end_time": "2023-01-11T08:10:06.400384",
     "exception": false,
     "start_time": "2023-01-11T08:10:05.661082",
     "status": "completed"
    },
    "tags": []
   },
   "outputs": [
    {
     "data": {
      "text/plain": [
       "<AxesSubplot:>"
      ]
     },
     "execution_count": 9,
     "metadata": {},
     "output_type": "execute_result"
    },
    {
     "data": {
      "image/png": "[encoded data removed]",
      "text/plain": [
       "<Figure size 1800x720 with 2 Axes>"
      ]
     },
     "metadata": {
      "needs_background": "light"
     },
     "output_type": "display_data"
    }
   ],
   "source": [
    "import missingno as msno\n",
    "msno.matrix(train)"
   ]
  },
  {
   "cell_type": "code",
   "execution_count": 10,
   "id": "da8053a1",
   "metadata": {
    "execution": {
     "iopub.execute_input": "2023-01-11T08:10:06.432359Z",
     "iopub.status.busy": "2023-01-11T08:10:06.432050Z",
     "iopub.status.idle": "2023-01-11T08:10:07.507872Z",
     "shell.execute_reply": "2023-01-11T08:10:07.506804Z"
    },
    "papermill": {
     "duration": 1.094322,
     "end_time": "2023-01-11T08:10:07.510131",
     "exception": false,
     "start_time": "2023-01-11T08:10:06.415809",
     "status": "completed"
    },
    "tags": []
   },
   "outputs": [
    {
     "data": {
      "text/plain": [
       "<AxesSubplot:>"
      ]
     },
     "execution_count": 10,
     "metadata": {},
     "output_type": "execute_result"
    },
    {
     "data": {
      "image/png": "[encoded data removed]",
      "text/plain": [
       "<Figure size 1728x720 with 3 Axes>"
      ]
     },
     "metadata": {
      "needs_background": "light"
     },
     "output_type": "display_data"
    }
   ],
   "source": [
    "msno.bar(train)"
   ]
  },
  {
   "cell_type": "markdown",
   "id": "2fad0d28",
   "metadata": {
    "papermill": {
     "duration": 0.015974,
     "end_time": "2023-01-11T08:10:07.542550",
     "exception": false,
     "start_time": "2023-01-11T08:10:07.526576",
     "status": "completed"
    },
    "tags": []
   },
   "source": [
    "# 5. How does the data look mathematically?"
   ]
  },
  {
   "cell_type": "code",
   "execution_count": 11,
   "id": "4e855032",
   "metadata": {
    "execution": {
     "iopub.execute_input": "2023-01-11T08:10:07.575577Z",
     "iopub.status.busy": "2023-01-11T08:10:07.575234Z",
     "iopub.status.idle": "2023-01-11T08:10:07.606580Z",
     "shell.execute_reply": "2023-01-11T08:10:07.605444Z"
    },
    "papermill": {
     "duration": 0.050893,
     "end_time": "2023-01-11T08:10:07.609310",
     "exception": false,
     "start_time": "2023-01-11T08:10:07.558417",
     "status": "completed"
    },
    "tags": []
   },
   "outputs": [
    {
     "data": {
      "text/html": [
       "<div>\n",
       "<style scoped>\n",
       "    .dataframe tbody tr th:only-of-type {\n",
       "        vertical-align: middle;\n",
       "    }\n",
       "\n",
       "    .dataframe tbody tr th {\n",
       "        vertical-align: top;\n",
       "    }\n",
       "\n",
       "    .dataframe thead th {\n",
       "        text-align: right;\n",
       "    }\n",
       "</style>\n",
       "<table border=\"1\" class=\"dataframe\">\n",
       "  <thead>\n",
       "    <tr style=\"text-align: right;\">\n",
       "      <th></th>\n",
       "      <th>Age</th>\n",
       "      <th>RoomService</th>\n",
       "      <th>FoodCourt</th>\n",
       "      <th>ShoppingMall</th>\n",
       "      <th>Spa</th>\n",
       "      <th>VRDeck</th>\n",
       "    </tr>\n",
       "  </thead>\n",
       "  <tbody>\n",
       "    <tr>\n",
       "      <th>count</th>\n",
       "      <td>8514.00</td>\n",
       "      <td>8512.00</td>\n",
       "      <td>8510.00</td>\n",
       "      <td>8485.00</td>\n",
       "      <td>8510.00</td>\n",
       "      <td>8505.00</td>\n",
       "    </tr>\n",
       "    <tr>\n",
       "      <th>mean</th>\n",
       "      <td>28.83</td>\n",
       "      <td>224.69</td>\n",
       "      <td>458.08</td>\n",
       "      <td>173.73</td>\n",
       "      <td>311.14</td>\n",
       "      <td>304.85</td>\n",
       "    </tr>\n",
       "    <tr>\n",
       "      <th>std</th>\n",
       "      <td>14.49</td>\n",
       "      <td>666.72</td>\n",
       "      <td>1611.49</td>\n",
       "      <td>604.70</td>\n",
       "      <td>1136.71</td>\n",
       "      <td>1145.72</td>\n",
       "    </tr>\n",
       "    <tr>\n",
       "      <th>min</th>\n",
       "      <td>0.00</td>\n",
       "      <td>0.00</td>\n",
       "      <td>0.00</td>\n",
       "      <td>0.00</td>\n",
       "      <td>0.00</td>\n",
       "      <td>0.00</td>\n",
       "    </tr>\n",
       "    <tr>\n",
       "      <th>25%</th>\n",
       "      <td>19.00</td>\n",
       "      <td>0.00</td>\n",
       "      <td>0.00</td>\n",
       "      <td>0.00</td>\n",
       "      <td>0.00</td>\n",
       "      <td>0.00</td>\n",
       "    </tr>\n",
       "    <tr>\n",
       "      <th>50%</th>\n",
       "      <td>27.00</td>\n",
       "      <td>0.00</td>\n",
       "      <td>0.00</td>\n",
       "      <td>0.00</td>\n",
       "      <td>0.00</td>\n",
       "      <td>0.00</td>\n",
       "    </tr>\n",
       "    <tr>\n",
       "      <th>75%</th>\n",
       "      <td>38.00</td>\n",
       "      <td>47.00</td>\n",
       "      <td>76.00</td>\n",
       "      <td>27.00</td>\n",
       "      <td>59.00</td>\n",
       "      <td>46.00</td>\n",
       "    </tr>\n",
       "    <tr>\n",
       "      <th>max</th>\n",
       "      <td>79.00</td>\n",
       "      <td>14327.00</td>\n",
       "      <td>29813.00</td>\n",
       "      <td>23492.00</td>\n",
       "      <td>22408.00</td>\n",
       "      <td>24133.00</td>\n",
       "    </tr>\n",
       "  </tbody>\n",
       "</table>\n",
       "</div>"
      ],
      "text/plain": [
       "          Age  RoomService  FoodCourt  ShoppingMall      Spa   VRDeck\n",
       "count 8514.00      8512.00    8510.00       8485.00  8510.00  8505.00\n",
       "mean    28.83       224.69     458.08        173.73   311.14   304.85\n",
       "std     14.49       666.72    1611.49        604.70  1136.71  1145.72\n",
       "min      0.00         0.00       0.00          0.00     0.00     0.00\n",
       "25%     19.00         0.00       0.00          0.00     0.00     0.00\n",
       "50%     27.00         0.00       0.00          0.00     0.00     0.00\n",
       "75%     38.00        47.00      76.00         27.00    59.00    46.00\n",
       "max     79.00     14327.00   29813.00      23492.00 22408.00 24133.00"
      ]
     },
     "execution_count": 11,
     "metadata": {},
     "output_type": "execute_result"
    }
   ],
   "source": [
    "train.describe()"
   ]
  },
  {
   "cell_type": "markdown",
   "id": "e7bdbe93",
   "metadata": {
    "papermill": {
     "duration": 0.015753,
     "end_time": "2023-01-11T08:10:07.642268",
     "exception": false,
     "start_time": "2023-01-11T08:10:07.626515",
     "status": "completed"
    },
    "tags": []
   },
   "source": [
    "* Minimum age is zero? Looks odd to me\n",
    "* Out of all services, FOOD court bill is high, shopping bill is less(for a obvious reasons in space)\n",
    "* But it seems some people have never spent a penny on any service.Is it because of cryosleep.We never know!!!50% of the people didn't spend a penny\n",
    "* The average age of passengers on board is 29, the oldest passenger is 79 years old\n",
    "* The average cost of passengers for the use of shopping mall is 174, and the maximum cost is 23492\n",
    "* The average cost of passengers for the use of spa is 311, and the maximum cost is 22408\n",
    "* The average cost of passengers for the use of VR deck is 305, and the maximum cost is 24133\n",
    "* The average cost of passengers for the use of room services is 225, and the maximum cost is 14327\n",
    "* The average cost of passengers for the use of food court is 458, and the maximum cost is 29813"
   ]
  },
  {
   "cell_type": "markdown",
   "id": "1b09e899",
   "metadata": {
    "papermill": {
     "duration": 0.015079,
     "end_time": "2023-01-11T08:10:07.672541",
     "exception": false,
     "start_time": "2023-01-11T08:10:07.657462",
     "status": "completed"
    },
    "tags": []
   },
   "source": [
    "## How many passengers have not spent any money?"
   ]
  },
  {
   "cell_type": "code",
   "execution_count": 12,
   "id": "2ce251ec",
   "metadata": {
    "execution": {
     "iopub.execute_input": "2023-01-11T08:10:07.704056Z",
     "iopub.status.busy": "2023-01-11T08:10:07.703556Z",
     "iopub.status.idle": "2023-01-11T08:10:07.716198Z",
     "shell.execute_reply": "2023-01-11T08:10:07.714506Z"
    },
    "papermill": {
     "duration": 0.031195,
     "end_time": "2023-01-11T08:10:07.718545",
     "exception": false,
     "start_time": "2023-01-11T08:10:07.687350",
     "status": "completed"
    },
    "tags": []
   },
   "outputs": [
    {
     "name": "stdout",
     "output_type": "stream",
     "text": [
      "There are 3247 passengers on the board of the spaceship who have not spent money, their average age is 25.0\n"
     ]
    }
   ],
   "source": [
    "not_billed_data = train[(train[\"RoomService\"] == 0)\n",
    "                         & (train[\"Spa\"] == 0)\n",
    "                         & (train[\"FoodCourt\"] == 0) \n",
    "                         & (train[\"ShoppingMall\"] == 0)\n",
    "                         & (train[\"VRDeck\"] == 0)]\n",
    "\n",
    "mean_age = not_billed_data[\"Age\"].mean().round()\n",
    "print(\"There are {0} passengers on the board of the spaceship who have not spent money, their average age is {1}\"\n",
    "      .format(not_billed_data.shape[0], mean_age))"
   ]
  },
  {
   "cell_type": "markdown",
   "id": "90b606db",
   "metadata": {
    "papermill": {
     "duration": 0.015465,
     "end_time": "2023-01-11T08:10:07.750340",
     "exception": false,
     "start_time": "2023-01-11T08:10:07.734875",
     "status": "completed"
    },
    "tags": []
   },
   "source": [
    "# 6. Are there duplicate values?"
   ]
  },
  {
   "cell_type": "code",
   "execution_count": 13,
   "id": "09c8630c",
   "metadata": {
    "execution": {
     "iopub.execute_input": "2023-01-11T08:10:07.782155Z",
     "iopub.status.busy": "2023-01-11T08:10:07.781336Z",
     "iopub.status.idle": "2023-01-11T08:10:07.798040Z",
     "shell.execute_reply": "2023-01-11T08:10:07.796999Z"
    },
    "papermill": {
     "duration": 0.034761,
     "end_time": "2023-01-11T08:10:07.800126",
     "exception": false,
     "start_time": "2023-01-11T08:10:07.765365",
     "status": "completed"
    },
    "tags": []
   },
   "outputs": [
    {
     "data": {
      "text/plain": [
       "0"
      ]
     },
     "execution_count": 13,
     "metadata": {},
     "output_type": "execute_result"
    }
   ],
   "source": [
    "train.duplicated().sum()"
   ]
  },
  {
   "cell_type": "markdown",
   "id": "2506f0af",
   "metadata": {
    "papermill": {
     "duration": 0.015044,
     "end_time": "2023-01-11T08:10:07.830571",
     "exception": false,
     "start_time": "2023-01-11T08:10:07.815527",
     "status": "completed"
    },
    "tags": []
   },
   "source": [
    "Great!!! Zero duplicates!!!"
   ]
  },
  {
   "cell_type": "markdown",
   "id": "dc94a45c",
   "metadata": {
    "papermill": {
     "duration": 0.0151,
     "end_time": "2023-01-11T08:10:07.860768",
     "exception": false,
     "start_time": "2023-01-11T08:10:07.845668",
     "status": "completed"
    },
    "tags": []
   },
   "source": [
    "# 7. How is the correlation between cols?"
   ]
  },
  {
   "cell_type": "code",
   "execution_count": 14,
   "id": "1e02a991",
   "metadata": {
    "execution": {
     "iopub.execute_input": "2023-01-11T08:10:07.892440Z",
     "iopub.status.busy": "2023-01-11T08:10:07.892034Z",
     "iopub.status.idle": "2023-01-11T08:10:07.902021Z",
     "shell.execute_reply": "2023-01-11T08:10:07.900897Z"
    },
    "papermill": {
     "duration": 0.028012,
     "end_time": "2023-01-11T08:10:07.904191",
     "exception": false,
     "start_time": "2023-01-11T08:10:07.876179",
     "status": "completed"
    },
    "tags": []
   },
   "outputs": [
    {
     "data": {
      "text/plain": [
       "Age            -0.08\n",
       "RoomService    -0.24\n",
       "FoodCourt       0.05\n",
       "ShoppingMall    0.01\n",
       "Spa            -0.22\n",
       "VRDeck         -0.21\n",
       "Transported     1.00\n",
       "Name: Transported, dtype: float64"
      ]
     },
     "execution_count": 14,
     "metadata": {},
     "output_type": "execute_result"
    }
   ],
   "source": [
    "train.corr()['Transported']"
   ]
  },
  {
   "cell_type": "markdown",
   "id": "ee81e7ba",
   "metadata": {
    "papermill": {
     "duration": 0.014985,
     "end_time": "2023-01-11T08:10:07.934939",
     "exception": false,
     "start_time": "2023-01-11T08:10:07.919954",
     "status": "completed"
    },
    "tags": []
   },
   "source": [
    "* People who have spent much on services,thier transportation chances are low\n",
    "* As Age is going up, chances of transportation is low\n",
    "* Let's find out in the next section"
   ]
  },
  {
   "cell_type": "markdown",
   "id": "ba81e884",
   "metadata": {
    "papermill": {
     "duration": 0.015088,
     "end_time": "2023-01-11T08:10:07.965211",
     "exception": false,
     "start_time": "2023-01-11T08:10:07.950123",
     "status": "completed"
    },
    "tags": []
   },
   "source": [
    "# Let's visualise to get more insights"
   ]
  },
  {
   "cell_type": "markdown",
   "id": "fa0a126d",
   "metadata": {
    "papermill": {
     "duration": 0.015099,
     "end_time": "2023-01-11T08:10:07.995552",
     "exception": false,
     "start_time": "2023-01-11T08:10:07.980453",
     "status": "completed"
    },
    "tags": []
   },
   "source": [
    "# 1. Categorical Data"
   ]
  },
  {
   "cell_type": "code",
   "execution_count": 15,
   "id": "426ecb00",
   "metadata": {
    "execution": {
     "iopub.execute_input": "2023-01-11T08:10:08.028740Z",
     "iopub.status.busy": "2023-01-11T08:10:08.027176Z",
     "iopub.status.idle": "2023-01-11T08:10:08.346498Z",
     "shell.execute_reply": "2023-01-11T08:10:08.344865Z"
    },
    "papermill": {
     "duration": 0.339432,
     "end_time": "2023-01-11T08:10:08.350063",
     "exception": false,
     "start_time": "2023-01-11T08:10:08.010631",
     "status": "completed"
    },
    "tags": []
   },
   "outputs": [
    {
     "data": {
      "image/png": "[encoded data removed]",
      "text/plain": [
       "<Figure size 432x288 with 1 Axes>"
      ]
     },
     "metadata": {
      "needs_background": "light"
     },
     "output_type": "display_data"
    },
    {
     "data": {
      "image/png": "[encoded data removed]",
      "text/plain": [
       "<Figure size 432x288 with 1 Axes>"
      ]
     },
     "metadata": {},
     "output_type": "display_data"
    }
   ],
   "source": [
    "sns.countplot(x=train['HomePlanet'],hue=train['Transported'])\n",
    "plt.title('HomePlanet vs Transported')\n",
    "plt.show()\n",
    "train.HomePlanet.value_counts().plot(kind='pie',autopct='%.2f')\n",
    "plt.show()"
   ]
  },
  {
   "cell_type": "markdown",
   "id": "5d27d2a1",
   "metadata": {
    "papermill": {
     "duration": 0.04248,
     "end_time": "2023-01-11T08:10:08.436068",
     "exception": false,
     "start_time": "2023-01-11T08:10:08.393588",
     "status": "completed"
    },
    "tags": []
   },
   "source": [
    "* Passensgers are more from Earth(54.19%)\n",
    "* Passengers from Europa found to be Transported more where as people from mars almost ~50% chances of transportation"
   ]
  },
  {
   "cell_type": "code",
   "execution_count": 16,
   "id": "eee13330",
   "metadata": {
    "execution": {
     "iopub.execute_input": "2023-01-11T08:10:08.471896Z",
     "iopub.status.busy": "2023-01-11T08:10:08.471575Z",
     "iopub.status.idle": "2023-01-11T08:10:08.867204Z",
     "shell.execute_reply": "2023-01-11T08:10:08.865783Z"
    },
    "papermill": {
     "duration": 0.414868,
     "end_time": "2023-01-11T08:10:08.869806",
     "exception": false,
     "start_time": "2023-01-11T08:10:08.454938",
     "status": "completed"
    },
    "tags": []
   },
   "outputs": [
    {
     "data": {
      "image/png": "[encoded data removed]",
      "text/plain": [
       "<Figure size 427.125x360 with 1 Axes>"
      ]
     },
     "metadata": {
      "needs_background": "light"
     },
     "output_type": "display_data"
    },
    {
     "data": {
      "image/png": "[encoded data removed]",
      "text/plain": [
       "<Figure size 432x288 with 1 Axes>"
      ]
     },
     "metadata": {},
     "output_type": "display_data"
    }
   ],
   "source": [
    "x,y = 'CryoSleep', 'Transported'\n",
    "\n",
    "(train.groupby(x)[y].value_counts(normalize=True).mul(100).rename('percent').reset_index().pipe((sns.catplot,'data'), x=x,y='percent',hue=y,kind='bar'))\n",
    "plt.title('CryoSleep vs Transported')\n",
    "plt.show()\n",
    "# sns.countplot(x=train['CryoSleep'],hue=train['Transported'])\n",
    "# plt.title('CryoSleep vs Transported')\n",
    "# plt.show()\n",
    "train.CryoSleep.value_counts().plot(kind='pie',autopct='%.2f')\n",
    "plt.show()"
   ]
  },
  {
   "cell_type": "markdown",
   "id": "91d1cb36",
   "metadata": {
    "papermill": {
     "duration": 0.045195,
     "end_time": "2023-01-11T08:10:08.961761",
     "exception": false,
     "start_time": "2023-01-11T08:10:08.916566",
     "status": "completed"
    },
    "tags": []
   },
   "source": [
    "* Whoever under crosleep have 80% chances of being transported\n",
    "* Only 35.83% of passengers found to be under cryosleep\n",
    "* 28.66% of passengers are found to be Transported over all"
   ]
  },
  {
   "cell_type": "code",
   "execution_count": 17,
   "id": "e92e87aa",
   "metadata": {
    "execution": {
     "iopub.execute_input": "2023-01-11T08:10:09.000491Z",
     "iopub.status.busy": "2023-01-11T08:10:09.000187Z",
     "iopub.status.idle": "2023-01-11T08:10:09.315851Z",
     "shell.execute_reply": "2023-01-11T08:10:09.314790Z"
    },
    "papermill": {
     "duration": 0.335115,
     "end_time": "2023-01-11T08:10:09.318088",
     "exception": false,
     "start_time": "2023-01-11T08:10:08.982973",
     "status": "completed"
    },
    "tags": []
   },
   "outputs": [
    {
     "data": {
      "image/png": "[encoded data removed]",
      "text/plain": [
       "<Figure size 427.125x360 with 1 Axes>"
      ]
     },
     "metadata": {
      "needs_background": "light"
     },
     "output_type": "display_data"
    }
   ],
   "source": [
    "x,y = 'Destination', 'Transported'\n",
    "\n",
    "(train.groupby(x)[y].value_counts(normalize=True).mul(100).rename('percent').reset_index().pipe((sns.catplot,'data'), x=x,y='percent',hue=y,kind='bar'))\n",
    "plt.show()"
   ]
  },
  {
   "cell_type": "markdown",
   "id": "a77c0ca9",
   "metadata": {
    "papermill": {
     "duration": 0.016637,
     "end_time": "2023-01-11T08:10:09.351938",
     "exception": false,
     "start_time": "2023-01-11T08:10:09.335301",
     "status": "completed"
    },
    "tags": []
   },
   "source": [
    "* Passengers have high chances of getting transported to 55 Cancri destination, followed by PSO and Trappist"
   ]
  },
  {
   "cell_type": "markdown",
   "id": "881a02f6",
   "metadata": {
    "papermill": {
     "duration": 0.016088,
     "end_time": "2023-01-11T08:10:09.384314",
     "exception": false,
     "start_time": "2023-01-11T08:10:09.368226",
     "status": "completed"
    },
    "tags": []
   },
   "source": [
    "## Is there any relationship with VIP column"
   ]
  },
  {
   "cell_type": "code",
   "execution_count": 18,
   "id": "6da29918",
   "metadata": {
    "execution": {
     "iopub.execute_input": "2023-01-11T08:10:09.419199Z",
     "iopub.status.busy": "2023-01-11T08:10:09.418300Z",
     "iopub.status.idle": "2023-01-11T08:10:09.654393Z",
     "shell.execute_reply": "2023-01-11T08:10:09.653469Z"
    },
    "papermill": {
     "duration": 0.255718,
     "end_time": "2023-01-11T08:10:09.656462",
     "exception": false,
     "start_time": "2023-01-11T08:10:09.400744",
     "status": "completed"
    },
    "tags": []
   },
   "outputs": [
    {
     "data": {
      "text/plain": [
       "<AxesSubplot:xlabel='VIP', ylabel='count'>"
      ]
     },
     "execution_count": 18,
     "metadata": {},
     "output_type": "execute_result"
    },
    {
     "data": {
      "image/png": "[encoded data removed]",
      "text/plain": [
       "<Figure size 432x288 with 1 Axes>"
      ]
     },
     "metadata": {
      "needs_background": "light"
     },
     "output_type": "display_data"
    }
   ],
   "source": [
    "sns.countplot(x='VIP',data=train,hue='Transported')"
   ]
  },
  {
   "cell_type": "markdown",
   "id": "a6f861d4",
   "metadata": {
    "papermill": {
     "duration": 0.016499,
     "end_time": "2023-01-11T08:10:09.689727",
     "exception": false,
     "start_time": "2023-01-11T08:10:09.673228",
     "status": "completed"
    },
    "tags": []
   },
   "source": [
    "* VIP is not saving at all"
   ]
  },
  {
   "cell_type": "markdown",
   "id": "c572d426",
   "metadata": {
    "papermill": {
     "duration": 0.016467,
     "end_time": "2023-01-11T08:10:09.722978",
     "exception": false,
     "start_time": "2023-01-11T08:10:09.706511",
     "status": "completed"
    },
    "tags": []
   },
   "source": [
    "# 2. Numerical Data"
   ]
  },
  {
   "cell_type": "code",
   "execution_count": 19,
   "id": "3b3bee1d",
   "metadata": {
    "execution": {
     "iopub.execute_input": "2023-01-11T08:10:09.758635Z",
     "iopub.status.busy": "2023-01-11T08:10:09.757122Z",
     "iopub.status.idle": "2023-01-11T08:10:09.765849Z",
     "shell.execute_reply": "2023-01-11T08:10:09.764895Z"
    },
    "papermill": {
     "duration": 0.028188,
     "end_time": "2023-01-11T08:10:09.767858",
     "exception": false,
     "start_time": "2023-01-11T08:10:09.739670",
     "status": "completed"
    },
    "tags": []
   },
   "outputs": [
    {
     "data": {
      "text/plain": [
       "Index(['Age', 'RoomService', 'FoodCourt', 'ShoppingMall', 'Spa', 'VRDeck',\n",
       "       'Transported'],\n",
       "      dtype='object')"
      ]
     },
     "execution_count": 19,
     "metadata": {},
     "output_type": "execute_result"
    }
   ],
   "source": [
    "train.select_dtypes(exclude='object').columns"
   ]
  },
  {
   "cell_type": "code",
   "execution_count": 20,
   "id": "5733e0bf",
   "metadata": {
    "execution": {
     "iopub.execute_input": "2023-01-11T08:10:09.804048Z",
     "iopub.status.busy": "2023-01-11T08:10:09.803153Z",
     "iopub.status.idle": "2023-01-11T08:10:10.018601Z",
     "shell.execute_reply": "2023-01-11T08:10:10.017695Z"
    },
    "papermill": {
     "duration": 0.236092,
     "end_time": "2023-01-11T08:10:10.020776",
     "exception": false,
     "start_time": "2023-01-11T08:10:09.784684",
     "status": "completed"
    },
    "tags": []
   },
   "outputs": [
    {
     "data": {
      "image/png": "[encoded data removed]",
      "text/plain": [
       "<Figure size 432x288 with 1 Axes>"
      ]
     },
     "metadata": {
      "needs_background": "light"
     },
     "output_type": "display_data"
    }
   ],
   "source": [
    "plt.hist(train['Age'],bins=15)\n",
    "plt.show()"
   ]
  },
  {
   "cell_type": "code",
   "execution_count": 21,
   "id": "c7d9152c",
   "metadata": {
    "execution": {
     "iopub.execute_input": "2023-01-11T08:10:10.058005Z",
     "iopub.status.busy": "2023-01-11T08:10:10.056387Z",
     "iopub.status.idle": "2023-01-11T08:10:10.371439Z",
     "shell.execute_reply": "2023-01-11T08:10:10.370542Z"
    },
    "papermill": {
     "duration": 0.33569,
     "end_time": "2023-01-11T08:10:10.373791",
     "exception": false,
     "start_time": "2023-01-11T08:10:10.038101",
     "status": "completed"
    },
    "tags": []
   },
   "outputs": [
    {
     "data": {
      "image/png": "[encoded data removed]",
      "text/plain": [
       "<Figure size 432x288 with 1 Axes>"
      ]
     },
     "metadata": {
      "needs_background": "light"
     },
     "output_type": "display_data"
    }
   ],
   "source": [
    "sns.boxplot(train['Age'])\n",
    "plt.show()"
   ]
  },
  {
   "cell_type": "code",
   "execution_count": 22,
   "id": "c20ea465",
   "metadata": {
    "execution": {
     "iopub.execute_input": "2023-01-11T08:10:10.412064Z",
     "iopub.status.busy": "2023-01-11T08:10:10.411701Z",
     "iopub.status.idle": "2023-01-11T08:10:10.698854Z",
     "shell.execute_reply": "2023-01-11T08:10:10.697783Z"
    },
    "papermill": {
     "duration": 0.309309,
     "end_time": "2023-01-11T08:10:10.700840",
     "exception": false,
     "start_time": "2023-01-11T08:10:10.391531",
     "status": "completed"
    },
    "tags": []
   },
   "outputs": [
    {
     "data": {
      "text/plain": [
       "<AxesSubplot:xlabel='Age', ylabel='Density'>"
      ]
     },
     "execution_count": 22,
     "metadata": {},
     "output_type": "execute_result"
    },
    {
     "data": {
      "image/png": "[encoded data removed]",
      "text/plain": [
       "<Figure size 432x288 with 1 Axes>"
      ]
     },
     "metadata": {
      "needs_background": "light"
     },
     "output_type": "display_data"
    }
   ],
   "source": [
    "sns.kdeplot(train['Age'],hue=train['Transported'])"
   ]
  },
  {
   "cell_type": "markdown",
   "id": "dda267b3",
   "metadata": {
    "papermill": {
     "duration": 0.017724,
     "end_time": "2023-01-11T08:10:10.738852",
     "exception": false,
     "start_time": "2023-01-11T08:10:10.721128",
     "status": "completed"
    },
    "tags": []
   },
   "source": [
    "* Passengers under zero Age found to be transported!!We will remove them and try the plotting again\n",
    "* Passengers age between 18-25 years found to be travelling more"
   ]
  },
  {
   "cell_type": "markdown",
   "id": "f30e4397",
   "metadata": {
    "papermill": {
     "duration": 0.018596,
     "end_time": "2023-01-11T08:10:10.776797",
     "exception": false,
     "start_time": "2023-01-11T08:10:10.758201",
     "status": "completed"
    },
    "tags": []
   },
   "source": [
    "A skewness value greater than 1 or less than -1 indicates a highly skewed distribution. A value between 0.5 and 1 or -0.5 and -1 is moderately skewed. A value between -0.5 and 0.5 indicates that the distribution is fairly symmetrical."
   ]
  },
  {
   "cell_type": "code",
   "execution_count": 23,
   "id": "8b6de715",
   "metadata": {
    "execution": {
     "iopub.execute_input": "2023-01-11T08:10:10.816462Z",
     "iopub.status.busy": "2023-01-11T08:10:10.815504Z",
     "iopub.status.idle": "2023-01-11T08:10:10.823143Z",
     "shell.execute_reply": "2023-01-11T08:10:10.822113Z"
    },
    "papermill": {
     "duration": 0.029458,
     "end_time": "2023-01-11T08:10:10.825335",
     "exception": false,
     "start_time": "2023-01-11T08:10:10.795877",
     "status": "completed"
    },
    "tags": []
   },
   "outputs": [
    {
     "data": {
      "text/plain": [
       "0.41909658301471536"
      ]
     },
     "execution_count": 23,
     "metadata": {},
     "output_type": "execute_result"
    }
   ],
   "source": [
    "train['Age'].skew()"
   ]
  },
  {
   "cell_type": "markdown",
   "id": "c2eb8941",
   "metadata": {
    "papermill": {
     "duration": 0.018052,
     "end_time": "2023-01-11T08:10:10.862260",
     "exception": false,
     "start_time": "2023-01-11T08:10:10.844208",
     "status": "completed"
    },
    "tags": []
   },
   "source": [
    "Age distribution is fairly symmetric"
   ]
  },
  {
   "cell_type": "code",
   "execution_count": 24,
   "id": "9a825436",
   "metadata": {
    "execution": {
     "iopub.execute_input": "2023-01-11T08:10:10.900598Z",
     "iopub.status.busy": "2023-01-11T08:10:10.899096Z",
     "iopub.status.idle": "2023-01-11T08:10:10.910380Z",
     "shell.execute_reply": "2023-01-11T08:10:10.909287Z"
    },
    "papermill": {
     "duration": 0.03223,
     "end_time": "2023-01-11T08:10:10.912625",
     "exception": false,
     "start_time": "2023-01-11T08:10:10.880395",
     "status": "completed"
    },
    "tags": []
   },
   "outputs": [
    {
     "data": {
      "text/plain": [
       "RoomService    1912541.00\n",
       "FoodCourt      3898237.00\n",
       "ShoppingMall   1474092.00\n",
       "Spa            2647791.00\n",
       "VRDeck         2592790.00\n",
       "dtype: float64"
      ]
     },
     "execution_count": 24,
     "metadata": {},
     "output_type": "execute_result"
    }
   ],
   "source": [
    "train[['RoomService', 'FoodCourt', 'ShoppingMall', 'Spa', 'VRDeck']].sum()"
   ]
  },
  {
   "cell_type": "markdown",
   "id": "27b9ce13",
   "metadata": {
    "papermill": {
     "duration": 0.018236,
     "end_time": "2023-01-11T08:10:10.949516",
     "exception": false,
     "start_time": "2023-01-11T08:10:10.931280",
     "status": "completed"
    },
    "tags": []
   },
   "source": [
    "* Passengers spent more on FoodCourt followed by VRDeck and SPA."
   ]
  },
  {
   "cell_type": "code",
   "execution_count": 25,
   "id": "704ced76",
   "metadata": {
    "execution": {
     "iopub.execute_input": "2023-01-11T08:10:10.987573Z",
     "iopub.status.busy": "2023-01-11T08:10:10.986773Z",
     "iopub.status.idle": "2023-01-11T08:10:10.994316Z",
     "shell.execute_reply": "2023-01-11T08:10:10.993405Z"
    },
    "papermill": {
     "duration": 0.028815,
     "end_time": "2023-01-11T08:10:10.996535",
     "exception": false,
     "start_time": "2023-01-11T08:10:10.967720",
     "status": "completed"
    },
    "tags": []
   },
   "outputs": [],
   "source": [
    "train_copy=train.copy()\n",
    "train_copy['Total_amount_spent']=train['RoomService']+train['FoodCourt']+train['ShoppingMall']+train['Spa']+train['VRDeck']"
   ]
  },
  {
   "cell_type": "code",
   "execution_count": 26,
   "id": "c65ac137",
   "metadata": {
    "execution": {
     "iopub.execute_input": "2023-01-11T08:10:11.035635Z",
     "iopub.status.busy": "2023-01-11T08:10:11.034217Z",
     "iopub.status.idle": "2023-01-11T08:10:11.696551Z",
     "shell.execute_reply": "2023-01-11T08:10:11.695567Z"
    },
    "papermill": {
     "duration": 0.684177,
     "end_time": "2023-01-11T08:10:11.699296",
     "exception": false,
     "start_time": "2023-01-11T08:10:11.015119",
     "status": "completed"
    },
    "tags": []
   },
   "outputs": [
    {
     "data": {
      "text/plain": [
       "<AxesSubplot:xlabel='Age', ylabel='Total_amount_spent'>"
      ]
     },
     "execution_count": 26,
     "metadata": {},
     "output_type": "execute_result"
    },
    {
     "data": {
      "image/png": "[encoded data removed]",
      "text/plain": [
       "<Figure size 432x288 with 1 Axes>"
      ]
     },
     "metadata": {
      "needs_background": "light"
     },
     "output_type": "display_data"
    }
   ],
   "source": [
    "sns.scatterplot(x='Age',y='Total_amount_spent',data=train_copy,hue='Transported',size='CryoSleep')"
   ]
  },
  {
   "cell_type": "markdown",
   "id": "09e52103",
   "metadata": {
    "papermill": {
     "duration": 0.021081,
     "end_time": "2023-01-11T08:10:11.740096",
     "exception": false,
     "start_time": "2023-01-11T08:10:11.719015",
     "status": "completed"
    },
    "tags": []
   },
   "source": [
    "* Obviously, passengers under cryosleep has not spent any penny and got trnasported more\n",
    "* passengers above 70 whoever spent are having less chances of transporation"
   ]
  },
  {
   "cell_type": "code",
   "execution_count": 27,
   "id": "ad81e3ab",
   "metadata": {
    "execution": {
     "iopub.execute_input": "2023-01-11T08:10:11.779246Z",
     "iopub.status.busy": "2023-01-11T08:10:11.778937Z",
     "iopub.status.idle": "2023-01-11T08:10:11.785226Z",
     "shell.execute_reply": "2023-01-11T08:10:11.784329Z"
    },
    "papermill": {
     "duration": 0.027591,
     "end_time": "2023-01-11T08:10:11.787201",
     "exception": false,
     "start_time": "2023-01-11T08:10:11.759610",
     "status": "completed"
    },
    "tags": []
   },
   "outputs": [
    {
     "data": {
      "text/plain": [
       "Index(['PassengerId', 'HomePlanet', 'CryoSleep', 'Cabin', 'Destination', 'Age',\n",
       "       'VIP', 'RoomService', 'FoodCourt', 'ShoppingMall', 'Spa', 'VRDeck',\n",
       "       'Name', 'Transported'],\n",
       "      dtype='object')"
      ]
     },
     "execution_count": 27,
     "metadata": {},
     "output_type": "execute_result"
    }
   ],
   "source": [
    "train.columns"
   ]
  },
  {
   "cell_type": "markdown",
   "id": "701f7dbe",
   "metadata": {
    "papermill": {
     "duration": 0.018052,
     "end_time": "2023-01-11T08:10:11.823505",
     "exception": false,
     "start_time": "2023-01-11T08:10:11.805453",
     "status": "completed"
    },
    "tags": []
   },
   "source": [
    "As Passender ID is of no use, we will drop both of them from train and test"
   ]
  },
  {
   "cell_type": "code",
   "execution_count": 28,
   "id": "ca978191",
   "metadata": {
    "execution": {
     "iopub.execute_input": "2023-01-11T08:10:11.861595Z",
     "iopub.status.busy": "2023-01-11T08:10:11.860807Z",
     "iopub.status.idle": "2023-01-11T08:10:11.868668Z",
     "shell.execute_reply": "2023-01-11T08:10:11.867872Z"
    },
    "papermill": {
     "duration": 0.028911,
     "end_time": "2023-01-11T08:10:11.870708",
     "exception": false,
     "start_time": "2023-01-11T08:10:11.841797",
     "status": "completed"
    },
    "tags": []
   },
   "outputs": [],
   "source": [
    "train.drop(columns=['PassengerId'],axis=1,inplace=True)\n",
    "test.drop(columns=['PassengerId'],axis=1,inplace=True)"
   ]
  },
  {
   "cell_type": "markdown",
   "id": "9cc4c3d7",
   "metadata": {
    "papermill": {
     "duration": 0.018144,
     "end_time": "2023-01-11T08:10:11.907278",
     "exception": false,
     "start_time": "2023-01-11T08:10:11.889134",
     "status": "completed"
    },
    "tags": []
   },
   "source": [
    "Let's go for some more  Numerical and categorical plots for more insights"
   ]
  },
  {
   "cell_type": "code",
   "execution_count": 29,
   "id": "7f7363dc",
   "metadata": {
    "execution": {
     "iopub.execute_input": "2023-01-11T08:10:11.946083Z",
     "iopub.status.busy": "2023-01-11T08:10:11.945159Z",
     "iopub.status.idle": "2023-01-11T08:10:12.349535Z",
     "shell.execute_reply": "2023-01-11T08:10:12.348624Z"
    },
    "papermill": {
     "duration": 0.425892,
     "end_time": "2023-01-11T08:10:12.351615",
     "exception": false,
     "start_time": "2023-01-11T08:10:11.925723",
     "status": "completed"
    },
    "tags": []
   },
   "outputs": [
    {
     "data": {
      "text/plain": [
       "<AxesSubplot:xlabel='HomePlanet', ylabel='Age'>"
      ]
     },
     "execution_count": 29,
     "metadata": {},
     "output_type": "execute_result"
    },
    {
     "data": {
      "image/png": "[encoded data removed]",
      "text/plain": [
       "<Figure size 432x288 with 1 Axes>"
      ]
     },
     "metadata": {
      "needs_background": "light"
     },
     "output_type": "display_data"
    }
   ],
   "source": [
    "sns.boxplot(train['HomePlanet'],train['Age'],hue=train['Transported'])"
   ]
  },
  {
   "cell_type": "markdown",
   "id": "aac3d9ae",
   "metadata": {
    "papermill": {
     "duration": 0.018611,
     "end_time": "2023-01-11T08:10:12.389369",
     "exception": false,
     "start_time": "2023-01-11T08:10:12.370758",
     "status": "completed"
    },
    "tags": []
   },
   "source": [
    "* Passengers above 65 years old who were started from Mars have more chances of Transportation\n",
    "* Passengers from earth having less than 30 years Age are more likely to being transported"
   ]
  },
  {
   "cell_type": "code",
   "execution_count": 30,
   "id": "9b1d33f0",
   "metadata": {
    "execution": {
     "iopub.execute_input": "2023-01-11T08:10:12.428898Z",
     "iopub.status.busy": "2023-01-11T08:10:12.428054Z",
     "iopub.status.idle": "2023-01-11T08:10:13.085574Z",
     "shell.execute_reply": "2023-01-11T08:10:13.084671Z"
    },
    "papermill": {
     "duration": 0.679648,
     "end_time": "2023-01-11T08:10:13.087676",
     "exception": false,
     "start_time": "2023-01-11T08:10:12.408028",
     "status": "completed"
    },
    "tags": []
   },
   "outputs": [
    {
     "data": {
      "text/html": [
       "        <script type=\"text/javascript\">\n",
       "        window.PlotlyConfig = {MathJaxConfig: 'local'};\n",
       "        if (window.MathJax && window.MathJax.Hub && window.MathJax.Hub.Config) {window.MathJax.Hub.Config({SVG: {font: \"STIX-Web\"}});}\n",
       "        if (typeof require !== 'undefined') {\n",
       "        require.undef(\"plotly\");\n",
       "        requirejs.config({\n",
       "            paths: {\n",
       "                'plotly': ['https://cdn.plot.ly/plotly-2.16.1.min']\n",
       "            }\n",
       "        });\n",
       "        require(['plotly'], function(Plotly) {\n",
       "            window._Plotly = Plotly;\n",
       "        });\n",
       "        }\n",
       "        </script>\n",
       "        "
      ]
     },
     "metadata": {},
     "output_type": "display_data"
    },
    {
     "data": {
      "text/html": [
       "<div>                            <div id=\"b06a28aa-bce4-47bd-b433-13e97b1a43c3\" class=\"plotly-graph-div\" style=\"height:525px; width:100%;\"></div>            <script type=\"text/javascript\">                require([\"plotly\"], function(Plotly) {                    window.PLOTLYENV=window.PLOTLYENV || {};                                    if (document.getElementById(\"b06a28aa-bce4-47bd-b433-13e97b1a43c3\")) {                    Plotly.newPlot(                        \"b06a28aa-bce4-47bd-b433-13e97b1a43c3\",                        [{\"domain\":{\"x\":[0.0,1.0],\"y\":[0.0,1.0]},\"hovertemplate\":\"label=%{label}<br>value=%{value}<extra></extra>\",\"labels\":[24.0,18.0,21.0,19.0,23.0,22.0,20.0,26.0,28.0,27.0,25.0,29.0,31.0,32.0,30.0,33.0,36.0,0.0,37.0,35.0,38.0,17.0,15.0,34.0,16.0,13.0,39.0,14.0,41.0,43.0,40.0,42.0,44.0,46.0,45.0,47.0,49.0,2.0,3.0,50.0,48.0,4.0,55.0,1.0,54.0,53.0,51.0,7.0,52.0,56.0,58.0,11.0,8.0,57.0,9.0,12.0,6.0,10.0,59.0,60.0,5.0,61.0,64.0,62.0,63.0,65.0,67.0,68.0,70.0,66.0,73.0,71.0,69.0,74.0,75.0,72.0,78.0,79.0,76.0,77.0],\"legendgroup\":\"\",\"name\":\"\",\"showlegend\":true,\"values\":[324,320,311,293,292,291,277,268,267,259,243,230,202,199,183,178,178,178,177,171,161,158,155,148,147,141,138,138,129,128,128,119,115,97,89,88,83,75,75,74,72,71,68,67,67,61,59,52,52,48,47,47,46,46,42,41,40,39,35,34,33,32,29,26,26,23,13,12,9,7,7,7,6,5,4,4,3,3,2,2],\"type\":\"pie\",\"textinfo\":\"percent+label\",\"textposition\":\"inside\"}],                        {\"template\":{\"data\":{\"histogram2dcontour\":[{\"type\":\"histogram2dcontour\",\"colorbar\":{\"outlinewidth\":0,\"ticks\":\"\"},\"colorscale\":[[0.0,\"#0d0887\"],[0.1111111111111111,\"#46039f\"],[0.2222222222222222,\"#7201a8\"],[0.3333333333333333,\"#9c179e\"],[0.4444444444444444,\"#bd3786\"],[0.5555555555555556,\"#d8576b\"],[0.6666666666666666,\"#ed7953\"],[0.7777777777777778,\"#fb9f3a\"],[0.8888888888888888,\"#fdca26\"],[1.0,\"#f0f921\"]]}],\"choropleth\":[{\"type\":\"choropleth\",\"colorbar\":{\"outlinewidth\":0,\"ticks\":\"\"}}],\"histogram2d\":[{\"type\":\"histogram2d\",\"colorbar\":{\"outlinewidth\":0,\"ticks\":\"\"},\"colorscale\":[[0.0,\"#0d0887\"],[0.1111111111111111,\"#46039f\"],[0.2222222222222222,\"#7201a8\"],[0.3333333333333333,\"#9c179e\"],[0.4444444444444444,\"#bd3786\"],[0.5555555555555556,\"#d8576b\"],[0.6666666666666666,\"#ed7953\"],[0.7777777777777778,\"#fb9f3a\"],[0.8888888888888888,\"#fdca26\"],[1.0,\"#f0f921\"]]}],\"heatmap\":[{\"type\":\"heatmap\",\"colorbar\":{\"outlinewidth\":0,\"ticks\":\"\"},\"colorscale\":[[0.0,\"#0d0887\"],[0.1111111111111111,\"#46039f\"],[0.2222222222222222,\"#7201a8\"],[0.3333333333333333,\"#9c179e\"],[0.4444444444444444,\"#bd3786\"],[0.5555555555555556,\"#d8576b\"],[0.6666666666666666,\"#ed7953\"],[0.7777777777777778,\"#fb9f3a\"],[0.8888888888888888,\"#fdca26\"],[1.0,\"#f0f921\"]]}],\"heatmapgl\":[{\"type\":\"heatmapgl\",\"colorbar\":{\"outlinewidth\":0,\"ticks\":\"\"},\"colorscale\":[[0.0,\"#0d0887\"],[0.1111111111111111,\"#46039f\"],[0.2222222222222222,\"#7201a8\"],[0.3333333333333333,\"#9c179e\"],[0.4444444444444444,\"#bd3786\"],[0.5555555555555556,\"#d8576b\"],[0.6666666666666666,\"#ed7953\"],[0.7777777777777778,\"#fb9f3a\"],[0.8888888888888888,\"#fdca26\"],[1.0,\"#f0f921\"]]}],\"contourcarpet\":[{\"type\":\"contourcarpet\",\"colorbar\":{\"outlinewidth\":0,\"ticks\":\"\"}}],\"contour\":[{\"type\":\"contour\",\"colorbar\":{\"outlinewidth\":0,\"ticks\":\"\"},\"colorscale\":[[0.0,\"#0d0887\"],[0.1111111111111111,\"#46039f\"],[0.2222222222222222,\"#7201a8\"],[0.3333333333333333,\"#9c179e\"],[0.4444444444444444,\"#bd3786\"],[0.5555555555555556,\"#d8576b\"],[0.6666666666666666,\"#ed7953\"],[0.7777777777777778,\"#fb9f3a\"],[0.8888888888888888,\"#fdca26\"],[1.0,\"#f0f921\"]]}],\"surface\":[{\"type\":\"surface\",\"colorbar\":{\"outlinewidth\":0,\"ticks\":\"\"},\"colorscale\":[[0.0,\"#0d0887\"],[0.1111111111111111,\"#46039f\"],[0.2222222222222222,\"#7201a8\"],[0.3333333333333333,\"#9c179e\"],[0.4444444444444444,\"#bd3786\"],[0.5555555555555556,\"#d8576b\"],[0.6666666666666666,\"#ed7953\"],[0.7777777777777778,\"#fb9f3a\"],[0.8888888888888888,\"#fdca26\"],[1.0,\"#f0f921\"]]}],\"mesh3d\":[{\"type\":\"mesh3d\",\"colorbar\":{\"outlinewidth\":0,\"ticks\":\"\"}}],\"scatter\":[{\"fillpattern\":{\"fillmode\":\"overlay\",\"size\":10,\"solidity\":0.2},\"type\":\"scatter\"}],\"parcoords\":[{\"type\":\"parcoords\",\"line\":{\"colorbar\":{\"outlinewidth\":0,\"ticks\":\"\"}}}],\"scatterpolargl\":[{\"type\":\"scatterpolargl\",\"marker\":{\"colorbar\":{\"outlinewidth\":0,\"ticks\":\"\"}}}],\"bar\":[{\"error_x\":{\"color\":\"#2a3f5f\"},\"error_y\":{\"color\":\"#2a3f5f\"},\"marker\":{\"line\":{\"color\":\"#E5ECF6\",\"width\":0.5},\"pattern\":{\"fillmode\":\"overlay\",\"size\":10,\"solidity\":0.2}},\"type\":\"bar\"}],\"scattergeo\":[{\"type\":\"scattergeo\",\"marker\":{\"colorbar\":{\"outlinewidth\":0,\"ticks\":\"\"}}}],\"scatterpolar\":[{\"type\":\"scatterpolar\",\"marker\":{\"colorbar\":{\"outlinewidth\":0,\"ticks\":\"\"}}}],\"histogram\":[{\"marker\":{\"pattern\":{\"fillmode\":\"overlay\",\"size\":10,\"solidity\":0.2}},\"type\":\"histogram\"}],\"scattergl\":[{\"type\":\"scattergl\",\"marker\":{\"colorbar\":{\"outlinewidth\":0,\"ticks\":\"\"}}}],\"scatter3d\":[{\"type\":\"scatter3d\",\"line\":{\"colorbar\":{\"outlinewidth\":0,\"ticks\":\"\"}},\"marker\":{\"colorbar\":{\"outlinewidth\":0,\"ticks\":\"\"}}}],\"scattermapbox\":[{\"type\":\"scattermapbox\",\"marker\":{\"colorbar\":{\"outlinewidth\":0,\"ticks\":\"\"}}}],\"scatterternary\":[{\"type\":\"scatterternary\",\"marker\":{\"colorbar\":{\"outlinewidth\":0,\"ticks\":\"\"}}}],\"scattercarpet\":[{\"type\":\"scattercarpet\",\"marker\":{\"colorbar\":{\"outlinewidth\":0,\"ticks\":\"\"}}}],\"carpet\":[{\"aaxis\":{\"endlinecolor\":\"#2a3f5f\",\"gridcolor\":\"white\",\"linecolor\":\"white\",\"minorgridcolor\":\"white\",\"startlinecolor\":\"#2a3f5f\"},\"baxis\":{\"endlinecolor\":\"#2a3f5f\",\"gridcolor\":\"white\",\"linecolor\":\"white\",\"minorgridcolor\":\"white\",\"startlinecolor\":\"#2a3f5f\"},\"type\":\"carpet\"}],\"table\":[{\"cells\":{\"fill\":{\"color\":\"#EBF0F8\"},\"line\":{\"color\":\"white\"}},\"header\":{\"fill\":{\"color\":\"#C8D4E3\"},\"line\":{\"color\":\"white\"}},\"type\":\"table\"}],\"barpolar\":[{\"marker\":{\"line\":{\"color\":\"#E5ECF6\",\"width\":0.5},\"pattern\":{\"fillmode\":\"overlay\",\"size\":10,\"solidity\":0.2}},\"type\":\"barpolar\"}],\"pie\":[{\"automargin\":true,\"type\":\"pie\"}]},\"layout\":{\"autotypenumbers\":\"strict\",\"colorway\":[\"#636efa\",\"#EF553B\",\"#00cc96\",\"#ab63fa\",\"#FFA15A\",\"#19d3f3\",\"#FF6692\",\"#B6E880\",\"#FF97FF\",\"#FECB52\"],\"font\":{\"color\":\"#2a3f5f\"},\"hovermode\":\"closest\",\"hoverlabel\":{\"align\":\"left\"},\"paper_bgcolor\":\"white\",\"plot_bgcolor\":\"#E5ECF6\",\"polar\":{\"bgcolor\":\"#E5ECF6\",\"angularaxis\":{\"gridcolor\":\"white\",\"linecolor\":\"white\",\"ticks\":\"\"},\"radialaxis\":{\"gridcolor\":\"white\",\"linecolor\":\"white\",\"ticks\":\"\"}},\"ternary\":{\"bgcolor\":\"#E5ECF6\",\"aaxis\":{\"gridcolor\":\"white\",\"linecolor\":\"white\",\"ticks\":\"\"},\"baxis\":{\"gridcolor\":\"white\",\"linecolor\":\"white\",\"ticks\":\"\"},\"caxis\":{\"gridcolor\":\"white\",\"linecolor\":\"white\",\"ticks\":\"\"}},\"coloraxis\":{\"colorbar\":{\"outlinewidth\":0,\"ticks\":\"\"}},\"colorscale\":{\"sequential\":[[0.0,\"#0d0887\"],[0.1111111111111111,\"#46039f\"],[0.2222222222222222,\"#7201a8\"],[0.3333333333333333,\"#9c179e\"],[0.4444444444444444,\"#bd3786\"],[0.5555555555555556,\"#d8576b\"],[0.6666666666666666,\"#ed7953\"],[0.7777777777777778,\"#fb9f3a\"],[0.8888888888888888,\"#fdca26\"],[1.0,\"#f0f921\"]],\"sequentialminus\":[[0.0,\"#0d0887\"],[0.1111111111111111,\"#46039f\"],[0.2222222222222222,\"#7201a8\"],[0.3333333333333333,\"#9c179e\"],[0.4444444444444444,\"#bd3786\"],[0.5555555555555556,\"#d8576b\"],[0.6666666666666666,\"#ed7953\"],[0.7777777777777778,\"#fb9f3a\"],[0.8888888888888888,\"#fdca26\"],[1.0,\"#f0f921\"]],\"diverging\":[[0,\"#8e0152\"],[0.1,\"#c51b7d\"],[0.2,\"#de77ae\"],[0.3,\"#f1b6da\"],[0.4,\"#fde0ef\"],[0.5,\"#f7f7f7\"],[0.6,\"#e6f5d0\"],[0.7,\"#b8e186\"],[0.8,\"#7fbc41\"],[0.9,\"#4d9221\"],[1,\"#276419\"]]},\"xaxis\":{\"gridcolor\":\"white\",\"linecolor\":\"white\",\"ticks\":\"\",\"title\":{\"standoff\":15},\"zerolinecolor\":\"white\",\"automargin\":true,\"zerolinewidth\":2},\"yaxis\":{\"gridcolor\":\"white\",\"linecolor\":\"white\",\"ticks\":\"\",\"title\":{\"standoff\":15},\"zerolinecolor\":\"white\",\"automargin\":true,\"zerolinewidth\":2},\"scene\":{\"xaxis\":{\"backgroundcolor\":\"#E5ECF6\",\"gridcolor\":\"white\",\"linecolor\":\"white\",\"showbackground\":true,\"ticks\":\"\",\"zerolinecolor\":\"white\",\"gridwidth\":2},\"yaxis\":{\"backgroundcolor\":\"#E5ECF6\",\"gridcolor\":\"white\",\"linecolor\":\"white\",\"showbackground\":true,\"ticks\":\"\",\"zerolinecolor\":\"white\",\"gridwidth\":2},\"zaxis\":{\"backgroundcolor\":\"#E5ECF6\",\"gridcolor\":\"white\",\"linecolor\":\"white\",\"showbackground\":true,\"ticks\":\"\",\"zerolinecolor\":\"white\",\"gridwidth\":2}},\"shapedefaults\":{\"line\":{\"color\":\"#2a3f5f\"}},\"annotationdefaults\":{\"arrowcolor\":\"#2a3f5f\",\"arrowhead\":0,\"arrowwidth\":1},\"geo\":{\"bgcolor\":\"white\",\"landcolor\":\"#E5ECF6\",\"subunitcolor\":\"white\",\"showland\":true,\"showlakes\":true,\"lakecolor\":\"white\"},\"title\":{\"x\":0.05},\"mapbox\":{\"style\":\"light\"}}},\"legend\":{\"tracegroupgap\":0},\"title\":{\"text\":\"Age of Passengers\"}},                        {\"responsive\": true}                    ).then(function(){\n",
       "                            \n",
       "var gd = document.getElementById('b06a28aa-bce4-47bd-b433-13e97b1a43c3');\n",
       "var x = new MutationObserver(function (mutations, observer) {{\n",
       "        var display = window.getComputedStyle(gd).display;\n",
       "        if (!display || display === 'none') {{\n",
       "            console.log([gd, 'removed!']);\n",
       "            Plotly.purge(gd);\n",
       "            observer.disconnect();\n",
       "        }}\n",
       "}});\n",
       "\n",
       "// Listen for the removal of the full notebook cells\n",
       "var notebookContainer = gd.closest('#notebook-container');\n",
       "if (notebookContainer) {{\n",
       "    x.observe(notebookContainer, {childList: true});\n",
       "}}\n",
       "\n",
       "// Listen for the clearing of the current output cell\n",
       "var outputEl = gd.closest('.output');\n",
       "if (outputEl) {{\n",
       "    x.observe(outputEl, {childList: true});\n",
       "}}\n",
       "\n",
       "                        })                };                });            </script>        </div>"
      ]
     },
     "metadata": {},
     "output_type": "display_data"
    }
   ],
   "source": [
    "# Plotting Pie Chart \n",
    "age = train.Age.value_counts()\n",
    "age\n",
    "fig = px.pie(train, values=age.values, names=age.index, title='Age of Passengers')\n",
    "fig.update_traces(textposition='inside', textinfo='percent+label')\n",
    "fig.show()"
   ]
  },
  {
   "cell_type": "markdown",
   "id": "32086140",
   "metadata": {
    "papermill": {
     "duration": 0.019063,
     "end_time": "2023-01-11T08:10:13.126755",
     "exception": false,
     "start_time": "2023-01-11T08:10:13.107692",
     "status": "completed"
    },
    "tags": []
   },
   "source": [
    "# Let's check correlation among variable"
   ]
  },
  {
   "cell_type": "markdown",
   "id": "7c7339dc",
   "metadata": {
    "papermill": {
     "duration": 0.019143,
     "end_time": "2023-01-11T08:10:13.165207",
     "exception": false,
     "start_time": "2023-01-11T08:10:13.146064",
     "status": "completed"
    },
    "tags": []
   },
   "source": [
    "## Heat Maps are graphical representations of data that utilize color-coded systems. The primary purpose of Heat Maps is to better visualize the volume of locations/events within a dataset and assist in directing viewers towards areas on data visualizations that matter most."
   ]
  },
  {
   "cell_type": "code",
   "execution_count": 31,
   "id": "3e0618dc",
   "metadata": {
    "execution": {
     "iopub.execute_input": "2023-01-11T08:10:13.205395Z",
     "iopub.status.busy": "2023-01-11T08:10:13.204747Z",
     "iopub.status.idle": "2023-01-11T08:10:13.723680Z",
     "shell.execute_reply": "2023-01-11T08:10:13.722755Z"
    },
    "papermill": {
     "duration": 0.541527,
     "end_time": "2023-01-11T08:10:13.725816",
     "exception": false,
     "start_time": "2023-01-11T08:10:13.184289",
     "status": "completed"
    },
    "tags": []
   },
   "outputs": [
    {
     "data": {
      "text/plain": [
       "<AxesSubplot:>"
      ]
     },
     "execution_count": 31,
     "metadata": {},
     "output_type": "execute_result"
    },
    {
     "data": {
      "image/png": "[encoded data removed]",
      "text/plain": [
       "<Figure size 432x288 with 2 Axes>"
      ]
     },
     "metadata": {
      "needs_background": "light"
     },
     "output_type": "display_data"
    }
   ],
   "source": [
    "sns.heatmap(train.corr(),annot=True,cmap='rainbow')"
   ]
  },
  {
   "cell_type": "markdown",
   "id": "738cff7e",
   "metadata": {
    "papermill": {
     "duration": 0.019558,
     "end_time": "2023-01-11T08:10:13.766216",
     "exception": false,
     "start_time": "2023-01-11T08:10:13.746658",
     "status": "completed"
    },
    "tags": []
   },
   "source": [
    "* As expected, spending on services like Room service,Spa and VRdeck made chances of being transported very less\n",
    "* But people who spent mainly on FoodCourt has good chances of transportation\n",
    "* Room service vs shoppingmall and Age has positive correlation\n",
    "* Age vs spendings on services has positive correlation too"
   ]
  },
  {
   "cell_type": "markdown",
   "id": "f0ec5740",
   "metadata": {
    "papermill": {
     "duration": 0.019734,
     "end_time": "2023-01-11T08:10:13.805991",
     "exception": false,
     "start_time": "2023-01-11T08:10:13.786257",
     "status": "completed"
    },
    "tags": []
   },
   "source": [
    "## A cluster map is an intuitive way to group search results by topic. By identifying similar documents, it helps to better understand the structure of online coverage and other large document collections."
   ]
  },
  {
   "cell_type": "code",
   "execution_count": 32,
   "id": "534e1cf7",
   "metadata": {
    "execution": {
     "iopub.execute_input": "2023-01-11T08:10:13.847890Z",
     "iopub.status.busy": "2023-01-11T08:10:13.847002Z",
     "iopub.status.idle": "2023-01-11T08:10:14.302811Z",
     "shell.execute_reply": "2023-01-11T08:10:14.301776Z"
    },
    "papermill": {
     "duration": 0.47932,
     "end_time": "2023-01-11T08:10:14.305116",
     "exception": false,
     "start_time": "2023-01-11T08:10:13.825796",
     "status": "completed"
    },
    "tags": []
   },
   "outputs": [
    {
     "data": {
      "text/plain": [
       "<seaborn.matrix.ClusterGrid at 0x7fe3cccd3510>"
      ]
     },
     "execution_count": 32,
     "metadata": {},
     "output_type": "execute_result"
    },
    {
     "data": {
      "image/png": "[encoded data removed]",
      "text/plain": [
       "<Figure size 720x720 with 4 Axes>"
      ]
     },
     "metadata": {
      "needs_background": "light"
     },
     "output_type": "display_data"
    }
   ],
   "source": [
    "sns.clustermap(pd.crosstab(train['HomePlanet'],train['Transported']))"
   ]
  },
  {
   "cell_type": "markdown",
   "id": "9912c60f",
   "metadata": {
    "papermill": {
     "duration": 0.02081,
     "end_time": "2023-01-11T08:10:14.347789",
     "exception": false,
     "start_time": "2023-01-11T08:10:14.326979",
     "status": "completed"
    },
    "tags": []
   },
   "source": [
    "## Pair plot is used to understand the best set of features to explain a relationship between two variables or to form the most separated clusters. It also helps to form some simple classification models by drawing some simple lines or make linear separation in our data-set."
   ]
  },
  {
   "cell_type": "markdown",
   "id": "d2a846b2",
   "metadata": {
    "papermill": {
     "duration": 0.019595,
     "end_time": "2023-01-11T08:10:14.387444",
     "exception": false,
     "start_time": "2023-01-11T08:10:14.367849",
     "status": "completed"
    },
    "tags": []
   },
   "source": [
    "# Missing values treatment"
   ]
  },
  {
   "cell_type": "code",
   "execution_count": 33,
   "id": "d1f53471",
   "metadata": {
    "execution": {
     "iopub.execute_input": "2023-01-11T08:10:14.429447Z",
     "iopub.status.busy": "2023-01-11T08:10:14.428535Z",
     "iopub.status.idle": "2023-01-11T08:10:14.471890Z",
     "shell.execute_reply": "2023-01-11T08:10:14.470940Z"
    },
    "papermill": {
     "duration": 0.06704,
     "end_time": "2023-01-11T08:10:14.474338",
     "exception": false,
     "start_time": "2023-01-11T08:10:14.407298",
     "status": "completed"
    },
    "tags": []
   },
   "outputs": [],
   "source": [
    "numeric_data=[col for col in train.select_dtypes(['int','float'])]\n",
    "categorical_data=[col for col in train.select_dtypes(exclude=['int','float'])]\n",
    "test_numeric_data=[col for col in test.select_dtypes(['int','float'])]\n",
    "test_categorical_data=[col for col in test.select_dtypes(exclude=['int','float'])]\n",
    "\n",
    "#numerical columns null values replacement with median\n",
    "for col in numeric_data:\n",
    "    train[col].fillna(train[col].median(),inplace=True)\n",
    "for col in test_numeric_data:\n",
    "    test[col].fillna(test[col].median(),inplace=True)\n",
    "\n",
    "\n",
    "#replace missing values in each categorical column with the most frequent value\n",
    "for col in categorical_data:\n",
    "    train[col].fillna(train[col].value_counts().index[0],inplace=True)\n",
    "for col in test_categorical_data:\n",
    "    test[col].fillna(test[col].value_counts().index[0],inplace=True)"
   ]
  },
  {
   "cell_type": "markdown",
   "id": "15412438",
   "metadata": {
    "papermill": {
     "duration": 0.020068,
     "end_time": "2023-01-11T08:10:14.516591",
     "exception": false,
     "start_time": "2023-01-11T08:10:14.496523",
     "status": "completed"
    },
    "tags": []
   },
   "source": [
    "# Encoding categorical Features"
   ]
  },
  {
   "cell_type": "code",
   "execution_count": 34,
   "id": "648581ae",
   "metadata": {
    "execution": {
     "iopub.execute_input": "2023-01-11T08:10:14.557994Z",
     "iopub.status.busy": "2023-01-11T08:10:14.557286Z",
     "iopub.status.idle": "2023-01-11T08:10:14.582802Z",
     "shell.execute_reply": "2023-01-11T08:10:14.581947Z"
    },
    "papermill": {
     "duration": 0.04828,
     "end_time": "2023-01-11T08:10:14.584772",
     "exception": false,
     "start_time": "2023-01-11T08:10:14.536492",
     "status": "completed"
    },
    "tags": []
   },
   "outputs": [],
   "source": [
    "le=LabelEncoder()\n",
    "train['HomePlanet']=le.fit_transform(train['HomePlanet'])\n",
    "train['CryoSleep']=le.fit_transform(train['CryoSleep'])\n",
    "train['Cabin']=le.fit_transform(train['Cabin'])\n",
    "train['Destination']=le.fit_transform(train['Destination'])\n",
    "train['VIP']=le.fit_transform(train['VIP'])\n",
    "train['Transported']=le.fit_transform(train['Transported'])"
   ]
  },
  {
   "cell_type": "code",
   "execution_count": 35,
   "id": "71728b84",
   "metadata": {
    "execution": {
     "iopub.execute_input": "2023-01-11T08:10:14.626426Z",
     "iopub.status.busy": "2023-01-11T08:10:14.625549Z",
     "iopub.status.idle": "2023-01-11T08:10:14.636146Z",
     "shell.execute_reply": "2023-01-11T08:10:14.635299Z"
    },
    "papermill": {
     "duration": 0.033746,
     "end_time": "2023-01-11T08:10:14.638302",
     "exception": false,
     "start_time": "2023-01-11T08:10:14.604556",
     "status": "completed"
    },
    "tags": []
   },
   "outputs": [],
   "source": [
    "train.drop([\"Name\" ,\"Cabin\"] , axis = 1 ,inplace = True)\n",
    "test.drop([\"Name\" ,\"Cabin\"] , axis = 1 ,inplace = True)\n",
    "X = train.drop('Transported' , axis =1 )\n",
    "y = train['Transported']\n",
    "X_train , X_test , y_train , y_test = train_test_split(X , \n",
    "                                                       y, \n",
    "                                                       random_state = 12 ,\n",
    "                                                       test_size =0.33)"
   ]
  },
  {
   "cell_type": "code",
   "execution_count": 36,
   "id": "1636197a",
   "metadata": {
    "execution": {
     "iopub.execute_input": "2023-01-11T08:10:14.681138Z",
     "iopub.status.busy": "2023-01-11T08:10:14.679676Z",
     "iopub.status.idle": "2023-01-11T08:10:28.197681Z",
     "shell.execute_reply": "2023-01-11T08:10:28.196464Z"
    },
    "papermill": {
     "duration": 13.541994,
     "end_time": "2023-01-11T08:10:28.200248",
     "exception": false,
     "start_time": "2023-01-11T08:10:14.658254",
     "status": "completed"
    },
    "tags": []
   },
   "outputs": [],
   "source": [
    "clf = LazyClassifier(verbose=0,\n",
    "                     ignore_warnings=True,\n",
    "                     custom_metric=None,\n",
    "                     predictions=False,\n",
    "                     random_state=12,\n",
    "                     classifiers='all')\n",
    "\n",
    "models, predictions = clf.fit(X_train , X_test , y_train , y_test)\n",
    "clear_output()"
   ]
  },
  {
   "cell_type": "code",
   "execution_count": 37,
   "id": "e0bcb329",
   "metadata": {
    "execution": {
     "iopub.execute_input": "2023-01-11T08:10:28.242237Z",
     "iopub.status.busy": "2023-01-11T08:10:28.241934Z",
     "iopub.status.idle": "2023-01-11T08:10:28.256595Z",
     "shell.execute_reply": "2023-01-11T08:10:28.255746Z"
    },
    "papermill": {
     "duration": 0.037915,
     "end_time": "2023-01-11T08:10:28.258691",
     "exception": false,
     "start_time": "2023-01-11T08:10:28.220776",
     "status": "completed"
    },
    "tags": []
   },
   "outputs": [
    {
     "data": {
      "text/html": [
       "<div>\n",
       "<style scoped>\n",
       "    .dataframe tbody tr th:only-of-type {\n",
       "        vertical-align: middle;\n",
       "    }\n",
       "\n",
       "    .dataframe tbody tr th {\n",
       "        vertical-align: top;\n",
       "    }\n",
       "\n",
       "    .dataframe thead th {\n",
       "        text-align: right;\n",
       "    }\n",
       "</style>\n",
       "<table border=\"1\" class=\"dataframe\">\n",
       "  <thead>\n",
       "    <tr style=\"text-align: right;\">\n",
       "      <th></th>\n",
       "      <th>Accuracy</th>\n",
       "      <th>Balanced Accuracy</th>\n",
       "      <th>ROC AUC</th>\n",
       "      <th>F1 Score</th>\n",
       "      <th>Time Taken</th>\n",
       "    </tr>\n",
       "    <tr>\n",
       "      <th>Model</th>\n",
       "      <th></th>\n",
       "      <th></th>\n",
       "      <th></th>\n",
       "      <th></th>\n",
       "      <th></th>\n",
       "    </tr>\n",
       "  </thead>\n",
       "  <tbody>\n",
       "    <tr>\n",
       "      <th>LGBMClassifier</th>\n",
       "      <td>0.79</td>\n",
       "      <td>0.79</td>\n",
       "      <td>0.79</td>\n",
       "      <td>0.79</td>\n",
       "      <td>0.18</td>\n",
       "    </tr>\n",
       "    <tr>\n",
       "      <th>XGBClassifier</th>\n",
       "      <td>0.78</td>\n",
       "      <td>0.78</td>\n",
       "      <td>0.78</td>\n",
       "      <td>0.78</td>\n",
       "      <td>1.85</td>\n",
       "    </tr>\n",
       "    <tr>\n",
       "      <th>AdaBoostClassifier</th>\n",
       "      <td>0.78</td>\n",
       "      <td>0.78</td>\n",
       "      <td>0.78</td>\n",
       "      <td>0.78</td>\n",
       "      <td>0.27</td>\n",
       "    </tr>\n",
       "    <tr>\n",
       "      <th>RandomForestClassifier</th>\n",
       "      <td>0.77</td>\n",
       "      <td>0.77</td>\n",
       "      <td>0.77</td>\n",
       "      <td>0.77</td>\n",
       "      <td>0.78</td>\n",
       "    </tr>\n",
       "    <tr>\n",
       "      <th>SVC</th>\n",
       "      <td>0.77</td>\n",
       "      <td>0.77</td>\n",
       "      <td>0.77</td>\n",
       "      <td>0.77</td>\n",
       "      <td>1.86</td>\n",
       "    </tr>\n",
       "    <tr>\n",
       "      <th>LogisticRegression</th>\n",
       "      <td>0.77</td>\n",
       "      <td>0.77</td>\n",
       "      <td>0.77</td>\n",
       "      <td>0.77</td>\n",
       "      <td>0.05</td>\n",
       "    </tr>\n",
       "    <tr>\n",
       "      <th>ExtraTreesClassifier</th>\n",
       "      <td>0.77</td>\n",
       "      <td>0.77</td>\n",
       "      <td>0.77</td>\n",
       "      <td>0.77</td>\n",
       "      <td>0.64</td>\n",
       "    </tr>\n",
       "    <tr>\n",
       "      <th>NuSVC</th>\n",
       "      <td>0.77</td>\n",
       "      <td>0.77</td>\n",
       "      <td>0.77</td>\n",
       "      <td>0.77</td>\n",
       "      <td>2.30</td>\n",
       "    </tr>\n",
       "    <tr>\n",
       "      <th>LabelSpreading</th>\n",
       "      <td>0.77</td>\n",
       "      <td>0.77</td>\n",
       "      <td>0.77</td>\n",
       "      <td>0.77</td>\n",
       "      <td>1.52</td>\n",
       "    </tr>\n",
       "    <tr>\n",
       "      <th>LabelPropagation</th>\n",
       "      <td>0.77</td>\n",
       "      <td>0.77</td>\n",
       "      <td>0.77</td>\n",
       "      <td>0.77</td>\n",
       "      <td>0.90</td>\n",
       "    </tr>\n",
       "    <tr>\n",
       "      <th>BaggingClassifier</th>\n",
       "      <td>0.77</td>\n",
       "      <td>0.76</td>\n",
       "      <td>0.76</td>\n",
       "      <td>0.77</td>\n",
       "      <td>0.16</td>\n",
       "    </tr>\n",
       "    <tr>\n",
       "      <th>LinearSVC</th>\n",
       "      <td>0.76</td>\n",
       "      <td>0.76</td>\n",
       "      <td>0.76</td>\n",
       "      <td>0.76</td>\n",
       "      <td>0.45</td>\n",
       "    </tr>\n",
       "    <tr>\n",
       "      <th>CalibratedClassifierCV</th>\n",
       "      <td>0.76</td>\n",
       "      <td>0.76</td>\n",
       "      <td>0.76</td>\n",
       "      <td>0.76</td>\n",
       "      <td>1.82</td>\n",
       "    </tr>\n",
       "    <tr>\n",
       "      <th>KNeighborsClassifier</th>\n",
       "      <td>0.76</td>\n",
       "      <td>0.76</td>\n",
       "      <td>0.76</td>\n",
       "      <td>0.76</td>\n",
       "      <td>0.17</td>\n",
       "    </tr>\n",
       "    <tr>\n",
       "      <th>BernoulliNB</th>\n",
       "      <td>0.75</td>\n",
       "      <td>0.75</td>\n",
       "      <td>0.75</td>\n",
       "      <td>0.75</td>\n",
       "      <td>0.02</td>\n",
       "    </tr>\n",
       "    <tr>\n",
       "      <th>SGDClassifier</th>\n",
       "      <td>0.75</td>\n",
       "      <td>0.75</td>\n",
       "      <td>0.75</td>\n",
       "      <td>0.75</td>\n",
       "      <td>0.08</td>\n",
       "    </tr>\n",
       "    <tr>\n",
       "      <th>LinearDiscriminantAnalysis</th>\n",
       "      <td>0.74</td>\n",
       "      <td>0.74</td>\n",
       "      <td>0.74</td>\n",
       "      <td>0.74</td>\n",
       "      <td>0.07</td>\n",
       "    </tr>\n",
       "    <tr>\n",
       "      <th>RidgeClassifier</th>\n",
       "      <td>0.74</td>\n",
       "      <td>0.74</td>\n",
       "      <td>0.74</td>\n",
       "      <td>0.74</td>\n",
       "      <td>0.03</td>\n",
       "    </tr>\n",
       "    <tr>\n",
       "      <th>RidgeClassifierCV</th>\n",
       "      <td>0.74</td>\n",
       "      <td>0.74</td>\n",
       "      <td>0.74</td>\n",
       "      <td>0.74</td>\n",
       "      <td>0.04</td>\n",
       "    </tr>\n",
       "    <tr>\n",
       "      <th>NearestCentroid</th>\n",
       "      <td>0.74</td>\n",
       "      <td>0.74</td>\n",
       "      <td>0.74</td>\n",
       "      <td>0.74</td>\n",
       "      <td>0.03</td>\n",
       "    </tr>\n",
       "    <tr>\n",
       "      <th>DecisionTreeClassifier</th>\n",
       "      <td>0.73</td>\n",
       "      <td>0.73</td>\n",
       "      <td>0.73</td>\n",
       "      <td>0.73</td>\n",
       "      <td>0.07</td>\n",
       "    </tr>\n",
       "    <tr>\n",
       "      <th>ExtraTreeClassifier</th>\n",
       "      <td>0.73</td>\n",
       "      <td>0.73</td>\n",
       "      <td>0.73</td>\n",
       "      <td>0.73</td>\n",
       "      <td>0.02</td>\n",
       "    </tr>\n",
       "    <tr>\n",
       "      <th>Perceptron</th>\n",
       "      <td>0.71</td>\n",
       "      <td>0.71</td>\n",
       "      <td>0.71</td>\n",
       "      <td>0.71</td>\n",
       "      <td>0.04</td>\n",
       "    </tr>\n",
       "    <tr>\n",
       "      <th>QuadraticDiscriminantAnalysis</th>\n",
       "      <td>0.70</td>\n",
       "      <td>0.70</td>\n",
       "      <td>0.70</td>\n",
       "      <td>0.69</td>\n",
       "      <td>0.04</td>\n",
       "    </tr>\n",
       "    <tr>\n",
       "      <th>GaussianNB</th>\n",
       "      <td>0.70</td>\n",
       "      <td>0.70</td>\n",
       "      <td>0.70</td>\n",
       "      <td>0.68</td>\n",
       "      <td>0.02</td>\n",
       "    </tr>\n",
       "    <tr>\n",
       "      <th>PassiveAggressiveClassifier</th>\n",
       "      <td>0.54</td>\n",
       "      <td>0.53</td>\n",
       "      <td>0.53</td>\n",
       "      <td>0.48</td>\n",
       "      <td>0.03</td>\n",
       "    </tr>\n",
       "    <tr>\n",
       "      <th>DummyClassifier</th>\n",
       "      <td>0.50</td>\n",
       "      <td>0.50</td>\n",
       "      <td>0.50</td>\n",
       "      <td>0.33</td>\n",
       "      <td>0.03</td>\n",
       "    </tr>\n",
       "  </tbody>\n",
       "</table>\n",
       "</div>"
      ],
      "text/plain": [
       "                               Accuracy  Balanced Accuracy  ROC AUC  F1 Score  \\\n",
       "Model                                                                           \n",
       "LGBMClassifier                     0.79               0.79     0.79      0.79   \n",
       "XGBClassifier                      0.78               0.78     0.78      0.78   \n",
       "AdaBoostClassifier                 0.78               0.78     0.78      0.78   \n",
       "RandomForestClassifier             0.77               0.77     0.77      0.77   \n",
       "SVC                                0.77               0.77     0.77      0.77   \n",
       "LogisticRegression                 0.77               0.77     0.77      0.77   \n",
       "ExtraTreesClassifier               0.77               0.77     0.77      0.77   \n",
       "NuSVC                              0.77               0.77     0.77      0.77   \n",
       "LabelSpreading                     0.77               0.77     0.77      0.77   \n",
       "LabelPropagation                   0.77               0.77     0.77      0.77   \n",
       "BaggingClassifier                  0.77               0.76     0.76      0.77   \n",
       "LinearSVC                          0.76               0.76     0.76      0.76   \n",
       "CalibratedClassifierCV             0.76               0.76     0.76      0.76   \n",
       "KNeighborsClassifier               0.76               0.76     0.76      0.76   \n",
       "BernoulliNB                        0.75               0.75     0.75      0.75   \n",
       "SGDClassifier                      0.75               0.75     0.75      0.75   \n",
       "LinearDiscriminantAnalysis         0.74               0.74     0.74      0.74   \n",
       "RidgeClassifier                    0.74               0.74     0.74      0.74   \n",
       "RidgeClassifierCV                  0.74               0.74     0.74      0.74   \n",
       "NearestCentroid                    0.74               0.74     0.74      0.74   \n",
       "DecisionTreeClassifier             0.73               0.73     0.73      0.73   \n",
       "ExtraTreeClassifier                0.73               0.73     0.73      0.73   \n",
       "Perceptron                         0.71               0.71     0.71      0.71   \n",
       "QuadraticDiscriminantAnalysis      0.70               0.70     0.70      0.69   \n",
       "GaussianNB                         0.70               0.70     0.70      0.68   \n",
       "PassiveAggressiveClassifier        0.54               0.53     0.53      0.48   \n",
       "DummyClassifier                    0.50               0.50     0.50      0.33   \n",
       "\n",
       "                               Time Taken  \n",
       "Model                                      \n",
       "LGBMClassifier                       0.18  \n",
       "XGBClassifier                        1.85  \n",
       "AdaBoostClassifier                   0.27  \n",
       "RandomForestClassifier               0.78  \n",
       "SVC                                  1.86  \n",
       "LogisticRegression                   0.05  \n",
       "ExtraTreesClassifier                 0.64  \n",
       "NuSVC                                2.30  \n",
       "LabelSpreading                       1.52  \n",
       "LabelPropagation                     0.90  \n",
       "BaggingClassifier                    0.16  \n",
       "LinearSVC                            0.45  \n",
       "CalibratedClassifierCV               1.82  \n",
       "KNeighborsClassifier                 0.17  \n",
       "BernoulliNB                          0.02  \n",
       "SGDClassifier                        0.08  \n",
       "LinearDiscriminantAnalysis           0.07  \n",
       "RidgeClassifier                      0.03  \n",
       "RidgeClassifierCV                    0.04  \n",
       "NearestCentroid                      0.03  \n",
       "DecisionTreeClassifier               0.07  \n",
       "ExtraTreeClassifier                  0.02  \n",
       "Perceptron                           0.04  \n",
       "QuadraticDiscriminantAnalysis        0.04  \n",
       "GaussianNB                           0.02  \n",
       "PassiveAggressiveClassifier          0.03  \n",
       "DummyClassifier                      0.03  "
      ]
     },
     "execution_count": 37,
     "metadata": {},
     "output_type": "execute_result"
    }
   ],
   "source": [
    "models"
   ]
  },
  {
   "cell_type": "markdown",
   "id": "ed0db56c",
   "metadata": {
    "papermill": {
     "duration": 0.022913,
     "end_time": "2023-01-11T08:10:28.308865",
     "exception": false,
     "start_time": "2023-01-11T08:10:28.285952",
     "status": "completed"
    },
    "tags": []
   },
   "source": [
    "# Accuracy vs model"
   ]
  },
  {
   "cell_type": "code",
   "execution_count": 38,
   "id": "6377ad34",
   "metadata": {
    "execution": {
     "iopub.execute_input": "2023-01-11T08:10:28.350884Z",
     "iopub.status.busy": "2023-01-11T08:10:28.350563Z",
     "iopub.status.idle": "2023-01-11T08:10:28.445784Z",
     "shell.execute_reply": "2023-01-11T08:10:28.444784Z"
    },
    "papermill": {
     "duration": 0.118848,
     "end_time": "2023-01-11T08:10:28.447925",
     "exception": false,
     "start_time": "2023-01-11T08:10:28.329077",
     "status": "completed"
    },
    "tags": []
   },
   "outputs": [
    {
     "data": {
      "text/html": [
       "<div>                            <div id=\"34d0d655-3e0b-4e0c-84c5-feb2ee63899d\" class=\"plotly-graph-div\" style=\"height:525px; width:100%;\"></div>            <script type=\"text/javascript\">                require([\"plotly\"], function(Plotly) {                    window.PLOTLYENV=window.PLOTLYENV || {};                                    if (document.getElementById(\"34d0d655-3e0b-4e0c-84c5-feb2ee63899d\")) {                    Plotly.newPlot(                        \"34d0d655-3e0b-4e0c-84c5-feb2ee63899d\",                        [{\"hovertemplate\":\"variable=Accuracy<br>Model=%{x}<br>value=%{y}<extra></extra>\",\"legendgroup\":\"Accuracy\",\"line\":{\"color\":\"blue\",\"dash\":\"solid\"},\"marker\":{\"symbol\":\"circle\"},\"mode\":\"markers+lines\",\"name\":\"Accuracy\",\"orientation\":\"v\",\"showlegend\":true,\"x\":[\"LGBMClassifier\",\"XGBClassifier\",\"AdaBoostClassifier\",\"RandomForestClassifier\",\"SVC\",\"LogisticRegression\",\"ExtraTreesClassifier\",\"NuSVC\",\"LabelSpreading\",\"LabelPropagation\",\"BaggingClassifier\",\"LinearSVC\",\"CalibratedClassifierCV\",\"KNeighborsClassifier\",\"BernoulliNB\",\"SGDClassifier\",\"LinearDiscriminantAnalysis\",\"RidgeClassifier\",\"RidgeClassifierCV\",\"NearestCentroid\",\"DecisionTreeClassifier\",\"ExtraTreeClassifier\",\"Perceptron\",\"QuadraticDiscriminantAnalysis\",\"GaussianNB\",\"PassiveAggressiveClassifier\",\"DummyClassifier\"],\"xaxis\":\"x\",\"y\":[0.7852910421749738,0.7772743116068317,0.7762286510979436,0.7748344370860927,0.7730916695712792,0.7713489020564657,0.7713489020564657,0.7699546880446149,0.7682119205298014,0.7657720460090623,0.765074939003137,0.7633321714883234,0.7622865109794353,0.7598466364586964,0.7490414778668526,0.7452073893342628,0.7445102823283374,0.7445102823283374,0.7445102823283374,0.7399790867898223,0.7302195887068665,0.7288253746950157,0.7068665040083653,0.7009410944579993,0.6978041129313349,0.5353781805507145,0.4956430812129662],\"yaxis\":\"y\",\"type\":\"scatter\"}],                        {\"template\":{\"data\":{\"histogram2dcontour\":[{\"type\":\"histogram2dcontour\",\"colorbar\":{\"outlinewidth\":0,\"ticks\":\"\"},\"colorscale\":[[0.0,\"#0d0887\"],[0.1111111111111111,\"#46039f\"],[0.2222222222222222,\"#7201a8\"],[0.3333333333333333,\"#9c179e\"],[0.4444444444444444,\"#bd3786\"],[0.5555555555555556,\"#d8576b\"],[0.6666666666666666,\"#ed7953\"],[0.7777777777777778,\"#fb9f3a\"],[0.8888888888888888,\"#fdca26\"],[1.0,\"#f0f921\"]]}],\"choropleth\":[{\"type\":\"choropleth\",\"colorbar\":{\"outlinewidth\":0,\"ticks\":\"\"}}],\"histogram2d\":[{\"type\":\"histogram2d\",\"colorbar\":{\"outlinewidth\":0,\"ticks\":\"\"},\"colorscale\":[[0.0,\"#0d0887\"],[0.1111111111111111,\"#46039f\"],[0.2222222222222222,\"#7201a8\"],[0.3333333333333333,\"#9c179e\"],[0.4444444444444444,\"#bd3786\"],[0.5555555555555556,\"#d8576b\"],[0.6666666666666666,\"#ed7953\"],[0.7777777777777778,\"#fb9f3a\"],[0.8888888888888888,\"#fdca26\"],[1.0,\"#f0f921\"]]}],\"heatmap\":[{\"type\":\"heatmap\",\"colorbar\":{\"outlinewidth\":0,\"ticks\":\"\"},\"colorscale\":[[0.0,\"#0d0887\"],[0.1111111111111111,\"#46039f\"],[0.2222222222222222,\"#7201a8\"],[0.3333333333333333,\"#9c179e\"],[0.4444444444444444,\"#bd3786\"],[0.5555555555555556,\"#d8576b\"],[0.6666666666666666,\"#ed7953\"],[0.7777777777777778,\"#fb9f3a\"],[0.8888888888888888,\"#fdca26\"],[1.0,\"#f0f921\"]]}],\"heatmapgl\":[{\"type\":\"heatmapgl\",\"colorbar\":{\"outlinewidth\":0,\"ticks\":\"\"},\"colorscale\":[[0.0,\"#0d0887\"],[0.1111111111111111,\"#46039f\"],[0.2222222222222222,\"#7201a8\"],[0.3333333333333333,\"#9c179e\"],[0.4444444444444444,\"#bd3786\"],[0.5555555555555556,\"#d8576b\"],[0.6666666666666666,\"#ed7953\"],[0.7777777777777778,\"#fb9f3a\"],[0.8888888888888888,\"#fdca26\"],[1.0,\"#f0f921\"]]}],\"contourcarpet\":[{\"type\":\"contourcarpet\",\"colorbar\":{\"outlinewidth\":0,\"ticks\":\"\"}}],\"contour\":[{\"type\":\"contour\",\"colorbar\":{\"outlinewidth\":0,\"ticks\":\"\"},\"colorscale\":[[0.0,\"#0d0887\"],[0.1111111111111111,\"#46039f\"],[0.2222222222222222,\"#7201a8\"],[0.3333333333333333,\"#9c179e\"],[0.4444444444444444,\"#bd3786\"],[0.5555555555555556,\"#d8576b\"],[0.6666666666666666,\"#ed7953\"],[0.7777777777777778,\"#fb9f3a\"],[0.8888888888888888,\"#fdca26\"],[1.0,\"#f0f921\"]]}],\"surface\":[{\"type\":\"surface\",\"colorbar\":{\"outlinewidth\":0,\"ticks\":\"\"},\"colorscale\":[[0.0,\"#0d0887\"],[0.1111111111111111,\"#46039f\"],[0.2222222222222222,\"#7201a8\"],[0.3333333333333333,\"#9c179e\"],[0.4444444444444444,\"#bd3786\"],[0.5555555555555556,\"#d8576b\"],[0.6666666666666666,\"#ed7953\"],[0.7777777777777778,\"#fb9f3a\"],[0.8888888888888888,\"#fdca26\"],[1.0,\"#f0f921\"]]}],\"mesh3d\":[{\"type\":\"mesh3d\",\"colorbar\":{\"outlinewidth\":0,\"ticks\":\"\"}}],\"scatter\":[{\"fillpattern\":{\"fillmode\":\"overlay\",\"size\":10,\"solidity\":0.2},\"type\":\"scatter\"}],\"parcoords\":[{\"type\":\"parcoords\",\"line\":{\"colorbar\":{\"outlinewidth\":0,\"ticks\":\"\"}}}],\"scatterpolargl\":[{\"type\":\"scatterpolargl\",\"marker\":{\"colorbar\":{\"outlinewidth\":0,\"ticks\":\"\"}}}],\"bar\":[{\"error_x\":{\"color\":\"#2a3f5f\"},\"error_y\":{\"color\":\"#2a3f5f\"},\"marker\":{\"line\":{\"color\":\"#E5ECF6\",\"width\":0.5},\"pattern\":{\"fillmode\":\"overlay\",\"size\":10,\"solidity\":0.2}},\"type\":\"bar\"}],\"scattergeo\":[{\"type\":\"scattergeo\",\"marker\":{\"colorbar\":{\"outlinewidth\":0,\"ticks\":\"\"}}}],\"scatterpolar\":[{\"type\":\"scatterpolar\",\"marker\":{\"colorbar\":{\"outlinewidth\":0,\"ticks\":\"\"}}}],\"histogram\":[{\"marker\":{\"pattern\":{\"fillmode\":\"overlay\",\"size\":10,\"solidity\":0.2}},\"type\":\"histogram\"}],\"scattergl\":[{\"type\":\"scattergl\",\"marker\":{\"colorbar\":{\"outlinewidth\":0,\"ticks\":\"\"}}}],\"scatter3d\":[{\"type\":\"scatter3d\",\"line\":{\"colorbar\":{\"outlinewidth\":0,\"ticks\":\"\"}},\"marker\":{\"colorbar\":{\"outlinewidth\":0,\"ticks\":\"\"}}}],\"scattermapbox\":[{\"type\":\"scattermapbox\",\"marker\":{\"colorbar\":{\"outlinewidth\":0,\"ticks\":\"\"}}}],\"scatterternary\":[{\"type\":\"scatterternary\",\"marker\":{\"colorbar\":{\"outlinewidth\":0,\"ticks\":\"\"}}}],\"scattercarpet\":[{\"type\":\"scattercarpet\",\"marker\":{\"colorbar\":{\"outlinewidth\":0,\"ticks\":\"\"}}}],\"carpet\":[{\"aaxis\":{\"endlinecolor\":\"#2a3f5f\",\"gridcolor\":\"white\",\"linecolor\":\"white\",\"minorgridcolor\":\"white\",\"startlinecolor\":\"#2a3f5f\"},\"baxis\":{\"endlinecolor\":\"#2a3f5f\",\"gridcolor\":\"white\",\"linecolor\":\"white\",\"minorgridcolor\":\"white\",\"startlinecolor\":\"#2a3f5f\"},\"type\":\"carpet\"}],\"table\":[{\"cells\":{\"fill\":{\"color\":\"#EBF0F8\"},\"line\":{\"color\":\"white\"}},\"header\":{\"fill\":{\"color\":\"#C8D4E3\"},\"line\":{\"color\":\"white\"}},\"type\":\"table\"}],\"barpolar\":[{\"marker\":{\"line\":{\"color\":\"#E5ECF6\",\"width\":0.5},\"pattern\":{\"fillmode\":\"overlay\",\"size\":10,\"solidity\":0.2}},\"type\":\"barpolar\"}],\"pie\":[{\"automargin\":true,\"type\":\"pie\"}]},\"layout\":{\"autotypenumbers\":\"strict\",\"colorway\":[\"#636efa\",\"#EF553B\",\"#00cc96\",\"#ab63fa\",\"#FFA15A\",\"#19d3f3\",\"#FF6692\",\"#B6E880\",\"#FF97FF\",\"#FECB52\"],\"font\":{\"color\":\"#2a3f5f\"},\"hovermode\":\"closest\",\"hoverlabel\":{\"align\":\"left\"},\"paper_bgcolor\":\"white\",\"plot_bgcolor\":\"#E5ECF6\",\"polar\":{\"bgcolor\":\"#E5ECF6\",\"angularaxis\":{\"gridcolor\":\"white\",\"linecolor\":\"white\",\"ticks\":\"\"},\"radialaxis\":{\"gridcolor\":\"white\",\"linecolor\":\"white\",\"ticks\":\"\"}},\"ternary\":{\"bgcolor\":\"#E5ECF6\",\"aaxis\":{\"gridcolor\":\"white\",\"linecolor\":\"white\",\"ticks\":\"\"},\"baxis\":{\"gridcolor\":\"white\",\"linecolor\":\"white\",\"ticks\":\"\"},\"caxis\":{\"gridcolor\":\"white\",\"linecolor\":\"white\",\"ticks\":\"\"}},\"coloraxis\":{\"colorbar\":{\"outlinewidth\":0,\"ticks\":\"\"}},\"colorscale\":{\"sequential\":[[0.0,\"#0d0887\"],[0.1111111111111111,\"#46039f\"],[0.2222222222222222,\"#7201a8\"],[0.3333333333333333,\"#9c179e\"],[0.4444444444444444,\"#bd3786\"],[0.5555555555555556,\"#d8576b\"],[0.6666666666666666,\"#ed7953\"],[0.7777777777777778,\"#fb9f3a\"],[0.8888888888888888,\"#fdca26\"],[1.0,\"#f0f921\"]],\"sequentialminus\":[[0.0,\"#0d0887\"],[0.1111111111111111,\"#46039f\"],[0.2222222222222222,\"#7201a8\"],[0.3333333333333333,\"#9c179e\"],[0.4444444444444444,\"#bd3786\"],[0.5555555555555556,\"#d8576b\"],[0.6666666666666666,\"#ed7953\"],[0.7777777777777778,\"#fb9f3a\"],[0.8888888888888888,\"#fdca26\"],[1.0,\"#f0f921\"]],\"diverging\":[[0,\"#8e0152\"],[0.1,\"#c51b7d\"],[0.2,\"#de77ae\"],[0.3,\"#f1b6da\"],[0.4,\"#fde0ef\"],[0.5,\"#f7f7f7\"],[0.6,\"#e6f5d0\"],[0.7,\"#b8e186\"],[0.8,\"#7fbc41\"],[0.9,\"#4d9221\"],[1,\"#276419\"]]},\"xaxis\":{\"gridcolor\":\"white\",\"linecolor\":\"white\",\"ticks\":\"\",\"title\":{\"standoff\":15},\"zerolinecolor\":\"white\",\"automargin\":true,\"zerolinewidth\":2},\"yaxis\":{\"gridcolor\":\"white\",\"linecolor\":\"white\",\"ticks\":\"\",\"title\":{\"standoff\":15},\"zerolinecolor\":\"white\",\"automargin\":true,\"zerolinewidth\":2},\"scene\":{\"xaxis\":{\"backgroundcolor\":\"#E5ECF6\",\"gridcolor\":\"white\",\"linecolor\":\"white\",\"showbackground\":true,\"ticks\":\"\",\"zerolinecolor\":\"white\",\"gridwidth\":2},\"yaxis\":{\"backgroundcolor\":\"#E5ECF6\",\"gridcolor\":\"white\",\"linecolor\":\"white\",\"showbackground\":true,\"ticks\":\"\",\"zerolinecolor\":\"white\",\"gridwidth\":2},\"zaxis\":{\"backgroundcolor\":\"#E5ECF6\",\"gridcolor\":\"white\",\"linecolor\":\"white\",\"showbackground\":true,\"ticks\":\"\",\"zerolinecolor\":\"white\",\"gridwidth\":2}},\"shapedefaults\":{\"line\":{\"color\":\"#2a3f5f\"}},\"annotationdefaults\":{\"arrowcolor\":\"#2a3f5f\",\"arrowhead\":0,\"arrowwidth\":1},\"geo\":{\"bgcolor\":\"white\",\"landcolor\":\"#E5ECF6\",\"subunitcolor\":\"white\",\"showland\":true,\"showlakes\":true,\"lakecolor\":\"white\"},\"title\":{\"x\":0.05},\"mapbox\":{\"style\":\"light\"}}},\"xaxis\":{\"anchor\":\"y\",\"domain\":[0.0,1.0],\"title\":{\"text\":\"Model\"},\"rangeslider\":{\"visible\":false}},\"yaxis\":{\"anchor\":\"x\",\"domain\":[0.0,1.0],\"title\":{\"text\":\"Accuracy\"}},\"legend\":{\"title\":{\"text\":\"variable\"},\"tracegroupgap\":0},\"margin\":{\"t\":60},\"title\":{\"text\":\"Accuracy vs Model\",\"y\":0.94,\"x\":0.5,\"xanchor\":\"center\",\"yanchor\":\"top\"},\"showlegend\":true},                        {\"responsive\": true}                    ).then(function(){\n",
       "                            \n",
       "var gd = document.getElementById('34d0d655-3e0b-4e0c-84c5-feb2ee63899d');\n",
       "var x = new MutationObserver(function (mutations, observer) {{\n",
       "        var display = window.getComputedStyle(gd).display;\n",
       "        if (!display || display === 'none') {{\n",
       "            console.log([gd, 'removed!']);\n",
       "            Plotly.purge(gd);\n",
       "            observer.disconnect();\n",
       "        }}\n",
       "}});\n",
       "\n",
       "// Listen for the removal of the full notebook cells\n",
       "var notebookContainer = gd.closest('#notebook-container');\n",
       "if (notebookContainer) {{\n",
       "    x.observe(notebookContainer, {childList: true});\n",
       "}}\n",
       "\n",
       "// Listen for the clearing of the current output cell\n",
       "var outputEl = gd.closest('.output');\n",
       "if (outputEl) {{\n",
       "    x.observe(outputEl, {childList: true});\n",
       "}}\n",
       "\n",
       "                        })                };                });            </script>        </div>"
      ]
     },
     "metadata": {},
     "output_type": "display_data"
    }
   ],
   "source": [
    "line=px.line(data_frame=models,y=['Accuracy'],markers=True)\n",
    "line.update_xaxes(title=\"Model\",\n",
    "              rangeslider_visible = False)\n",
    "line.update_yaxes(title = \"Accuracy\")\n",
    "line.update_traces(line_color=\"blue\")\n",
    "line.update_layout(showlegend = True,\n",
    "    title = {\n",
    "        'text': 'Accuracy vs Model',\n",
    "        'y':0.94,\n",
    "        'x':0.5,\n",
    "        'xanchor': 'center',\n",
    "        'yanchor': 'top'})\n",
    "line.show()"
   ]
  },
  {
   "cell_type": "markdown",
   "id": "4cad381f",
   "metadata": {
    "papermill": {
     "duration": 0.020461,
     "end_time": "2023-01-11T08:10:28.489484",
     "exception": false,
     "start_time": "2023-01-11T08:10:28.469023",
     "status": "completed"
    },
    "tags": []
   },
   "source": [
    "# ROC AUC vs F1 score vs Model"
   ]
  },
  {
   "cell_type": "code",
   "execution_count": 39,
   "id": "85458b45",
   "metadata": {
    "execution": {
     "iopub.execute_input": "2023-01-11T08:10:28.531803Z",
     "iopub.status.busy": "2023-01-11T08:10:28.531510Z",
     "iopub.status.idle": "2023-01-11T08:10:28.592849Z",
     "shell.execute_reply": "2023-01-11T08:10:28.591771Z"
    },
    "papermill": {
     "duration": 0.08498,
     "end_time": "2023-01-11T08:10:28.595067",
     "exception": false,
     "start_time": "2023-01-11T08:10:28.510087",
     "status": "completed"
    },
    "tags": []
   },
   "outputs": [
    {
     "data": {
      "text/html": [
       "<div>                            <div id=\"cf190d3b-40bd-4ba6-9161-8333501f8c91\" class=\"plotly-graph-div\" style=\"height:525px; width:100%;\"></div>            <script type=\"text/javascript\">                require([\"plotly\"], function(Plotly) {                    window.PLOTLYENV=window.PLOTLYENV || {};                                    if (document.getElementById(\"cf190d3b-40bd-4ba6-9161-8333501f8c91\")) {                    Plotly.newPlot(                        \"cf190d3b-40bd-4ba6-9161-8333501f8c91\",                        [{\"hovertemplate\":\"variable=ROC AUC<br>Model=%{x}<br>value=%{y}<extra></extra>\",\"legendgroup\":\"ROC AUC\",\"line\":{\"color\":\"#636efa\",\"dash\":\"solid\"},\"marker\":{\"symbol\":\"circle\"},\"mode\":\"markers+lines\",\"name\":\"ROC AUC\",\"orientation\":\"v\",\"showlegend\":true,\"x\":[\"LGBMClassifier\",\"XGBClassifier\",\"AdaBoostClassifier\",\"RandomForestClassifier\",\"SVC\",\"LogisticRegression\",\"ExtraTreesClassifier\",\"NuSVC\",\"LabelSpreading\",\"LabelPropagation\",\"BaggingClassifier\",\"LinearSVC\",\"CalibratedClassifierCV\",\"KNeighborsClassifier\",\"BernoulliNB\",\"SGDClassifier\",\"LinearDiscriminantAnalysis\",\"RidgeClassifier\",\"RidgeClassifierCV\",\"NearestCentroid\",\"DecisionTreeClassifier\",\"ExtraTreeClassifier\",\"Perceptron\",\"QuadraticDiscriminantAnalysis\",\"GaussianNB\",\"PassiveAggressiveClassifier\",\"DummyClassifier\"],\"xaxis\":\"x\",\"y\":[0.7856088594959065,0.777509508493736,0.7764485812345635,0.7748294886262571,0.7730106520401587,0.7714469628709479,0.7712404149620389,0.7696334722307271,0.7686469022187621,0.7662220297681706,0.7649659754844643,0.7632564877913176,0.7621712607781558,0.7599833109289603,0.748384552354792,0.7450209804075945,0.7437770760008826,0.7437770760008826,0.7437770760008826,0.7390238011230374,0.7305575238356287,0.7290781548127607,0.7067075582926797,0.7028562902829172,0.6996917333208919,0.5325636143259685,0.5],\"yaxis\":\"y\",\"type\":\"scatter\"},{\"hovertemplate\":\"variable=F1 Score<br>Model=%{x}<br>value=%{y}<extra></extra>\",\"legendgroup\":\"F1 Score\",\"line\":{\"color\":\"#EF553B\",\"dash\":\"solid\"},\"marker\":{\"symbol\":\"circle\"},\"mode\":\"markers+lines\",\"name\":\"F1 Score\",\"orientation\":\"v\",\"showlegend\":true,\"x\":[\"LGBMClassifier\",\"XGBClassifier\",\"AdaBoostClassifier\",\"RandomForestClassifier\",\"SVC\",\"LogisticRegression\",\"ExtraTreesClassifier\",\"NuSVC\",\"LabelSpreading\",\"LabelPropagation\",\"BaggingClassifier\",\"LinearSVC\",\"CalibratedClassifierCV\",\"KNeighborsClassifier\",\"BernoulliNB\",\"SGDClassifier\",\"LinearDiscriminantAnalysis\",\"RidgeClassifier\",\"RidgeClassifierCV\",\"NearestCentroid\",\"DecisionTreeClassifier\",\"ExtraTreeClassifier\",\"Perceptron\",\"QuadraticDiscriminantAnalysis\",\"GaussianNB\",\"PassiveAggressiveClassifier\",\"DummyClassifier\"],\"xaxis\":\"x\",\"y\":[0.785046934152287,0.7771439970810934,0.7761162263066413,0.77483673505119,0.7730650330117278,0.7713351790881547,0.7713030503214424,0.769604672367069,0.7676906658284806,0.7652055889873517,0.7650278291412381,0.7633081286040135,0.762233813599593,0.7598079457424073,0.747526690683187,0.7450710829434839,0.742598074928927,0.742598074928927,0.742598074928927,0.7366948636822109,0.7298595320437042,0.7286325481605642,0.706754257325167,0.6860519401543003,0.6832091450483374,0.48098989756696925,0.32850359426000375],\"yaxis\":\"y\",\"type\":\"scatter\"}],                        {\"template\":{\"data\":{\"histogram2dcontour\":[{\"type\":\"histogram2dcontour\",\"colorbar\":{\"outlinewidth\":0,\"ticks\":\"\"},\"colorscale\":[[0.0,\"#0d0887\"],[0.1111111111111111,\"#46039f\"],[0.2222222222222222,\"#7201a8\"],[0.3333333333333333,\"#9c179e\"],[0.4444444444444444,\"#bd3786\"],[0.5555555555555556,\"#d8576b\"],[0.6666666666666666,\"#ed7953\"],[0.7777777777777778,\"#fb9f3a\"],[0.8888888888888888,\"#fdca26\"],[1.0,\"#f0f921\"]]}],\"choropleth\":[{\"type\":\"choropleth\",\"colorbar\":{\"outlinewidth\":0,\"ticks\":\"\"}}],\"histogram2d\":[{\"type\":\"histogram2d\",\"colorbar\":{\"outlinewidth\":0,\"ticks\":\"\"},\"colorscale\":[[0.0,\"#0d0887\"],[0.1111111111111111,\"#46039f\"],[0.2222222222222222,\"#7201a8\"],[0.3333333333333333,\"#9c179e\"],[0.4444444444444444,\"#bd3786\"],[0.5555555555555556,\"#d8576b\"],[0.6666666666666666,\"#ed7953\"],[0.7777777777777778,\"#fb9f3a\"],[0.8888888888888888,\"#fdca26\"],[1.0,\"#f0f921\"]]}],\"heatmap\":[{\"type\":\"heatmap\",\"colorbar\":{\"outlinewidth\":0,\"ticks\":\"\"},\"colorscale\":[[0.0,\"#0d0887\"],[0.1111111111111111,\"#46039f\"],[0.2222222222222222,\"#7201a8\"],[0.3333333333333333,\"#9c179e\"],[0.4444444444444444,\"#bd3786\"],[0.5555555555555556,\"#d8576b\"],[0.6666666666666666,\"#ed7953\"],[0.7777777777777778,\"#fb9f3a\"],[0.8888888888888888,\"#fdca26\"],[1.0,\"#f0f921\"]]}],\"heatmapgl\":[{\"type\":\"heatmapgl\",\"colorbar\":{\"outlinewidth\":0,\"ticks\":\"\"},\"colorscale\":[[0.0,\"#0d0887\"],[0.1111111111111111,\"#46039f\"],[0.2222222222222222,\"#7201a8\"],[0.3333333333333333,\"#9c179e\"],[0.4444444444444444,\"#bd3786\"],[0.5555555555555556,\"#d8576b\"],[0.6666666666666666,\"#ed7953\"],[0.7777777777777778,\"#fb9f3a\"],[0.8888888888888888,\"#fdca26\"],[1.0,\"#f0f921\"]]}],\"contourcarpet\":[{\"type\":\"contourcarpet\",\"colorbar\":{\"outlinewidth\":0,\"ticks\":\"\"}}],\"contour\":[{\"type\":\"contour\",\"colorbar\":{\"outlinewidth\":0,\"ticks\":\"\"},\"colorscale\":[[0.0,\"#0d0887\"],[0.1111111111111111,\"#46039f\"],[0.2222222222222222,\"#7201a8\"],[0.3333333333333333,\"#9c179e\"],[0.4444444444444444,\"#bd3786\"],[0.5555555555555556,\"#d8576b\"],[0.6666666666666666,\"#ed7953\"],[0.7777777777777778,\"#fb9f3a\"],[0.8888888888888888,\"#fdca26\"],[1.0,\"#f0f921\"]]}],\"surface\":[{\"type\":\"surface\",\"colorbar\":{\"outlinewidth\":0,\"ticks\":\"\"},\"colorscale\":[[0.0,\"#0d0887\"],[0.1111111111111111,\"#46039f\"],[0.2222222222222222,\"#7201a8\"],[0.3333333333333333,\"#9c179e\"],[0.4444444444444444,\"#bd3786\"],[0.5555555555555556,\"#d8576b\"],[0.6666666666666666,\"#ed7953\"],[0.7777777777777778,\"#fb9f3a\"],[0.8888888888888888,\"#fdca26\"],[1.0,\"#f0f921\"]]}],\"mesh3d\":[{\"type\":\"mesh3d\",\"colorbar\":{\"outlinewidth\":0,\"ticks\":\"\"}}],\"scatter\":[{\"fillpattern\":{\"fillmode\":\"overlay\",\"size\":10,\"solidity\":0.2},\"type\":\"scatter\"}],\"parcoords\":[{\"type\":\"parcoords\",\"line\":{\"colorbar\":{\"outlinewidth\":0,\"ticks\":\"\"}}}],\"scatterpolargl\":[{\"type\":\"scatterpolargl\",\"marker\":{\"colorbar\":{\"outlinewidth\":0,\"ticks\":\"\"}}}],\"bar\":[{\"error_x\":{\"color\":\"#2a3f5f\"},\"error_y\":{\"color\":\"#2a3f5f\"},\"marker\":{\"line\":{\"color\":\"#E5ECF6\",\"width\":0.5},\"pattern\":{\"fillmode\":\"overlay\",\"size\":10,\"solidity\":0.2}},\"type\":\"bar\"}],\"scattergeo\":[{\"type\":\"scattergeo\",\"marker\":{\"colorbar\":{\"outlinewidth\":0,\"ticks\":\"\"}}}],\"scatterpolar\":[{\"type\":\"scatterpolar\",\"marker\":{\"colorbar\":{\"outlinewidth\":0,\"ticks\":\"\"}}}],\"histogram\":[{\"marker\":{\"pattern\":{\"fillmode\":\"overlay\",\"size\":10,\"solidity\":0.2}},\"type\":\"histogram\"}],\"scattergl\":[{\"type\":\"scattergl\",\"marker\":{\"colorbar\":{\"outlinewidth\":0,\"ticks\":\"\"}}}],\"scatter3d\":[{\"type\":\"scatter3d\",\"line\":{\"colorbar\":{\"outlinewidth\":0,\"ticks\":\"\"}},\"marker\":{\"colorbar\":{\"outlinewidth\":0,\"ticks\":\"\"}}}],\"scattermapbox\":[{\"type\":\"scattermapbox\",\"marker\":{\"colorbar\":{\"outlinewidth\":0,\"ticks\":\"\"}}}],\"scatterternary\":[{\"type\":\"scatterternary\",\"marker\":{\"colorbar\":{\"outlinewidth\":0,\"ticks\":\"\"}}}],\"scattercarpet\":[{\"type\":\"scattercarpet\",\"marker\":{\"colorbar\":{\"outlinewidth\":0,\"ticks\":\"\"}}}],\"carpet\":[{\"aaxis\":{\"endlinecolor\":\"#2a3f5f\",\"gridcolor\":\"white\",\"linecolor\":\"white\",\"minorgridcolor\":\"white\",\"startlinecolor\":\"#2a3f5f\"},\"baxis\":{\"endlinecolor\":\"#2a3f5f\",\"gridcolor\":\"white\",\"linecolor\":\"white\",\"minorgridcolor\":\"white\",\"startlinecolor\":\"#2a3f5f\"},\"type\":\"carpet\"}],\"table\":[{\"cells\":{\"fill\":{\"color\":\"#EBF0F8\"},\"line\":{\"color\":\"white\"}},\"header\":{\"fill\":{\"color\":\"#C8D4E3\"},\"line\":{\"color\":\"white\"}},\"type\":\"table\"}],\"barpolar\":[{\"marker\":{\"line\":{\"color\":\"#E5ECF6\",\"width\":0.5},\"pattern\":{\"fillmode\":\"overlay\",\"size\":10,\"solidity\":0.2}},\"type\":\"barpolar\"}],\"pie\":[{\"automargin\":true,\"type\":\"pie\"}]},\"layout\":{\"autotypenumbers\":\"strict\",\"colorway\":[\"#636efa\",\"#EF553B\",\"#00cc96\",\"#ab63fa\",\"#FFA15A\",\"#19d3f3\",\"#FF6692\",\"#B6E880\",\"#FF97FF\",\"#FECB52\"],\"font\":{\"color\":\"#2a3f5f\"},\"hovermode\":\"closest\",\"hoverlabel\":{\"align\":\"left\"},\"paper_bgcolor\":\"white\",\"plot_bgcolor\":\"#E5ECF6\",\"polar\":{\"bgcolor\":\"#E5ECF6\",\"angularaxis\":{\"gridcolor\":\"white\",\"linecolor\":\"white\",\"ticks\":\"\"},\"radialaxis\":{\"gridcolor\":\"white\",\"linecolor\":\"white\",\"ticks\":\"\"}},\"ternary\":{\"bgcolor\":\"#E5ECF6\",\"aaxis\":{\"gridcolor\":\"white\",\"linecolor\":\"white\",\"ticks\":\"\"},\"baxis\":{\"gridcolor\":\"white\",\"linecolor\":\"white\",\"ticks\":\"\"},\"caxis\":{\"gridcolor\":\"white\",\"linecolor\":\"white\",\"ticks\":\"\"}},\"coloraxis\":{\"colorbar\":{\"outlinewidth\":0,\"ticks\":\"\"}},\"colorscale\":{\"sequential\":[[0.0,\"#0d0887\"],[0.1111111111111111,\"#46039f\"],[0.2222222222222222,\"#7201a8\"],[0.3333333333333333,\"#9c179e\"],[0.4444444444444444,\"#bd3786\"],[0.5555555555555556,\"#d8576b\"],[0.6666666666666666,\"#ed7953\"],[0.7777777777777778,\"#fb9f3a\"],[0.8888888888888888,\"#fdca26\"],[1.0,\"#f0f921\"]],\"sequentialminus\":[[0.0,\"#0d0887\"],[0.1111111111111111,\"#46039f\"],[0.2222222222222222,\"#7201a8\"],[0.3333333333333333,\"#9c179e\"],[0.4444444444444444,\"#bd3786\"],[0.5555555555555556,\"#d8576b\"],[0.6666666666666666,\"#ed7953\"],[0.7777777777777778,\"#fb9f3a\"],[0.8888888888888888,\"#fdca26\"],[1.0,\"#f0f921\"]],\"diverging\":[[0,\"#8e0152\"],[0.1,\"#c51b7d\"],[0.2,\"#de77ae\"],[0.3,\"#f1b6da\"],[0.4,\"#fde0ef\"],[0.5,\"#f7f7f7\"],[0.6,\"#e6f5d0\"],[0.7,\"#b8e186\"],[0.8,\"#7fbc41\"],[0.9,\"#4d9221\"],[1,\"#276419\"]]},\"xaxis\":{\"gridcolor\":\"white\",\"linecolor\":\"white\",\"ticks\":\"\",\"title\":{\"standoff\":15},\"zerolinecolor\":\"white\",\"automargin\":true,\"zerolinewidth\":2},\"yaxis\":{\"gridcolor\":\"white\",\"linecolor\":\"white\",\"ticks\":\"\",\"title\":{\"standoff\":15},\"zerolinecolor\":\"white\",\"automargin\":true,\"zerolinewidth\":2},\"scene\":{\"xaxis\":{\"backgroundcolor\":\"#E5ECF6\",\"gridcolor\":\"white\",\"linecolor\":\"white\",\"showbackground\":true,\"ticks\":\"\",\"zerolinecolor\":\"white\",\"gridwidth\":2},\"yaxis\":{\"backgroundcolor\":\"#E5ECF6\",\"gridcolor\":\"white\",\"linecolor\":\"white\",\"showbackground\":true,\"ticks\":\"\",\"zerolinecolor\":\"white\",\"gridwidth\":2},\"zaxis\":{\"backgroundcolor\":\"#E5ECF6\",\"gridcolor\":\"white\",\"linecolor\":\"white\",\"showbackground\":true,\"ticks\":\"\",\"zerolinecolor\":\"white\",\"gridwidth\":2}},\"shapedefaults\":{\"line\":{\"color\":\"#2a3f5f\"}},\"annotationdefaults\":{\"arrowcolor\":\"#2a3f5f\",\"arrowhead\":0,\"arrowwidth\":1},\"geo\":{\"bgcolor\":\"white\",\"landcolor\":\"#E5ECF6\",\"subunitcolor\":\"white\",\"showland\":true,\"showlakes\":true,\"lakecolor\":\"white\"},\"title\":{\"x\":0.05},\"mapbox\":{\"style\":\"light\"}}},\"xaxis\":{\"anchor\":\"y\",\"domain\":[0.0,1.0],\"title\":{\"text\":\"Model\"},\"rangeslider\":{\"visible\":false}},\"yaxis\":{\"anchor\":\"x\",\"domain\":[0.0,1.0],\"title\":{\"text\":\"ROC AUC SCORE\"}},\"legend\":{\"title\":{\"text\":\"variable\"},\"tracegroupgap\":0},\"margin\":{\"t\":60},\"title\":{\"text\":\"ROC AUC and F1 Score vs Model\",\"y\":0.94,\"x\":0.5,\"xanchor\":\"center\",\"yanchor\":\"top\"},\"showlegend\":true},                        {\"responsive\": true}                    ).then(function(){\n",
       "                            \n",
       "var gd = document.getElementById('cf190d3b-40bd-4ba6-9161-8333501f8c91');\n",
       "var x = new MutationObserver(function (mutations, observer) {{\n",
       "        var display = window.getComputedStyle(gd).display;\n",
       "        if (!display || display === 'none') {{\n",
       "            console.log([gd, 'removed!']);\n",
       "            Plotly.purge(gd);\n",
       "            observer.disconnect();\n",
       "        }}\n",
       "}});\n",
       "\n",
       "// Listen for the removal of the full notebook cells\n",
       "var notebookContainer = gd.closest('#notebook-container');\n",
       "if (notebookContainer) {{\n",
       "    x.observe(notebookContainer, {childList: true});\n",
       "}}\n",
       "\n",
       "// Listen for the clearing of the current output cell\n",
       "var outputEl = gd.closest('.output');\n",
       "if (outputEl) {{\n",
       "    x.observe(outputEl, {childList: true});\n",
       "}}\n",
       "\n",
       "                        })                };                });            </script>        </div>"
      ]
     },
     "metadata": {},
     "output_type": "display_data"
    }
   ],
   "source": [
    "line = px.line(data_frame= models ,y =[\"ROC AUC\" , \"F1 Score\"] , markers = True)\n",
    "line.update_xaxes(title=\"Model\",\n",
    "              rangeslider_visible = False)\n",
    "line.update_yaxes(title = \"ROC AUC SCORE\")\n",
    "line.update_layout(showlegend = True,\n",
    "    title = {\n",
    "        'text': 'ROC AUC and F1 Score vs Model',\n",
    "        'y':0.94,\n",
    "        'x':0.5,\n",
    "        'xanchor': 'center',\n",
    "        'yanchor': 'top'})\n",
    "\n",
    "line.show()"
   ]
  },
  {
   "cell_type": "markdown",
   "id": "04f00390",
   "metadata": {
    "papermill": {
     "duration": 0.020318,
     "end_time": "2023-01-11T08:10:28.636053",
     "exception": false,
     "start_time": "2023-01-11T08:10:28.615735",
     "status": "completed"
    },
    "tags": []
   },
   "source": [
    "# Time taken by each model"
   ]
  },
  {
   "cell_type": "code",
   "execution_count": 40,
   "id": "3a6e4403",
   "metadata": {
    "execution": {
     "iopub.execute_input": "2023-01-11T08:10:28.678502Z",
     "iopub.status.busy": "2023-01-11T08:10:28.678211Z",
     "iopub.status.idle": "2023-01-11T08:10:28.735825Z",
     "shell.execute_reply": "2023-01-11T08:10:28.734817Z"
    },
    "papermill": {
     "duration": 0.081231,
     "end_time": "2023-01-11T08:10:28.737917",
     "exception": false,
     "start_time": "2023-01-11T08:10:28.656686",
     "status": "completed"
    },
    "tags": []
   },
   "outputs": [
    {
     "data": {
      "text/html": [
       "<div>                            <div id=\"2642e24a-3e23-47c9-a252-221b87d48bb5\" class=\"plotly-graph-div\" style=\"height:525px; width:100%;\"></div>            <script type=\"text/javascript\">                require([\"plotly\"], function(Plotly) {                    window.PLOTLYENV=window.PLOTLYENV || {};                                    if (document.getElementById(\"2642e24a-3e23-47c9-a252-221b87d48bb5\")) {                    Plotly.newPlot(                        \"2642e24a-3e23-47c9-a252-221b87d48bb5\",                        [{\"hovertemplate\":\"variable=Time Taken<br>Model=%{x}<br>value=%{y}<extra></extra>\",\"legendgroup\":\"Time Taken\",\"line\":{\"color\":\"purple\",\"dash\":\"solid\"},\"marker\":{\"symbol\":\"circle\"},\"mode\":\"markers+lines\",\"name\":\"Time Taken\",\"orientation\":\"v\",\"showlegend\":true,\"x\":[\"LGBMClassifier\",\"XGBClassifier\",\"AdaBoostClassifier\",\"RandomForestClassifier\",\"SVC\",\"LogisticRegression\",\"ExtraTreesClassifier\",\"NuSVC\",\"LabelSpreading\",\"LabelPropagation\",\"BaggingClassifier\",\"LinearSVC\",\"CalibratedClassifierCV\",\"KNeighborsClassifier\",\"BernoulliNB\",\"SGDClassifier\",\"LinearDiscriminantAnalysis\",\"RidgeClassifier\",\"RidgeClassifierCV\",\"NearestCentroid\",\"DecisionTreeClassifier\",\"ExtraTreeClassifier\",\"Perceptron\",\"QuadraticDiscriminantAnalysis\",\"GaussianNB\",\"PassiveAggressiveClassifier\",\"DummyClassifier\"],\"xaxis\":\"x\",\"y\":[0.18473243713378906,1.846789836883545,0.26729393005371094,0.7768943309783936,1.8595421314239502,0.05083942413330078,0.639517068862915,2.301459789276123,1.515773057937622,0.9035382270812988,0.16471266746520996,0.4473757743835449,1.8151545524597168,0.17296481132507324,0.019730806350708008,0.07871389389038086,0.07427334785461426,0.02857828140258789,0.0387723445892334,0.030419588088989258,0.06552720069885254,0.023453235626220703,0.03686380386352539,0.03523135185241699,0.017642498016357422,0.028003692626953125,0.028037071228027344],\"yaxis\":\"y\",\"type\":\"scatter\"}],                        {\"template\":{\"data\":{\"histogram2dcontour\":[{\"type\":\"histogram2dcontour\",\"colorbar\":{\"outlinewidth\":0,\"ticks\":\"\"},\"colorscale\":[[0.0,\"#0d0887\"],[0.1111111111111111,\"#46039f\"],[0.2222222222222222,\"#7201a8\"],[0.3333333333333333,\"#9c179e\"],[0.4444444444444444,\"#bd3786\"],[0.5555555555555556,\"#d8576b\"],[0.6666666666666666,\"#ed7953\"],[0.7777777777777778,\"#fb9f3a\"],[0.8888888888888888,\"#fdca26\"],[1.0,\"#f0f921\"]]}],\"choropleth\":[{\"type\":\"choropleth\",\"colorbar\":{\"outlinewidth\":0,\"ticks\":\"\"}}],\"histogram2d\":[{\"type\":\"histogram2d\",\"colorbar\":{\"outlinewidth\":0,\"ticks\":\"\"},\"colorscale\":[[0.0,\"#0d0887\"],[0.1111111111111111,\"#46039f\"],[0.2222222222222222,\"#7201a8\"],[0.3333333333333333,\"#9c179e\"],[0.4444444444444444,\"#bd3786\"],[0.5555555555555556,\"#d8576b\"],[0.6666666666666666,\"#ed7953\"],[0.7777777777777778,\"#fb9f3a\"],[0.8888888888888888,\"#fdca26\"],[1.0,\"#f0f921\"]]}],\"heatmap\":[{\"type\":\"heatmap\",\"colorbar\":{\"outlinewidth\":0,\"ticks\":\"\"},\"colorscale\":[[0.0,\"#0d0887\"],[0.1111111111111111,\"#46039f\"],[0.2222222222222222,\"#7201a8\"],[0.3333333333333333,\"#9c179e\"],[0.4444444444444444,\"#bd3786\"],[0.5555555555555556,\"#d8576b\"],[0.6666666666666666,\"#ed7953\"],[0.7777777777777778,\"#fb9f3a\"],[0.8888888888888888,\"#fdca26\"],[1.0,\"#f0f921\"]]}],\"heatmapgl\":[{\"type\":\"heatmapgl\",\"colorbar\":{\"outlinewidth\":0,\"ticks\":\"\"},\"colorscale\":[[0.0,\"#0d0887\"],[0.1111111111111111,\"#46039f\"],[0.2222222222222222,\"#7201a8\"],[0.3333333333333333,\"#9c179e\"],[0.4444444444444444,\"#bd3786\"],[0.5555555555555556,\"#d8576b\"],[0.6666666666666666,\"#ed7953\"],[0.7777777777777778,\"#fb9f3a\"],[0.8888888888888888,\"#fdca26\"],[1.0,\"#f0f921\"]]}],\"contourcarpet\":[{\"type\":\"contourcarpet\",\"colorbar\":{\"outlinewidth\":0,\"ticks\":\"\"}}],\"contour\":[{\"type\":\"contour\",\"colorbar\":{\"outlinewidth\":0,\"ticks\":\"\"},\"colorscale\":[[0.0,\"#0d0887\"],[0.1111111111111111,\"#46039f\"],[0.2222222222222222,\"#7201a8\"],[0.3333333333333333,\"#9c179e\"],[0.4444444444444444,\"#bd3786\"],[0.5555555555555556,\"#d8576b\"],[0.6666666666666666,\"#ed7953\"],[0.7777777777777778,\"#fb9f3a\"],[0.8888888888888888,\"#fdca26\"],[1.0,\"#f0f921\"]]}],\"surface\":[{\"type\":\"surface\",\"colorbar\":{\"outlinewidth\":0,\"ticks\":\"\"},\"colorscale\":[[0.0,\"#0d0887\"],[0.1111111111111111,\"#46039f\"],[0.2222222222222222,\"#7201a8\"],[0.3333333333333333,\"#9c179e\"],[0.4444444444444444,\"#bd3786\"],[0.5555555555555556,\"#d8576b\"],[0.6666666666666666,\"#ed7953\"],[0.7777777777777778,\"#fb9f3a\"],[0.8888888888888888,\"#fdca26\"],[1.0,\"#f0f921\"]]}],\"mesh3d\":[{\"type\":\"mesh3d\",\"colorbar\":{\"outlinewidth\":0,\"ticks\":\"\"}}],\"scatter\":[{\"fillpattern\":{\"fillmode\":\"overlay\",\"size\":10,\"solidity\":0.2},\"type\":\"scatter\"}],\"parcoords\":[{\"type\":\"parcoords\",\"line\":{\"colorbar\":{\"outlinewidth\":0,\"ticks\":\"\"}}}],\"scatterpolargl\":[{\"type\":\"scatterpolargl\",\"marker\":{\"colorbar\":{\"outlinewidth\":0,\"ticks\":\"\"}}}],\"bar\":[{\"error_x\":{\"color\":\"#2a3f5f\"},\"error_y\":{\"color\":\"#2a3f5f\"},\"marker\":{\"line\":{\"color\":\"#E5ECF6\",\"width\":0.5},\"pattern\":{\"fillmode\":\"overlay\",\"size\":10,\"solidity\":0.2}},\"type\":\"bar\"}],\"scattergeo\":[{\"type\":\"scattergeo\",\"marker\":{\"colorbar\":{\"outlinewidth\":0,\"ticks\":\"\"}}}],\"scatterpolar\":[{\"type\":\"scatterpolar\",\"marker\":{\"colorbar\":{\"outlinewidth\":0,\"ticks\":\"\"}}}],\"histogram\":[{\"marker\":{\"pattern\":{\"fillmode\":\"overlay\",\"size\":10,\"solidity\":0.2}},\"type\":\"histogram\"}],\"scattergl\":[{\"type\":\"scattergl\",\"marker\":{\"colorbar\":{\"outlinewidth\":0,\"ticks\":\"\"}}}],\"scatter3d\":[{\"type\":\"scatter3d\",\"line\":{\"colorbar\":{\"outlinewidth\":0,\"ticks\":\"\"}},\"marker\":{\"colorbar\":{\"outlinewidth\":0,\"ticks\":\"\"}}}],\"scattermapbox\":[{\"type\":\"scattermapbox\",\"marker\":{\"colorbar\":{\"outlinewidth\":0,\"ticks\":\"\"}}}],\"scatterternary\":[{\"type\":\"scatterternary\",\"marker\":{\"colorbar\":{\"outlinewidth\":0,\"ticks\":\"\"}}}],\"scattercarpet\":[{\"type\":\"scattercarpet\",\"marker\":{\"colorbar\":{\"outlinewidth\":0,\"ticks\":\"\"}}}],\"carpet\":[{\"aaxis\":{\"endlinecolor\":\"#2a3f5f\",\"gridcolor\":\"white\",\"linecolor\":\"white\",\"minorgridcolor\":\"white\",\"startlinecolor\":\"#2a3f5f\"},\"baxis\":{\"endlinecolor\":\"#2a3f5f\",\"gridcolor\":\"white\",\"linecolor\":\"white\",\"minorgridcolor\":\"white\",\"startlinecolor\":\"#2a3f5f\"},\"type\":\"carpet\"}],\"table\":[{\"cells\":{\"fill\":{\"color\":\"#EBF0F8\"},\"line\":{\"color\":\"white\"}},\"header\":{\"fill\":{\"color\":\"#C8D4E3\"},\"line\":{\"color\":\"white\"}},\"type\":\"table\"}],\"barpolar\":[{\"marker\":{\"line\":{\"color\":\"#E5ECF6\",\"width\":0.5},\"pattern\":{\"fillmode\":\"overlay\",\"size\":10,\"solidity\":0.2}},\"type\":\"barpolar\"}],\"pie\":[{\"automargin\":true,\"type\":\"pie\"}]},\"layout\":{\"autotypenumbers\":\"strict\",\"colorway\":[\"#636efa\",\"#EF553B\",\"#00cc96\",\"#ab63fa\",\"#FFA15A\",\"#19d3f3\",\"#FF6692\",\"#B6E880\",\"#FF97FF\",\"#FECB52\"],\"font\":{\"color\":\"#2a3f5f\"},\"hovermode\":\"closest\",\"hoverlabel\":{\"align\":\"left\"},\"paper_bgcolor\":\"white\",\"plot_bgcolor\":\"#E5ECF6\",\"polar\":{\"bgcolor\":\"#E5ECF6\",\"angularaxis\":{\"gridcolor\":\"white\",\"linecolor\":\"white\",\"ticks\":\"\"},\"radialaxis\":{\"gridcolor\":\"white\",\"linecolor\":\"white\",\"ticks\":\"\"}},\"ternary\":{\"bgcolor\":\"#E5ECF6\",\"aaxis\":{\"gridcolor\":\"white\",\"linecolor\":\"white\",\"ticks\":\"\"},\"baxis\":{\"gridcolor\":\"white\",\"linecolor\":\"white\",\"ticks\":\"\"},\"caxis\":{\"gridcolor\":\"white\",\"linecolor\":\"white\",\"ticks\":\"\"}},\"coloraxis\":{\"colorbar\":{\"outlinewidth\":0,\"ticks\":\"\"}},\"colorscale\":{\"sequential\":[[0.0,\"#0d0887\"],[0.1111111111111111,\"#46039f\"],[0.2222222222222222,\"#7201a8\"],[0.3333333333333333,\"#9c179e\"],[0.4444444444444444,\"#bd3786\"],[0.5555555555555556,\"#d8576b\"],[0.6666666666666666,\"#ed7953\"],[0.7777777777777778,\"#fb9f3a\"],[0.8888888888888888,\"#fdca26\"],[1.0,\"#f0f921\"]],\"sequentialminus\":[[0.0,\"#0d0887\"],[0.1111111111111111,\"#46039f\"],[0.2222222222222222,\"#7201a8\"],[0.3333333333333333,\"#9c179e\"],[0.4444444444444444,\"#bd3786\"],[0.5555555555555556,\"#d8576b\"],[0.6666666666666666,\"#ed7953\"],[0.7777777777777778,\"#fb9f3a\"],[0.8888888888888888,\"#fdca26\"],[1.0,\"#f0f921\"]],\"diverging\":[[0,\"#8e0152\"],[0.1,\"#c51b7d\"],[0.2,\"#de77ae\"],[0.3,\"#f1b6da\"],[0.4,\"#fde0ef\"],[0.5,\"#f7f7f7\"],[0.6,\"#e6f5d0\"],[0.7,\"#b8e186\"],[0.8,\"#7fbc41\"],[0.9,\"#4d9221\"],[1,\"#276419\"]]},\"xaxis\":{\"gridcolor\":\"white\",\"linecolor\":\"white\",\"ticks\":\"\",\"title\":{\"standoff\":15},\"zerolinecolor\":\"white\",\"automargin\":true,\"zerolinewidth\":2},\"yaxis\":{\"gridcolor\":\"white\",\"linecolor\":\"white\",\"ticks\":\"\",\"title\":{\"standoff\":15},\"zerolinecolor\":\"white\",\"automargin\":true,\"zerolinewidth\":2},\"scene\":{\"xaxis\":{\"backgroundcolor\":\"#E5ECF6\",\"gridcolor\":\"white\",\"linecolor\":\"white\",\"showbackground\":true,\"ticks\":\"\",\"zerolinecolor\":\"white\",\"gridwidth\":2},\"yaxis\":{\"backgroundcolor\":\"#E5ECF6\",\"gridcolor\":\"white\",\"linecolor\":\"white\",\"showbackground\":true,\"ticks\":\"\",\"zerolinecolor\":\"white\",\"gridwidth\":2},\"zaxis\":{\"backgroundcolor\":\"#E5ECF6\",\"gridcolor\":\"white\",\"linecolor\":\"white\",\"showbackground\":true,\"ticks\":\"\",\"zerolinecolor\":\"white\",\"gridwidth\":2}},\"shapedefaults\":{\"line\":{\"color\":\"#2a3f5f\"}},\"annotationdefaults\":{\"arrowcolor\":\"#2a3f5f\",\"arrowhead\":0,\"arrowwidth\":1},\"geo\":{\"bgcolor\":\"white\",\"landcolor\":\"#E5ECF6\",\"subunitcolor\":\"white\",\"showland\":true,\"showlakes\":true,\"lakecolor\":\"white\"},\"title\":{\"x\":0.05},\"mapbox\":{\"style\":\"light\"}}},\"xaxis\":{\"anchor\":\"y\",\"domain\":[0.0,1.0],\"title\":{\"text\":\"Model\"},\"rangeslider\":{\"visible\":false}},\"yaxis\":{\"anchor\":\"x\",\"domain\":[0.0,1.0],\"title\":{\"text\":\"Time(s)\"}},\"legend\":{\"title\":{\"text\":\"variable\"},\"tracegroupgap\":0},\"margin\":{\"t\":60},\"title\":{\"text\":\"TIME TAKEN vs Model\",\"y\":0.94,\"x\":0.5,\"xanchor\":\"center\",\"yanchor\":\"top\"},\"showlegend\":true},                        {\"responsive\": true}                    ).then(function(){\n",
       "                            \n",
       "var gd = document.getElementById('2642e24a-3e23-47c9-a252-221b87d48bb5');\n",
       "var x = new MutationObserver(function (mutations, observer) {{\n",
       "        var display = window.getComputedStyle(gd).display;\n",
       "        if (!display || display === 'none') {{\n",
       "            console.log([gd, 'removed!']);\n",
       "            Plotly.purge(gd);\n",
       "            observer.disconnect();\n",
       "        }}\n",
       "}});\n",
       "\n",
       "// Listen for the removal of the full notebook cells\n",
       "var notebookContainer = gd.closest('#notebook-container');\n",
       "if (notebookContainer) {{\n",
       "    x.observe(notebookContainer, {childList: true});\n",
       "}}\n",
       "\n",
       "// Listen for the clearing of the current output cell\n",
       "var outputEl = gd.closest('.output');\n",
       "if (outputEl) {{\n",
       "    x.observe(outputEl, {childList: true});\n",
       "}}\n",
       "\n",
       "                        })                };                });            </script>        </div>"
      ]
     },
     "metadata": {},
     "output_type": "display_data"
    }
   ],
   "source": [
    "\n",
    "line = px.line(data_frame= models ,y =[\"Time Taken\"] , markers = True)\n",
    "line.update_xaxes(title=\"Model\",\n",
    "              rangeslider_visible = False)\n",
    "line.update_yaxes(title = \"Time(s)\")\n",
    "line.update_traces(line_color=\"purple\")\n",
    "line.update_layout(showlegend = True,\n",
    "    title = {\n",
    "        'text': 'TIME TAKEN vs Model',\n",
    "        'y':0.94,\n",
    "        'x':0.5,\n",
    "        'xanchor': 'center',\n",
    "        'yanchor': 'top'})\n",
    "\n",
    "line.show()"
   ]
  },
  {
   "cell_type": "markdown",
   "id": "c6a32483",
   "metadata": {
    "papermill": {
     "duration": 0.022065,
     "end_time": "2023-01-11T08:10:28.782682",
     "exception": false,
     "start_time": "2023-01-11T08:10:28.760617",
     "status": "completed"
    },
    "tags": []
   },
   "source": [
    "LGBM classifier is best interms of accuracy,ROC AUC, F1 score and time taken"
   ]
  },
  {
   "cell_type": "code",
   "execution_count": null,
   "id": "e47a2cf6",
   "metadata": {
    "papermill": {
     "duration": 0.022014,
     "end_time": "2023-01-11T08:10:28.826370",
     "exception": false,
     "start_time": "2023-01-11T08:10:28.804356",
     "status": "completed"
    },
    "tags": []
   },
   "outputs": [],
   "source": []
  }
 ],
 "metadata": {
  "kernelspec": {
   "display_name": "Python 3",
   "language": "python",
   "name": "python3"
  },
  "language_info": {
   "codemirror_mode": {
    "name": "ipython",
    "version": 3
   },
   "file_extension": ".py",
   "mimetype": "text/x-python",
   "name": "python",
   "nbconvert_exporter": "python",
   "pygments_lexer": "ipython3",
   "version": "3.7.12"
  },
  "papermill": {
   "default_parameters": {},
   "duration": 59.598855,
   "end_time": "2023-01-11T08:10:31.064454",
   "environment_variables": {},
   "exception": null,
   "input_path": "__notebook__.ipynb",
   "output_path": "__notebook__.ipynb",
   "parameters": {},
   "start_time": "2023-01-11T08:09:31.465599",
   "version": "2.3.4"
  }
 },
 "nbformat": 4,
 "nbformat_minor": 5
}
