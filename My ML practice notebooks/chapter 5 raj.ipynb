{
 "cells": [
  {
   "cell_type": "code",
   "execution_count": 1,
   "id": "2952e222",
   "metadata": {},
   "outputs": [],
   "source": [
    "import numpy as np\n",
    "import pandas as pd\n",
    "import matplotlib.pyplot as plt\n",
    "%matplotlib inline"
   ]
  },
  {
   "cell_type": "code",
   "execution_count": 2,
   "id": "879112d4",
   "metadata": {},
   "outputs": [],
   "source": [
    "bank_data=pd.read_csv('bill_authentication.csv')"
   ]
  },
  {
   "cell_type": "code",
   "execution_count": 3,
   "id": "d7f10024",
   "metadata": {},
   "outputs": [
    {
     "data": {
      "text/plain": [
       "(1372, 5)"
      ]
     },
     "execution_count": 3,
     "metadata": {},
     "output_type": "execute_result"
    }
   ],
   "source": [
    "bank_data.shape"
   ]
  },
  {
   "cell_type": "code",
   "execution_count": 6,
   "id": "5b00172b",
   "metadata": {},
   "outputs": [
    {
     "data": {
      "text/html": [
       "<div>\n",
       "<style scoped>\n",
       "    .dataframe tbody tr th:only-of-type {\n",
       "        vertical-align: middle;\n",
       "    }\n",
       "\n",
       "    .dataframe tbody tr th {\n",
       "        vertical-align: top;\n",
       "    }\n",
       "\n",
       "    .dataframe thead th {\n",
       "        text-align: right;\n",
       "    }\n",
       "</style>\n",
       "<table border=\"1\" class=\"dataframe\">\n",
       "  <thead>\n",
       "    <tr style=\"text-align: right;\">\n",
       "      <th></th>\n",
       "      <th>Variance</th>\n",
       "      <th>Skewness</th>\n",
       "      <th>Curtosis</th>\n",
       "      <th>Entropy</th>\n",
       "      <th>Class</th>\n",
       "    </tr>\n",
       "  </thead>\n",
       "  <tbody>\n",
       "    <tr>\n",
       "      <th>725</th>\n",
       "      <td>3.61810</td>\n",
       "      <td>-3.74540</td>\n",
       "      <td>2.82730</td>\n",
       "      <td>-0.71208</td>\n",
       "      <td>0</td>\n",
       "    </tr>\n",
       "    <tr>\n",
       "      <th>1083</th>\n",
       "      <td>-0.69879</td>\n",
       "      <td>-3.37710</td>\n",
       "      <td>4.12110</td>\n",
       "      <td>1.50430</td>\n",
       "      <td>1</td>\n",
       "    </tr>\n",
       "    <tr>\n",
       "      <th>54</th>\n",
       "      <td>4.92640</td>\n",
       "      <td>5.49600</td>\n",
       "      <td>-2.47740</td>\n",
       "      <td>-0.50648</td>\n",
       "      <td>0</td>\n",
       "    </tr>\n",
       "    <tr>\n",
       "      <th>1289</th>\n",
       "      <td>-1.40940</td>\n",
       "      <td>-2.12520</td>\n",
       "      <td>-0.10397</td>\n",
       "      <td>-0.19225</td>\n",
       "      <td>1</td>\n",
       "    </tr>\n",
       "    <tr>\n",
       "      <th>276</th>\n",
       "      <td>4.05200</td>\n",
       "      <td>-0.16555</td>\n",
       "      <td>0.45383</td>\n",
       "      <td>0.51248</td>\n",
       "      <td>0</td>\n",
       "    </tr>\n",
       "    <tr>\n",
       "      <th>107</th>\n",
       "      <td>-1.85840</td>\n",
       "      <td>7.88600</td>\n",
       "      <td>-1.66430</td>\n",
       "      <td>-1.83840</td>\n",
       "      <td>0</td>\n",
       "    </tr>\n",
       "    <tr>\n",
       "      <th>618</th>\n",
       "      <td>1.85920</td>\n",
       "      <td>3.20740</td>\n",
       "      <td>-0.15966</td>\n",
       "      <td>-0.26208</td>\n",
       "      <td>0</td>\n",
       "    </tr>\n",
       "    <tr>\n",
       "      <th>724</th>\n",
       "      <td>5.12130</td>\n",
       "      <td>8.55650</td>\n",
       "      <td>-3.39170</td>\n",
       "      <td>-1.54740</td>\n",
       "      <td>0</td>\n",
       "    </tr>\n",
       "    <tr>\n",
       "      <th>1141</th>\n",
       "      <td>-0.49081</td>\n",
       "      <td>2.84520</td>\n",
       "      <td>-3.64360</td>\n",
       "      <td>-3.10040</td>\n",
       "      <td>1</td>\n",
       "    </tr>\n",
       "    <tr>\n",
       "      <th>518</th>\n",
       "      <td>4.24060</td>\n",
       "      <td>-2.48520</td>\n",
       "      <td>1.60800</td>\n",
       "      <td>0.71550</td>\n",
       "      <td>0</td>\n",
       "    </tr>\n",
       "  </tbody>\n",
       "</table>\n",
       "</div>"
      ],
      "text/plain": [
       "      Variance  Skewness  Curtosis  Entropy  Class\n",
       "725    3.61810  -3.74540   2.82730 -0.71208      0\n",
       "1083  -0.69879  -3.37710   4.12110  1.50430      1\n",
       "54     4.92640   5.49600  -2.47740 -0.50648      0\n",
       "1289  -1.40940  -2.12520  -0.10397 -0.19225      1\n",
       "276    4.05200  -0.16555   0.45383  0.51248      0\n",
       "107   -1.85840   7.88600  -1.66430 -1.83840      0\n",
       "618    1.85920   3.20740  -0.15966 -0.26208      0\n",
       "724    5.12130   8.55650  -3.39170 -1.54740      0\n",
       "1141  -0.49081   2.84520  -3.64360 -3.10040      1\n",
       "518    4.24060  -2.48520   1.60800  0.71550      0"
      ]
     },
     "execution_count": 6,
     "metadata": {},
     "output_type": "execute_result"
    }
   ],
   "source": [
    "bank_data.sample(10)"
   ]
  },
  {
   "cell_type": "code",
   "execution_count": 7,
   "id": "7dd11e8b",
   "metadata": {},
   "outputs": [
    {
     "name": "stdout",
     "output_type": "stream",
     "text": [
      "<class 'pandas.core.frame.DataFrame'>\n",
      "RangeIndex: 1372 entries, 0 to 1371\n",
      "Data columns (total 5 columns):\n",
      " #   Column    Non-Null Count  Dtype  \n",
      "---  ------    --------------  -----  \n",
      " 0   Variance  1372 non-null   float64\n",
      " 1   Skewness  1372 non-null   float64\n",
      " 2   Curtosis  1372 non-null   float64\n",
      " 3   Entropy   1372 non-null   float64\n",
      " 4   Class     1372 non-null   int64  \n",
      "dtypes: float64(4), int64(1)\n",
      "memory usage: 53.7 KB\n"
     ]
    }
   ],
   "source": [
    "bank_data.info()"
   ]
  },
  {
   "cell_type": "code",
   "execution_count": 9,
   "id": "779c533e",
   "metadata": {},
   "outputs": [],
   "source": [
    "X=bank_data.drop('Class',axis=1)\n",
    "y=bank_data['Class']"
   ]
  },
  {
   "cell_type": "code",
   "execution_count": 10,
   "id": "9d807153",
   "metadata": {},
   "outputs": [],
   "source": [
    "from sklearn.model_selection import train_test_split\n",
    "X_train, X_test, y_train, y_test = train_test_split(X,y,random_state=100)"
   ]
  },
  {
   "cell_type": "code",
   "execution_count": 11,
   "id": "dc41c0bd",
   "metadata": {},
   "outputs": [],
   "source": [
    "from sklearn.tree import DecisionTreeClassifier\n",
    "classifier=DecisionTreeClassifier()\n",
    "classifier.fit(X,y)\n",
    "y_pred=classifier.predict(X_test)"
   ]
  },
  {
   "cell_type": "code",
   "execution_count": 12,
   "id": "ab189129",
   "metadata": {},
   "outputs": [
    {
     "name": "stdout",
     "output_type": "stream",
     "text": [
      "              precision    recall  f1-score   support\n",
      "\n",
      "           0       1.00      1.00      1.00       198\n",
      "           1       1.00      1.00      1.00       145\n",
      "\n",
      "    accuracy                           1.00       343\n",
      "   macro avg       1.00      1.00      1.00       343\n",
      "weighted avg       1.00      1.00      1.00       343\n",
      "\n",
      "[[198   0]\n",
      " [  0 145]]\n",
      "1.0\n"
     ]
    }
   ],
   "source": [
    "from sklearn.metrics import accuracy_score,confusion_matrix,classification_report\n",
    "print(classification_report(y_test,y_pred))\n",
    "print(confusion_matrix(y_test,y_pred))\n",
    "print(accuracy_score(y_test,y_pred))"
   ]
  },
  {
   "cell_type": "code",
   "execution_count": 13,
   "id": "7fa7e0be",
   "metadata": {},
   "outputs": [],
   "source": [
    "dataset=pd.read_csv('petrol_consumption.csv')"
   ]
  },
  {
   "cell_type": "code",
   "execution_count": 14,
   "id": "e30bdcbf",
   "metadata": {},
   "outputs": [
    {
     "data": {
      "text/html": [
       "<div>\n",
       "<style scoped>\n",
       "    .dataframe tbody tr th:only-of-type {\n",
       "        vertical-align: middle;\n",
       "    }\n",
       "\n",
       "    .dataframe tbody tr th {\n",
       "        vertical-align: top;\n",
       "    }\n",
       "\n",
       "    .dataframe thead th {\n",
       "        text-align: right;\n",
       "    }\n",
       "</style>\n",
       "<table border=\"1\" class=\"dataframe\">\n",
       "  <thead>\n",
       "    <tr style=\"text-align: right;\">\n",
       "      <th></th>\n",
       "      <th>Petrol_tax</th>\n",
       "      <th>Average_income</th>\n",
       "      <th>Paved_Highways</th>\n",
       "      <th>Population_Driver_licence(%)</th>\n",
       "      <th>Petrol_Consumption</th>\n",
       "    </tr>\n",
       "  </thead>\n",
       "  <tbody>\n",
       "    <tr>\n",
       "      <th>0</th>\n",
       "      <td>9.0</td>\n",
       "      <td>3571</td>\n",
       "      <td>1976</td>\n",
       "      <td>0.525</td>\n",
       "      <td>541</td>\n",
       "    </tr>\n",
       "    <tr>\n",
       "      <th>1</th>\n",
       "      <td>9.0</td>\n",
       "      <td>4092</td>\n",
       "      <td>1250</td>\n",
       "      <td>0.572</td>\n",
       "      <td>524</td>\n",
       "    </tr>\n",
       "    <tr>\n",
       "      <th>2</th>\n",
       "      <td>9.0</td>\n",
       "      <td>3865</td>\n",
       "      <td>1586</td>\n",
       "      <td>0.580</td>\n",
       "      <td>561</td>\n",
       "    </tr>\n",
       "    <tr>\n",
       "      <th>3</th>\n",
       "      <td>7.5</td>\n",
       "      <td>4870</td>\n",
       "      <td>2351</td>\n",
       "      <td>0.529</td>\n",
       "      <td>414</td>\n",
       "    </tr>\n",
       "    <tr>\n",
       "      <th>4</th>\n",
       "      <td>8.0</td>\n",
       "      <td>4399</td>\n",
       "      <td>431</td>\n",
       "      <td>0.544</td>\n",
       "      <td>410</td>\n",
       "    </tr>\n",
       "  </tbody>\n",
       "</table>\n",
       "</div>"
      ],
      "text/plain": [
       "   Petrol_tax  Average_income  Paved_Highways  Population_Driver_licence(%)  \\\n",
       "0         9.0            3571            1976                         0.525   \n",
       "1         9.0            4092            1250                         0.572   \n",
       "2         9.0            3865            1586                         0.580   \n",
       "3         7.5            4870            2351                         0.529   \n",
       "4         8.0            4399             431                         0.544   \n",
       "\n",
       "   Petrol_Consumption  \n",
       "0                 541  \n",
       "1                 524  \n",
       "2                 561  \n",
       "3                 414  \n",
       "4                 410  "
      ]
     },
     "execution_count": 14,
     "metadata": {},
     "output_type": "execute_result"
    }
   ],
   "source": [
    "dataset.head()"
   ]
  },
  {
   "cell_type": "code",
   "execution_count": 15,
   "id": "7b1bccf6",
   "metadata": {},
   "outputs": [],
   "source": [
    "X=dataset.drop('Petrol_Consumption',axis=1)\n",
    "y=dataset['Petrol_Consumption']"
   ]
  },
  {
   "cell_type": "code",
   "execution_count": 16,
   "id": "d99c4bd0",
   "metadata": {},
   "outputs": [],
   "source": [
    "from sklearn.model_selection import train_test_split\n",
    "X_train,X_test,y_train,y_test=train_test_split(X,y,test_size=0.2,random_state=0)"
   ]
  },
  {
   "cell_type": "code",
   "execution_count": 26,
   "id": "2b2cc555",
   "metadata": {},
   "outputs": [
    {
     "data": {
      "text/html": [
       "<div>\n",
       "<style scoped>\n",
       "    .dataframe tbody tr th:only-of-type {\n",
       "        vertical-align: middle;\n",
       "    }\n",
       "\n",
       "    .dataframe tbody tr th {\n",
       "        vertical-align: top;\n",
       "    }\n",
       "\n",
       "    .dataframe thead th {\n",
       "        text-align: right;\n",
       "    }\n",
       "</style>\n",
       "<table border=\"1\" class=\"dataframe\">\n",
       "  <thead>\n",
       "    <tr style=\"text-align: right;\">\n",
       "      <th></th>\n",
       "      <th>actual</th>\n",
       "      <th>predicted</th>\n",
       "    </tr>\n",
       "  </thead>\n",
       "  <tbody>\n",
       "    <tr>\n",
       "      <th>29</th>\n",
       "      <td>534</td>\n",
       "      <td>541.0</td>\n",
       "    </tr>\n",
       "    <tr>\n",
       "      <th>4</th>\n",
       "      <td>410</td>\n",
       "      <td>414.0</td>\n",
       "    </tr>\n",
       "    <tr>\n",
       "      <th>26</th>\n",
       "      <td>577</td>\n",
       "      <td>574.0</td>\n",
       "    </tr>\n",
       "    <tr>\n",
       "      <th>30</th>\n",
       "      <td>571</td>\n",
       "      <td>554.0</td>\n",
       "    </tr>\n",
       "    <tr>\n",
       "      <th>32</th>\n",
       "      <td>577</td>\n",
       "      <td>554.0</td>\n",
       "    </tr>\n",
       "    <tr>\n",
       "      <th>37</th>\n",
       "      <td>704</td>\n",
       "      <td>554.0</td>\n",
       "    </tr>\n",
       "    <tr>\n",
       "      <th>34</th>\n",
       "      <td>487</td>\n",
       "      <td>628.0</td>\n",
       "    </tr>\n",
       "    <tr>\n",
       "      <th>40</th>\n",
       "      <td>587</td>\n",
       "      <td>649.0</td>\n",
       "    </tr>\n",
       "    <tr>\n",
       "      <th>7</th>\n",
       "      <td>467</td>\n",
       "      <td>414.0</td>\n",
       "    </tr>\n",
       "    <tr>\n",
       "      <th>10</th>\n",
       "      <td>580</td>\n",
       "      <td>464.0</td>\n",
       "    </tr>\n",
       "  </tbody>\n",
       "</table>\n",
       "</div>"
      ],
      "text/plain": [
       "    actual  predicted\n",
       "29     534      541.0\n",
       "4      410      414.0\n",
       "26     577      574.0\n",
       "30     571      554.0\n",
       "32     577      554.0\n",
       "37     704      554.0\n",
       "34     487      628.0\n",
       "40     587      649.0\n",
       "7      467      414.0\n",
       "10     580      464.0"
      ]
     },
     "execution_count": 26,
     "metadata": {},
     "output_type": "execute_result"
    }
   ],
   "source": [
    "from sklearn.tree import DecisionTreeRegressor\n",
    "regressor=DecisionTreeRegressor()\n",
    "regressor.fit(X_train,y_train)\n",
    "y_predict=regressor.predict(X_test)\n",
    "df=pd.DataFrame({'actual':y_test,'predicted':y_predict})\n",
    "df"
   ]
  },
  {
   "cell_type": "code",
   "execution_count": 27,
   "id": "c2722439",
   "metadata": {},
   "outputs": [
    {
     "name": "stdout",
     "output_type": "stream",
     "text": [
      "Mean absolute error: 57.6\n",
      "Mean squared error: 6338.2\n",
      "Mean squared error: 79.61281303910822\n"
     ]
    }
   ],
   "source": [
    "from sklearn.metrics import mean_absolute_error,mean_squared_error\n",
    "print('Mean absolute error:',mean_absolute_error(y_test,y_predict))\n",
    "print('Mean squared error:',mean_squared_error(y_test,y_predict))\n",
    "print('Mean squared error:',np.sqrt(mean_squared_error(y_test,y_predict)))"
   ]
  },
  {
   "cell_type": "code",
   "execution_count": 29,
   "id": "c2b67701",
   "metadata": {},
   "outputs": [],
   "source": [
    "from sklearn.tree import DecisionTreeRegressor"
   ]
  },
  {
   "cell_type": "code",
   "execution_count": 30,
   "id": "9d3593b5",
   "metadata": {},
   "outputs": [
    {
     "name": "stdout",
     "output_type": "stream",
     "text": [
      "Defaulting to user installation because normal site-packages is not writeable\n",
      "Collecting Quandl\n",
      "  Downloading Quandl-3.7.0-py2.py3-none-any.whl (26 kB)\n",
      "Collecting more-itertools\n",
      "  Downloading more_itertools-8.14.0-py3-none-any.whl (52 kB)\n",
      "Requirement already satisfied: python-dateutil in c:\\anaconda\\lib\\site-packages (from Quandl) (2.8.2)\n",
      "Requirement already satisfied: requests>=2.7.0 in c:\\anaconda\\lib\\site-packages (from Quandl) (2.27.1)\n",
      "Requirement already satisfied: inflection>=0.3.1 in c:\\anaconda\\lib\\site-packages (from Quandl) (0.5.1)\n",
      "Requirement already satisfied: pandas>=0.14 in c:\\anaconda\\lib\\site-packages (from Quandl) (1.4.2)\n",
      "Requirement already satisfied: numpy>=1.8 in c:\\anaconda\\lib\\site-packages (from Quandl) (1.21.5)\n",
      "Requirement already satisfied: six in c:\\anaconda\\lib\\site-packages (from Quandl) (1.16.0)\n",
      "Requirement already satisfied: pytz>=2020.1 in c:\\anaconda\\lib\\site-packages (from pandas>=0.14->Quandl) (2021.3)\n",
      "Requirement already satisfied: idna<4,>=2.5 in c:\\anaconda\\lib\\site-packages (from requests>=2.7.0->Quandl) (3.3)\n",
      "Requirement already satisfied: charset-normalizer~=2.0.0 in c:\\anaconda\\lib\\site-packages (from requests>=2.7.0->Quandl) (2.0.4)\n",
      "Requirement already satisfied: urllib3<1.27,>=1.21.1 in c:\\anaconda\\lib\\site-packages (from requests>=2.7.0->Quandl) (1.26.9)\n",
      "Requirement already satisfied: certifi>=2017.4.17 in c:\\anaconda\\lib\\site-packages (from requests>=2.7.0->Quandl) (2021.10.8)\n",
      "Installing collected packages: more-itertools, Quandl\n",
      "Successfully installed Quandl-3.7.0 more-itertools-8.14.0\n"
     ]
    }
   ],
   "source": [
    "!pip install Quandl"
   ]
  },
  {
   "cell_type": "code",
   "execution_count": 31,
   "id": "ffb8aae6",
   "metadata": {},
   "outputs": [],
   "source": [
    "import quandl\n"
   ]
  },
  {
   "cell_type": "code",
   "execution_count": 50,
   "id": "cff62276",
   "metadata": {},
   "outputs": [],
   "source": [
    "quandl.ApiConfig.api_key='3p9YFaFoZmyJBihuV8NL'"
   ]
  },
  {
   "cell_type": "code",
   "execution_count": 51,
   "id": "f02e4a41",
   "metadata": {},
   "outputs": [],
   "source": [
    "stock_data=quandl.get('BSE/BOM500875',start_date='2022-06-20', end_date='2022-09-25')"
   ]
  },
  {
   "cell_type": "code",
   "execution_count": 52,
   "id": "541fe5c4",
   "metadata": {},
   "outputs": [
    {
     "data": {
      "text/html": [
       "<div>\n",
       "<style scoped>\n",
       "    .dataframe tbody tr th:only-of-type {\n",
       "        vertical-align: middle;\n",
       "    }\n",
       "\n",
       "    .dataframe tbody tr th {\n",
       "        vertical-align: top;\n",
       "    }\n",
       "\n",
       "    .dataframe thead th {\n",
       "        text-align: right;\n",
       "    }\n",
       "</style>\n",
       "<table border=\"1\" class=\"dataframe\">\n",
       "  <thead>\n",
       "    <tr style=\"text-align: right;\">\n",
       "      <th></th>\n",
       "      <th>Open</th>\n",
       "      <th>High</th>\n",
       "      <th>Low</th>\n",
       "      <th>Close</th>\n",
       "      <th>WAP</th>\n",
       "      <th>No. of Shares</th>\n",
       "      <th>No. of Trades</th>\n",
       "      <th>Total Turnover</th>\n",
       "      <th>Deliverable Quantity</th>\n",
       "      <th>% Deli. Qty to Traded Qty</th>\n",
       "      <th>Spread H-L</th>\n",
       "      <th>Spread C-O</th>\n",
       "    </tr>\n",
       "    <tr>\n",
       "      <th>Date</th>\n",
       "      <th></th>\n",
       "      <th></th>\n",
       "      <th></th>\n",
       "      <th></th>\n",
       "      <th></th>\n",
       "      <th></th>\n",
       "      <th></th>\n",
       "      <th></th>\n",
       "      <th></th>\n",
       "      <th></th>\n",
       "      <th></th>\n",
       "      <th></th>\n",
       "    </tr>\n",
       "  </thead>\n",
       "  <tbody>\n",
       "    <tr>\n",
       "      <th>2022-06-20</th>\n",
       "      <td>262.20</td>\n",
       "      <td>266.15</td>\n",
       "      <td>261.30</td>\n",
       "      <td>264.00</td>\n",
       "      <td>263.55</td>\n",
       "      <td>784844.0</td>\n",
       "      <td>14424.0</td>\n",
       "      <td>206843136.0</td>\n",
       "      <td>507525.0</td>\n",
       "      <td>64.67</td>\n",
       "      <td>4.85</td>\n",
       "      <td>1.80</td>\n",
       "    </tr>\n",
       "    <tr>\n",
       "      <th>2022-06-21</th>\n",
       "      <td>265.00</td>\n",
       "      <td>270.90</td>\n",
       "      <td>264.25</td>\n",
       "      <td>269.85</td>\n",
       "      <td>267.88</td>\n",
       "      <td>495620.0</td>\n",
       "      <td>6668.0</td>\n",
       "      <td>132768602.0</td>\n",
       "      <td>145970.0</td>\n",
       "      <td>29.45</td>\n",
       "      <td>6.65</td>\n",
       "      <td>4.85</td>\n",
       "    </tr>\n",
       "    <tr>\n",
       "      <th>2022-06-22</th>\n",
       "      <td>268.00</td>\n",
       "      <td>270.20</td>\n",
       "      <td>264.65</td>\n",
       "      <td>265.10</td>\n",
       "      <td>267.77</td>\n",
       "      <td>351550.0</td>\n",
       "      <td>6103.0</td>\n",
       "      <td>94135385.0</td>\n",
       "      <td>141238.0</td>\n",
       "      <td>40.18</td>\n",
       "      <td>5.55</td>\n",
       "      <td>-2.90</td>\n",
       "    </tr>\n",
       "    <tr>\n",
       "      <th>2022-06-23</th>\n",
       "      <td>264.65</td>\n",
       "      <td>267.30</td>\n",
       "      <td>262.50</td>\n",
       "      <td>265.60</td>\n",
       "      <td>265.12</td>\n",
       "      <td>204279.0</td>\n",
       "      <td>4107.0</td>\n",
       "      <td>54158816.0</td>\n",
       "      <td>73642.0</td>\n",
       "      <td>36.05</td>\n",
       "      <td>4.80</td>\n",
       "      <td>0.95</td>\n",
       "    </tr>\n",
       "    <tr>\n",
       "      <th>2022-06-24</th>\n",
       "      <td>265.60</td>\n",
       "      <td>268.30</td>\n",
       "      <td>265.20</td>\n",
       "      <td>265.80</td>\n",
       "      <td>266.40</td>\n",
       "      <td>335907.0</td>\n",
       "      <td>6114.0</td>\n",
       "      <td>89485743.0</td>\n",
       "      <td>173766.0</td>\n",
       "      <td>51.73</td>\n",
       "      <td>3.10</td>\n",
       "      <td>0.20</td>\n",
       "    </tr>\n",
       "  </tbody>\n",
       "</table>\n",
       "</div>"
      ],
      "text/plain": [
       "              Open    High     Low   Close     WAP  No. of Shares  \\\n",
       "Date                                                                \n",
       "2022-06-20  262.20  266.15  261.30  264.00  263.55       784844.0   \n",
       "2022-06-21  265.00  270.90  264.25  269.85  267.88       495620.0   \n",
       "2022-06-22  268.00  270.20  264.65  265.10  267.77       351550.0   \n",
       "2022-06-23  264.65  267.30  262.50  265.60  265.12       204279.0   \n",
       "2022-06-24  265.60  268.30  265.20  265.80  266.40       335907.0   \n",
       "\n",
       "            No. of Trades  Total Turnover  Deliverable Quantity  \\\n",
       "Date                                                              \n",
       "2022-06-20        14424.0     206843136.0              507525.0   \n",
       "2022-06-21         6668.0     132768602.0              145970.0   \n",
       "2022-06-22         6103.0      94135385.0              141238.0   \n",
       "2022-06-23         4107.0      54158816.0               73642.0   \n",
       "2022-06-24         6114.0      89485743.0              173766.0   \n",
       "\n",
       "            % Deli. Qty to Traded Qty  Spread H-L  Spread C-O  \n",
       "Date                                                           \n",
       "2022-06-20                      64.67        4.85        1.80  \n",
       "2022-06-21                      29.45        6.65        4.85  \n",
       "2022-06-22                      40.18        5.55       -2.90  \n",
       "2022-06-23                      36.05        4.80        0.95  \n",
       "2022-06-24                      51.73        3.10        0.20  "
      ]
     },
     "execution_count": 52,
     "metadata": {},
     "output_type": "execute_result"
    }
   ],
   "source": [
    "stock_data.head()"
   ]
  },
  {
   "cell_type": "code",
   "execution_count": 53,
   "id": "25661b86",
   "metadata": {},
   "outputs": [
    {
     "data": {
      "text/plain": [
       "(67, 12)"
      ]
     },
     "execution_count": 53,
     "metadata": {},
     "output_type": "execute_result"
    }
   ],
   "source": [
    "stock_data.shape"
   ]
  },
  {
   "cell_type": "code",
   "execution_count": 54,
   "id": "25e07b7b",
   "metadata": {},
   "outputs": [
    {
     "data": {
      "text/plain": [
       "Index(['Open', 'High', 'Low', 'Close', 'WAP', 'No. of Shares', 'No. of Trades',\n",
       "       'Total Turnover', 'Deliverable Quantity', '% Deli. Qty to Traded Qty',\n",
       "       'Spread H-L', 'Spread C-O'],\n",
       "      dtype='object')"
      ]
     },
     "execution_count": 54,
     "metadata": {},
     "output_type": "execute_result"
    }
   ],
   "source": [
    "stock_data.columns"
   ]
  },
  {
   "cell_type": "code",
   "execution_count": 57,
   "id": "907cd756",
   "metadata": {},
   "outputs": [
    {
     "name": "stdout",
     "output_type": "stream",
     "text": [
      "              Open   Close\n",
      "Date                      \n",
      "2022-09-20  338.20  335.70\n",
      "2022-09-21  335.00  341.05\n",
      "2022-09-22  340.85  345.10\n",
      "2022-09-23  346.85  346.25\n",
      "              Open   Close\n",
      "Date                      \n",
      "2022-09-20  335.00  341.05\n",
      "2022-09-21  340.85  345.10\n",
      "2022-09-22  346.85  346.25\n",
      "2022-09-23     NaN     NaN\n",
      "---------------------------\n",
      "              Open   Close\n",
      "Date                      \n",
      "2022-09-20  335.00  335.70\n",
      "2022-09-21  340.85  341.05\n",
      "2022-09-22  346.85  345.10\n",
      "2022-09-23     NaN  346.25\n"
     ]
    }
   ],
   "source": [
    "print(stock_data[['Open','Close']].tail(4))\n",
    "shifted_open_close=stock_data.loc[:,['Open','Close']].shift(-1)\n",
    "print(shifted_open_close.tail(4))\n",
    "print('---------------------------')\n",
    "shifted_stock_data=stock_data.copy()\n",
    "shifted_stock_data['Open']=shifted_open_close['Open']\n",
    "print(shifted_stock_data[['Open','Close']].tail(4))\n"
   ]
  },
  {
   "cell_type": "code",
   "execution_count": 82,
   "id": "efb90175",
   "metadata": {},
   "outputs": [
    {
     "name": "stdout",
     "output_type": "stream",
     "text": [
      "[[3.40850000e+02 3.45100000e+02 3.35000000e+02 3.41050000e+02\n",
      "  3.40930000e+02 5.64513000e+05 8.55600000e+03 1.92458634e+08\n",
      "  1.96863000e+05 3.48700000e+01 1.01000000e+01 6.05000000e+00]\n",
      " [3.46850000e+02 3.48650000e+02 3.40800000e+02 3.45100000e+02\n",
      "  3.46150000e+02 1.11960500e+06 2.03100000e+04 3.87551206e+08\n",
      "  3.33289000e+05 2.97700000e+01 7.85000000e+00 4.25000000e+00]]\n"
     ]
    }
   ],
   "source": [
    "print(shifted_stock_data.values[-2:])"
   ]
  },
  {
   "cell_type": "code",
   "execution_count": 64,
   "id": "a628e6c0",
   "metadata": {},
   "outputs": [
    {
     "data": {
      "text/plain": [
       "(67, 12)"
      ]
     },
     "execution_count": 64,
     "metadata": {},
     "output_type": "execute_result"
    }
   ],
   "source": [
    "shifted_stock_data.shape"
   ]
  },
  {
   "cell_type": "code",
   "execution_count": 65,
   "id": "0cbb4bf5",
   "metadata": {},
   "outputs": [
    {
     "data": {
      "text/plain": [
       "Open                         1\n",
       "High                         0\n",
       "Low                          0\n",
       "Close                        0\n",
       "WAP                          0\n",
       "No. of Shares                0\n",
       "No. of Trades                0\n",
       "Total Turnover               0\n",
       "Deliverable Quantity         1\n",
       "% Deli. Qty to Traded Qty    1\n",
       "Spread H-L                   0\n",
       "Spread C-O                   0\n",
       "dtype: int64"
      ]
     },
     "execution_count": 65,
     "metadata": {},
     "output_type": "execute_result"
    }
   ],
   "source": [
    "shifted_stock_data.isnull().sum()"
   ]
  },
  {
   "cell_type": "code",
   "execution_count": 66,
   "id": "3c72cb47",
   "metadata": {},
   "outputs": [],
   "source": [
    "shifted_stock_data.dropna(inplace=True)"
   ]
  },
  {
   "cell_type": "code",
   "execution_count": 67,
   "id": "ef3f6150",
   "metadata": {},
   "outputs": [
    {
     "data": {
      "text/plain": [
       "Open                         0\n",
       "High                         0\n",
       "Low                          0\n",
       "Close                        0\n",
       "WAP                          0\n",
       "No. of Shares                0\n",
       "No. of Trades                0\n",
       "Total Turnover               0\n",
       "Deliverable Quantity         0\n",
       "% Deli. Qty to Traded Qty    0\n",
       "Spread H-L                   0\n",
       "Spread C-O                   0\n",
       "dtype: int64"
      ]
     },
     "execution_count": 67,
     "metadata": {},
     "output_type": "execute_result"
    }
   ],
   "source": [
    "shifted_stock_data.isnull().sum()"
   ]
  },
  {
   "cell_type": "code",
   "execution_count": 68,
   "id": "cec81198",
   "metadata": {},
   "outputs": [
    {
     "data": {
      "text/plain": [
       "(66, 12)"
      ]
     },
     "execution_count": 68,
     "metadata": {},
     "output_type": "execute_result"
    }
   ],
   "source": [
    "shifted_stock_data.shape"
   ]
  },
  {
   "cell_type": "code",
   "execution_count": 69,
   "id": "3b3a6417",
   "metadata": {},
   "outputs": [],
   "source": [
    "X=shifted_stock_data.drop(['Open'],axis=1)\n",
    "y=shifted_stock_data.loc[:,'Open']"
   ]
  },
  {
   "cell_type": "code",
   "execution_count": 70,
   "id": "36c5180e",
   "metadata": {},
   "outputs": [
    {
     "data": {
      "text/html": [
       "<div>\n",
       "<style scoped>\n",
       "    .dataframe tbody tr th:only-of-type {\n",
       "        vertical-align: middle;\n",
       "    }\n",
       "\n",
       "    .dataframe tbody tr th {\n",
       "        vertical-align: top;\n",
       "    }\n",
       "\n",
       "    .dataframe thead th {\n",
       "        text-align: right;\n",
       "    }\n",
       "</style>\n",
       "<table border=\"1\" class=\"dataframe\">\n",
       "  <thead>\n",
       "    <tr style=\"text-align: right;\">\n",
       "      <th></th>\n",
       "      <th>High</th>\n",
       "      <th>Low</th>\n",
       "      <th>Close</th>\n",
       "      <th>WAP</th>\n",
       "      <th>No. of Shares</th>\n",
       "      <th>No. of Trades</th>\n",
       "      <th>Total Turnover</th>\n",
       "      <th>Deliverable Quantity</th>\n",
       "      <th>% Deli. Qty to Traded Qty</th>\n",
       "      <th>Spread H-L</th>\n",
       "      <th>Spread C-O</th>\n",
       "    </tr>\n",
       "    <tr>\n",
       "      <th>Date</th>\n",
       "      <th></th>\n",
       "      <th></th>\n",
       "      <th></th>\n",
       "      <th></th>\n",
       "      <th></th>\n",
       "      <th></th>\n",
       "      <th></th>\n",
       "      <th></th>\n",
       "      <th></th>\n",
       "      <th></th>\n",
       "      <th></th>\n",
       "    </tr>\n",
       "  </thead>\n",
       "  <tbody>\n",
       "    <tr>\n",
       "      <th>2022-06-20</th>\n",
       "      <td>266.15</td>\n",
       "      <td>261.30</td>\n",
       "      <td>264.00</td>\n",
       "      <td>263.55</td>\n",
       "      <td>784844.0</td>\n",
       "      <td>14424.0</td>\n",
       "      <td>206843136.0</td>\n",
       "      <td>507525.0</td>\n",
       "      <td>64.67</td>\n",
       "      <td>4.85</td>\n",
       "      <td>1.80</td>\n",
       "    </tr>\n",
       "    <tr>\n",
       "      <th>2022-06-21</th>\n",
       "      <td>270.90</td>\n",
       "      <td>264.25</td>\n",
       "      <td>269.85</td>\n",
       "      <td>267.88</td>\n",
       "      <td>495620.0</td>\n",
       "      <td>6668.0</td>\n",
       "      <td>132768602.0</td>\n",
       "      <td>145970.0</td>\n",
       "      <td>29.45</td>\n",
       "      <td>6.65</td>\n",
       "      <td>4.85</td>\n",
       "    </tr>\n",
       "    <tr>\n",
       "      <th>2022-06-22</th>\n",
       "      <td>270.20</td>\n",
       "      <td>264.65</td>\n",
       "      <td>265.10</td>\n",
       "      <td>267.77</td>\n",
       "      <td>351550.0</td>\n",
       "      <td>6103.0</td>\n",
       "      <td>94135385.0</td>\n",
       "      <td>141238.0</td>\n",
       "      <td>40.18</td>\n",
       "      <td>5.55</td>\n",
       "      <td>-2.90</td>\n",
       "    </tr>\n",
       "    <tr>\n",
       "      <th>2022-06-23</th>\n",
       "      <td>267.30</td>\n",
       "      <td>262.50</td>\n",
       "      <td>265.60</td>\n",
       "      <td>265.12</td>\n",
       "      <td>204279.0</td>\n",
       "      <td>4107.0</td>\n",
       "      <td>54158816.0</td>\n",
       "      <td>73642.0</td>\n",
       "      <td>36.05</td>\n",
       "      <td>4.80</td>\n",
       "      <td>0.95</td>\n",
       "    </tr>\n",
       "    <tr>\n",
       "      <th>2022-06-24</th>\n",
       "      <td>268.30</td>\n",
       "      <td>265.20</td>\n",
       "      <td>265.80</td>\n",
       "      <td>266.40</td>\n",
       "      <td>335907.0</td>\n",
       "      <td>6114.0</td>\n",
       "      <td>89485743.0</td>\n",
       "      <td>173766.0</td>\n",
       "      <td>51.73</td>\n",
       "      <td>3.10</td>\n",
       "      <td>0.20</td>\n",
       "    </tr>\n",
       "  </tbody>\n",
       "</table>\n",
       "</div>"
      ],
      "text/plain": [
       "              High     Low   Close     WAP  No. of Shares  No. of Trades  \\\n",
       "Date                                                                       \n",
       "2022-06-20  266.15  261.30  264.00  263.55       784844.0        14424.0   \n",
       "2022-06-21  270.90  264.25  269.85  267.88       495620.0         6668.0   \n",
       "2022-06-22  270.20  264.65  265.10  267.77       351550.0         6103.0   \n",
       "2022-06-23  267.30  262.50  265.60  265.12       204279.0         4107.0   \n",
       "2022-06-24  268.30  265.20  265.80  266.40       335907.0         6114.0   \n",
       "\n",
       "            Total Turnover  Deliverable Quantity  % Deli. Qty to Traded Qty  \\\n",
       "Date                                                                          \n",
       "2022-06-20     206843136.0              507525.0                      64.67   \n",
       "2022-06-21     132768602.0              145970.0                      29.45   \n",
       "2022-06-22      94135385.0              141238.0                      40.18   \n",
       "2022-06-23      54158816.0               73642.0                      36.05   \n",
       "2022-06-24      89485743.0              173766.0                      51.73   \n",
       "\n",
       "            Spread H-L  Spread C-O  \n",
       "Date                                \n",
       "2022-06-20        4.85        1.80  \n",
       "2022-06-21        6.65        4.85  \n",
       "2022-06-22        5.55       -2.90  \n",
       "2022-06-23        4.80        0.95  \n",
       "2022-06-24        3.10        0.20  "
      ]
     },
     "execution_count": 70,
     "metadata": {},
     "output_type": "execute_result"
    }
   ],
   "source": [
    "X.head()"
   ]
  },
  {
   "cell_type": "code",
   "execution_count": 72,
   "id": "5dc2597b",
   "metadata": {},
   "outputs": [],
   "source": [
    "from sklearn.model_selection import train_test_split\n",
    "x_train,x_test,y_train,y_test = train_test_split(X, y, \n",
    "                                                 test_size = 0.2, \n",
    "                                                 random_state = 0)"
   ]
  },
  {
   "cell_type": "code",
   "execution_count": 73,
   "id": "cc2ce136",
   "metadata": {},
   "outputs": [],
   "source": [
    "regr=DecisionTreeRegressor()\n",
    "regr.fit(x_train,y_train)\n",
    "pred_y=regr.predict(x_test)"
   ]
  },
  {
   "cell_type": "code",
   "execution_count": 75,
   "id": "a6831400",
   "metadata": {},
   "outputs": [
    {
     "name": "stdout",
     "output_type": "stream",
     "text": [
      "Root Mean Squared Error: 3.112044573680046\n"
     ]
    }
   ],
   "source": [
    "from sklearn import metrics  \n",
    "import numpy as np\n",
    "print('Root Mean Squared Error:', np.sqrt(metrics.mean_squared_error(y_test, pred_y))) "
   ]
  },
  {
   "cell_type": "code",
   "execution_count": 77,
   "id": "51b531c5",
   "metadata": {},
   "outputs": [
    {
     "data": {
      "text/plain": [
       "306.18731343283577"
      ]
     },
     "execution_count": 77,
     "metadata": {},
     "output_type": "execute_result"
    }
   ],
   "source": [
    "stock_data['Close'].mean()"
   ]
  },
  {
   "cell_type": "code",
   "execution_count": 85,
   "id": "af2c0876",
   "metadata": {},
   "outputs": [],
   "source": [
    "test_data=[[3.48650000e+02,3.40800000e+02,3.45100000e+02,\n",
    "  3.46150000e+02,1.11960500e+06,2.03100000e+04,3.87551206e+08,\n",
    "  3.33289000e+05,2.97700000e+01,7.85000000e+00,4.25000000e+00]]"
   ]
  },
  {
   "cell_type": "code",
   "execution_count": 86,
   "id": "2b18e863",
   "metadata": {},
   "outputs": [
    {
     "name": "stderr",
     "output_type": "stream",
     "text": [
      "C:\\anaconda\\lib\\site-packages\\sklearn\\base.py:450: UserWarning: X does not have valid feature names, but DecisionTreeRegressor was fitted with feature names\n",
      "  warnings.warn(\n"
     ]
    },
    {
     "data": {
      "text/plain": [
       "array([346.85])"
      ]
     },
     "execution_count": 86,
     "metadata": {},
     "output_type": "execute_result"
    }
   ],
   "source": [
    "regr.predict(test_data)"
   ]
  },
  {
   "cell_type": "code",
   "execution_count": null,
   "id": "967aba99",
   "metadata": {},
   "outputs": [],
   "source": []
  }
 ],
 "metadata": {
  "kernelspec": {
   "display_name": "Python 3 (ipykernel)",
   "language": "python",
   "name": "python3"
  },
  "language_info": {
   "codemirror_mode": {
    "name": "ipython",
    "version": 3
   },
   "file_extension": ".py",
   "mimetype": "text/x-python",
   "name": "python",
   "nbconvert_exporter": "python",
   "pygments_lexer": "ipython3",
   "version": "3.9.12"
  }
 },
 "nbformat": 4,
 "nbformat_minor": 5
}
