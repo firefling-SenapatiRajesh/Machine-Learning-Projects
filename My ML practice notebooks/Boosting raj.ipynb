{
 "cells": [
  {
   "cell_type": "code",
   "execution_count": 23,
   "id": "3eed766e",
   "metadata": {},
   "outputs": [],
   "source": [
    "import numpy as np\n",
    "from scipy.stats import uniform,randint\n",
    "from sklearn.datasets import load_breast_cancer,load_diabetes,load_wine\n",
    "from sklearn.metrics import confusion_matrix,accuracy_score,mean_squared_error\n",
    "from sklearn.model_selection import cross_val_score,GridSearchCV,KFold,RandomizedSearchCV,train_test_split\n",
    "import xgboost as xgb"
   ]
  },
  {
   "cell_type": "code",
   "execution_count": 3,
   "id": "72b2f6f8",
   "metadata": {},
   "outputs": [
    {
     "name": "stdout",
     "output_type": "stream",
     "text": [
      "Defaulting to user installation because normal site-packages is not writeable\n",
      "Collecting xgboost\n",
      "  Downloading xgboost-1.6.2-py3-none-win_amd64.whl (125.4 MB)\n",
      "Requirement already satisfied: scipy in c:\\anaconda\\lib\\site-packages (from xgboost) (1.7.3)\n",
      "Requirement already satisfied: numpy in c:\\anaconda\\lib\\site-packages (from xgboost) (1.21.5)\n",
      "Installing collected packages: xgboost\n",
      "Successfully installed xgboost-1.6.2\n"
     ]
    }
   ],
   "source": [
    "!pip install xgboost"
   ]
  },
  {
   "cell_type": "code",
   "execution_count": 5,
   "id": "068f63f2",
   "metadata": {},
   "outputs": [],
   "source": [
    "def display_scores(scores):\n",
    "    print(\"Scores:{0}\\nmean: {1:.3f}\\nstd : {2:.3f}\".format(scores,np.mean(scores),np.std(scores)))"
   ]
  },
  {
   "cell_type": "code",
   "execution_count": 6,
   "id": "ebacf609",
   "metadata": {},
   "outputs": [],
   "source": [
    "diabetes=load_diabetes()"
   ]
  },
  {
   "cell_type": "code",
   "execution_count": 8,
   "id": "b54b51ea",
   "metadata": {},
   "outputs": [],
   "source": [
    "X=diabetes.data\n",
    "y=diabetes.target\n",
    "xgb_model=xgb.XGBRegressor(objective='reg:squarederror',random_state=10)"
   ]
  },
  {
   "cell_type": "code",
   "execution_count": 9,
   "id": "266886bc",
   "metadata": {},
   "outputs": [],
   "source": [
    "X_train,X_test,y_train,y_test=train_test_split(X,y,random_state=10)"
   ]
  },
  {
   "cell_type": "code",
   "execution_count": 13,
   "id": "ae09eb8d",
   "metadata": {},
   "outputs": [
    {
     "data": {
      "text/plain": [
       "XGBRegressor(base_score=0.5, booster='gbtree', callbacks=None,\n",
       "             colsample_bylevel=1, colsample_bynode=1, colsample_bytree=1,\n",
       "             early_stopping_rounds=None, enable_categorical=False,\n",
       "             eval_metric=None, gamma=0, gpu_id=-1, grow_policy='depthwise',\n",
       "             importance_type=None, interaction_constraints='',\n",
       "             learning_rate=0.300000012, max_bin=256, max_cat_to_onehot=4,\n",
       "             max_delta_step=0, max_depth=6, max_leaves=0, min_child_weight=1,\n",
       "             missing=nan, monotone_constraints='()', n_estimators=100, n_jobs=0,\n",
       "             num_parallel_tree=1, predictor='auto', random_state=10,\n",
       "             reg_alpha=0, reg_lambda=1, ...)"
      ]
     },
     "execution_count": 13,
     "metadata": {},
     "output_type": "execute_result"
    }
   ],
   "source": [
    "xgb_model.fit(X_train,y_train)"
   ]
  },
  {
   "cell_type": "code",
   "execution_count": 16,
   "id": "acd42a9e",
   "metadata": {},
   "outputs": [],
   "source": [
    "predict=xgb_model.predict(X_test)"
   ]
  },
  {
   "cell_type": "code",
   "execution_count": 15,
   "id": "0dc805fb",
   "metadata": {},
   "outputs": [
    {
     "data": {
      "text/plain": [
       "XGBRegressor(base_score=0.5, booster='gbtree', callbacks=None,\n",
       "             colsample_bylevel=1, colsample_bynode=1, colsample_bytree=1,\n",
       "             early_stopping_rounds=None, enable_categorical=False,\n",
       "             eval_metric=None, gamma=0, gpu_id=-1, grow_policy='depthwise',\n",
       "             importance_type=None, interaction_constraints='',\n",
       "             learning_rate=0.300000012, max_bin=256, max_cat_to_onehot=4,\n",
       "             max_delta_step=0, max_depth=6, max_leaves=0, min_child_weight=1,\n",
       "             missing=nan, monotone_constraints='()', n_estimators=100, n_jobs=0,\n",
       "             num_parallel_tree=1, predictor='auto', random_state=10,\n",
       "             reg_alpha=0, reg_lambda=1, ...)"
      ]
     },
     "execution_count": 15,
     "metadata": {},
     "output_type": "execute_result"
    }
   ],
   "source": [
    "xgb_model"
   ]
  },
  {
   "cell_type": "code",
   "execution_count": 19,
   "id": "2f6dec25",
   "metadata": {},
   "outputs": [
    {
     "name": "stdout",
     "output_type": "stream",
     "text": [
      "RMSE:  62.664989468847764\n"
     ]
    }
   ],
   "source": [
    "mse=mean_squared_error(predict,y_test)\n",
    "mse\n",
    "print('RMSE: ',np.sqrt(mse))"
   ]
  },
  {
   "cell_type": "code",
   "execution_count": 22,
   "id": "79235758",
   "metadata": {},
   "outputs": [
    {
     "name": "stdout",
     "output_type": "stream",
     "text": [
      "[[ 0.03807591  0.05068012  0.06169621  0.02187235 -0.0442235  -0.03482076\n",
      "  -0.04340085 -0.00259226  0.01990842 -0.01764613]\n",
      " [-0.00188202 -0.04464164 -0.05147406 -0.02632783 -0.00844872 -0.01916334\n",
      "   0.07441156 -0.03949338 -0.06832974 -0.09220405]\n",
      " [ 0.08529891  0.05068012  0.04445121 -0.00567061 -0.04559945 -0.03419447\n",
      "  -0.03235593 -0.00259226  0.00286377 -0.02593034]\n",
      " [-0.08906294 -0.04464164 -0.01159501 -0.03665645  0.01219057  0.02499059\n",
      "  -0.03603757  0.03430886  0.02269202 -0.00936191]\n",
      " [ 0.00538306 -0.04464164 -0.03638469  0.02187235  0.00393485  0.01559614\n",
      "   0.00814208 -0.00259226 -0.03199144 -0.04664087]]\n",
      "[151.  75. 141. 206. 135.]\n"
     ]
    }
   ],
   "source": [
    "\n",
    "print(X[:5]) \n",
    "print(y[:5])\n",
    "\n"
   ]
  },
  {
   "cell_type": "code",
   "execution_count": 24,
   "id": "84097c1c",
   "metadata": {},
   "outputs": [],
   "source": [
    "cancer=load_breast_cancer()\n",
    "X=cancer.data\n",
    "y=cancer.target"
   ]
  },
  {
   "cell_type": "code",
   "execution_count": 29,
   "id": "a1493acd",
   "metadata": {},
   "outputs": [
    {
     "name": "stdout",
     "output_type": "stream",
     "text": [
      "[[51  2]\n",
      " [ 3 87]]\n",
      "0.965034965034965\n"
     ]
    }
   ],
   "source": [
    "xgb_model_2=xgb.XGBClassifier(objective=\"binary:logistic\", random_state=42)\n",
    "#objective=\"binary:logistic\" tell the Classifier to use logistic Regression for classification\n",
    "#objective='reg:logistic'use it when the target variable is not discrete\n",
    "# objective=\"binary:logistic\" tell the Classifier to use logistic Regression for classification\n",
    "## other objective=\"reg:logistics\" -> classification\n",
    "## objective=\"binary:logistic\"  --> use it when the target variable is discrete or binary\n",
    "## objective=\"reg:logistics\"  --> use it when the target variable is not disc\n",
    "\n",
    "X_train,X_test,y_train,y_test=train_test_split(X,y,random_state=42)\n",
    "xgb_model_2.fit(X_train,y_train)\n",
    "predict_y=xgb_model_2.predict(X_test)\n",
    "print(confusion_matrix(predict_y,y_test))\n",
    "print(accuracy_score(predict_y,y_test))"
   ]
  },
  {
   "cell_type": "code",
   "execution_count": 30,
   "id": "6064bd06",
   "metadata": {},
   "outputs": [],
   "source": [
    "wine=load_wine()"
   ]
  },
  {
   "cell_type": "code",
   "execution_count": 31,
   "id": "0fdd2381",
   "metadata": {},
   "outputs": [],
   "source": [
    "X=wine.data\n",
    "y=wine.target"
   ]
  },
  {
   "cell_type": "code",
   "execution_count": 36,
   "id": "82d06c65",
   "metadata": {},
   "outputs": [
    {
     "name": "stdout",
     "output_type": "stream",
     "text": [
      "0.9333333333333333\n",
      "[[15  2  0]\n",
      " [ 0 16  1]\n",
      " [ 0  0 11]]\n",
      "              precision    recall  f1-score   support\n",
      "\n",
      "           0       1.00      0.88      0.94        17\n",
      "           1       0.89      0.94      0.91        17\n",
      "           2       0.92      1.00      0.96        11\n",
      "\n",
      "    accuracy                           0.93        45\n",
      "   macro avg       0.94      0.94      0.94        45\n",
      "weighted avg       0.94      0.93      0.93        45\n",
      "\n"
     ]
    }
   ],
   "source": [
    "import xgboost as xgb\n",
    "X_train,X_test,y_train,y_test=train_test_split(X,y,random_state=42)\n",
    "xgb_model_3=xgb.XGBClassifier(objective='multi:softprob',random_state=42)\n",
    "xgb_model_3.fit(X_train,y_train)\n",
    "pred=xgb_model_3.predict(X_test)\n",
    "print(accuracy_score(pred,y_test))\n",
    "print(confusion_matrix(pred,y_test))\n",
    "from sklearn.metrics import classification_report\n",
    "print(classification_report(pred,y_test))"
   ]
  },
  {
   "cell_type": "code",
   "execution_count": 37,
   "id": "15968c4b",
   "metadata": {},
   "outputs": [],
   "source": [
    "X=diabetes.data\n",
    "y=diabetes.target"
   ]
  },
  {
   "cell_type": "code",
   "execution_count": 38,
   "id": "995e93ac",
   "metadata": {},
   "outputs": [
    {
     "name": "stdout",
     "output_type": "stream",
     "text": [
      "Scores:[63.94113133 61.42459265 67.48347385 69.49735119 59.90352074]\n",
      "mean: 64.450\n",
      "std : 3.599\n"
     ]
    }
   ],
   "source": [
    "kfold=KFold(n_splits=5,shuffle=True,random_state=42)\n",
    "scores=[]\n",
    "for train_index,test_index in kfold.split(X):\n",
    "    X_train,X_test=X[train_index],X[test_index]\n",
    "    y_train,y_test=y[train_index],y[test_index]\n",
    "    xgb_model=xgb.XGBRegressor(objective='reg:squarederror')\n",
    "    xgb_model.fit(X_train,y_train)\n",
    "    y_pred=xgb_model.predict(X_test)\n",
    "    scores.append(mean_squared_error(y_test,y_pred))\n",
    "display_scores(np.sqrt(scores))"
   ]
  },
  {
   "cell_type": "code",
   "execution_count": 41,
   "id": "95860261",
   "metadata": {},
   "outputs": [
    {
     "data": {
      "text/plain": [
       "array([[ 0.03807591,  0.05068012,  0.06169621, ..., -0.00259226,\n",
       "         0.01990842, -0.01764613],\n",
       "       [ 0.08529891,  0.05068012,  0.04445121, ..., -0.00259226,\n",
       "         0.00286377, -0.02593034],\n",
       "       [-0.08906294, -0.04464164, -0.01159501, ...,  0.03430886,\n",
       "         0.02269202, -0.00936191],\n",
       "       ...,\n",
       "       [ 0.04170844,  0.05068012,  0.01966154, ..., -0.00259226,\n",
       "         0.03119299,  0.00720652],\n",
       "       [ 0.04170844,  0.05068012, -0.01590626, ..., -0.01107952,\n",
       "        -0.04687948,  0.01549073],\n",
       "       [-0.04547248, -0.04464164,  0.03906215, ...,  0.02655962,\n",
       "         0.04452837, -0.02593034]])"
      ]
     },
     "execution_count": 41,
     "metadata": {},
     "output_type": "execute_result"
    }
   ],
   "source": []
  },
  {
   "cell_type": "code",
   "execution_count": 42,
   "id": "c0278e69",
   "metadata": {},
   "outputs": [],
   "source": [
    "X=cancer.data\n",
    "y=cancer.target"
   ]
  },
  {
   "cell_type": "code",
   "execution_count": 46,
   "id": "803988c5",
   "metadata": {},
   "outputs": [
    {
     "name": "stdout",
     "output_type": "stream",
     "text": [
      "[09:36:25] WARNING: C:/Users/administrator/workspace/xgboost-win64_release_1.6.0/src/learner.cc:627: \n",
      "Parameters: { \"n_estimator\" } might not be used.\n",
      "\n",
      "  This could be a false alarm, with some parameters getting used by language bindings but\n",
      "  then being mistakenly passed down to XGBoost core, or some parameter actually being used\n",
      "  but getting flagged wrongly here. Please open an issue if you find any such cases.\n",
      "\n",
      "\n",
      "[0]\tvalidation_0-error:0.05594\n",
      "[1]\tvalidation_0-error:0.06294\n",
      "[2]\tvalidation_0-error:0.04895\n",
      "[3]\tvalidation_0-error:0.04196\n",
      "[4]\tvalidation_0-error:0.04196\n",
      "[5]\tvalidation_0-error:0.03497\n",
      "[6]\tvalidation_0-error:0.04196\n",
      "[7]\tvalidation_0-error:0.04196\n",
      "[8]\tvalidation_0-error:0.03497\n",
      "[9]\tvalidation_0-error:0.02797\n",
      "[10]\tvalidation_0-error:0.02797\n",
      "[11]\tvalidation_0-error:0.02797\n",
      "[12]\tvalidation_0-error:0.02098\n",
      "[13]\tvalidation_0-error:0.02797\n",
      "[14]\tvalidation_0-error:0.02797\n",
      "[15]\tvalidation_0-error:0.02797\n",
      "[16]\tvalidation_0-error:0.02797\n",
      "[17]\tvalidation_0-error:0.02797\n",
      "[18]\tvalidation_0-error:0.02797\n",
      "[19]\tvalidation_0-error:0.02797\n",
      "[20]\tvalidation_0-error:0.02797\n",
      "[21]\tvalidation_0-error:0.02797\n",
      "[22]\tvalidation_0-error:0.02797\n",
      "[23]\tvalidation_0-error:0.02797\n",
      "[24]\tvalidation_0-error:0.02797\n",
      "[25]\tvalidation_0-error:0.02797\n",
      "[26]\tvalidation_0-error:0.02797\n",
      "[27]\tvalidation_0-error:0.02797\n",
      "best score: 0.02097902097902098, best iteration: 12, best ntree limit 13\n",
      "[0]\tvalidation_0-error:0.05594\n",
      "[1]\tvalidation_0-error:0.06294\n",
      "[2]\tvalidation_0-error:0.04895\n",
      "[3]\tvalidation_0-error:0.04196\n",
      "[4]\tvalidation_0-error:0.04196\n",
      "[5]\tvalidation_0-error:0.03497\n",
      "[6]\tvalidation_0-error:0.04196\n",
      "[7]\tvalidation_0-error:0.04196\n",
      "[8]\tvalidation_0-error:0.03497\n",
      "[9]\tvalidation_0-error:0.02797\n",
      "[10]\tvalidation_0-error:0.02797\n",
      "[11]\tvalidation_0-error:0.02797\n",
      "[12]\tvalidation_0-error:0.02098\n",
      "-------------- accuracy_score is ----------------\n"
     ]
    },
    {
     "name": "stderr",
     "output_type": "stream",
     "text": [
      "C:\\Users\\RajeshS\\AppData\\Roaming\\Python\\Python39\\site-packages\\xgboost\\sklearn.py:793: UserWarning: `early_stopping_rounds` in `fit` method is deprecated for better compatibility with scikit-learn, use `early_stopping_rounds` in constructor or`set_params` instead.\n",
      "  warnings.warn(\n"
     ]
    },
    {
     "data": {
      "text/plain": [
       "0.9790209790209791"
      ]
     },
     "execution_count": 46,
     "metadata": {},
     "output_type": "execute_result"
    }
   ],
   "source": [
    "xgb_model=xgb.XGBClassifier(objective='binary:logistic',random_state=10,eval_metric='error',n_estimator=150)\n",
    "X_train,X_test,y_train,y_test=train_test_split(X,y,random_state=10)\n",
    "xgb_model.fit(X_train,y_train,early_stopping_rounds=15,eval_set=[(X_test,y_test)])\n",
    "y_pred=xgb_model.predict(X_test)\n",
    "accuracy_score(y_pred,y_test)\n",
    "## Code Example 5 : Use XGBClassifier with Parameters.\n",
    "## This could save time for training and give better performance too.            \n",
    "# n_estimators => the number of boosted trees to train \n",
    "# early_stopping_rounds => training continues until validation has not improved in n rounds. \n",
    "# eval_set=[(X_test, y_test)] => indicates what parameters to evaluate\n",
    "# eval_metric=\"error\"  => indicates on what metric to take decision\n",
    "#              error => Binary classification error rate. It is calculated as #(wrong cases)/#(all cases)\n",
    "# so if we keep n_estimators = 150 (default is 100) and early_stopping_rounds = 15 then \n",
    "# if for 15 runs if our metric say accuracy_score stops improving then the XGBoost model \n",
    "# stop\n",
    "print(\"best score: {0}, best iteration: {1}, best ntree limit {2}\".format(xgb_model.best_score, xgb_model.best_iteration, xgb_model.best_ntree_limit))\n",
    "best_estimator=xgb_model.best_ntree_limit\n",
    "xgb_model = xgb.XGBClassifier(objective=\"binary:logistic\", random_state=10, eval_metric=\"error\", n_estimators=best_estimator) \n",
    "\n",
    "xgb_model.fit(X_train, y_train, eval_set=[(X_test, y_test)])\n",
    "\n",
    "y_pred = xgb_model.predict(X_test)\n",
    "\n",
    "print(\"-------------- accuracy_score is ----------------\")\n",
    "accuracy_score(y_test, y_pred)"
   ]
  },
  {
   "cell_type": "code",
   "execution_count": null,
   "id": "57407a24",
   "metadata": {},
   "outputs": [],
   "source": []
  },
  {
   "cell_type": "code",
   "execution_count": null,
   "id": "8299959f",
   "metadata": {},
   "outputs": [],
   "source": []
  },
  {
   "cell_type": "code",
   "execution_count": null,
   "id": "5d95786f",
   "metadata": {},
   "outputs": [],
   "source": []
  },
  {
   "cell_type": "code",
   "execution_count": null,
   "id": "a40db14d",
   "metadata": {},
   "outputs": [],
   "source": []
  },
  {
   "cell_type": "code",
   "execution_count": null,
   "id": "d50a3b85",
   "metadata": {},
   "outputs": [],
   "source": []
  },
  {
   "cell_type": "code",
   "execution_count": null,
   "id": "ab010a12",
   "metadata": {},
   "outputs": [],
   "source": []
  },
  {
   "cell_type": "code",
   "execution_count": null,
   "id": "8aa28ae8",
   "metadata": {},
   "outputs": [],
   "source": []
  },
  {
   "cell_type": "code",
   "execution_count": null,
   "id": "27c65c25",
   "metadata": {},
   "outputs": [],
   "source": []
  },
  {
   "cell_type": "code",
   "execution_count": null,
   "id": "3413dd99",
   "metadata": {},
   "outputs": [],
   "source": []
  },
  {
   "cell_type": "code",
   "execution_count": null,
   "id": "577eb9db",
   "metadata": {},
   "outputs": [],
   "source": []
  }
 ],
 "metadata": {
  "kernelspec": {
   "display_name": "Python 3 (ipykernel)",
   "language": "python",
   "name": "python3"
  },
  "language_info": {
   "codemirror_mode": {
    "name": "ipython",
    "version": 3
   },
   "file_extension": ".py",
   "mimetype": "text/x-python",
   "name": "python",
   "nbconvert_exporter": "python",
   "pygments_lexer": "ipython3",
   "version": "3.9.12"
  }
 },
 "nbformat": 4,
 "nbformat_minor": 5
}
